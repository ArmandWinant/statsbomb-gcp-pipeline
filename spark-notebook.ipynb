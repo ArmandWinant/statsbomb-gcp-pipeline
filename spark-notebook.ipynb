{
 "cells": [
  {
   "cell_type": "code",
   "execution_count": 1,
   "metadata": {},
   "outputs": [],
   "source": [
    "from pyspark.sql import SparkSession, types, functions as F\n",
    "import datetime"
   ]
  },
  {
   "cell_type": "code",
   "execution_count": 2,
   "metadata": {},
   "outputs": [
    {
     "name": "stderr",
     "output_type": "stream",
     "text": [
      "25/03/31 15:23:42 WARN Utils: Your hostname, Bastiens-MacBook-Pro.local resolves to a loopback address: 127.0.0.1; using 10.243.218.61 instead (on interface en0)\n",
      "25/03/31 15:23:42 WARN Utils: Set SPARK_LOCAL_IP if you need to bind to another address\n",
      "Setting default log level to \"WARN\".\n",
      "To adjust logging level use sc.setLogLevel(newLevel). For SparkR, use setLogLevel(newLevel).\n",
      "25/03/31 15:23:44 WARN NativeCodeLoader: Unable to load native-hadoop library for your platform... using builtin-java classes where applicable\n"
     ]
    }
   ],
   "source": [
    "spark = SparkSession.builder\\\n",
    "          .master('local[*]')\\\n",
    "          .appName('test')\\\n",
    "          .getOrCreate()"
   ]
  },
  {
   "cell_type": "markdown",
   "metadata": {},
   "source": [
    "## Measurements"
   ]
  },
  {
   "cell_type": "code",
   "execution_count": 12,
   "metadata": {},
   "outputs": [],
   "source": [
    "def get_datetime(day, s):\n",
    "  delta = datetime.timedelta(seconds=s)\n",
    "  return day + delta\n",
    "\n",
    "get_datetime_udf = F.udf(get_datetime, returnType=types.TimestampType())"
   ]
  },
  {
   "cell_type": "code",
   "execution_count": 13,
   "metadata": {},
   "outputs": [],
   "source": [
    "def get_datetime_hour(d):\n",
    "  return d.hour\n",
    "\n",
    "get_datetime_hour_udf = F.udf(get_datetime_hour, returnType=types.IntegerType())"
   ]
  },
  {
   "cell_type": "code",
   "execution_count": 14,
   "metadata": {},
   "outputs": [],
   "source": [
    "measurements_schema = types.StructType([\n",
    "  types.StructField('day', types.TimestampType(), False),\n",
    "  types.StructField('interval', types.IntegerType(), False),\n",
    "  types.StructField('detid', types.StringType(), False),\n",
    "  types.StructField('flow', types.IntegerType(), True),\n",
    "  types.StructField('occ', types.FloatType(), True),\n",
    "  types.StructField('error', types.FloatType(), True),\n",
    "  types.StructField('city', types.StringType(), False),\n",
    "  types.StructField('speed', types.FloatType(), True)\n",
    "])"
   ]
  },
  {
   "cell_type": "code",
   "execution_count": 15,
   "metadata": {},
   "outputs": [],
   "source": [
    "measurements_df = spark.read\\\n",
    "                        .option('header', True)\\\n",
    "                        .schema(measurements_schema)\\\n",
    "                        .csv('./data/measurements_test.csv')"
   ]
  },
  {
   "cell_type": "code",
   "execution_count": 16,
   "metadata": {},
   "outputs": [],
   "source": [
    "measurements_df = measurements_df\\\n",
    "  .withColumn('error', F.col('error').cast('integer'))\\\n",
    "  .withColumn('datetime', get_datetime_udf('day', 'interval'))\\\n",
    "  .withColumn(\"date\", F.to_date(\"day\"))\\\n",
    "  .withColumn('hour', get_datetime_hour_udf('datetime'))\\\n",
    "  .drop('interval', 'datetime', 'day')"
   ]
  },
  {
   "cell_type": "code",
   "execution_count": 8,
   "metadata": {},
   "outputs": [
    {
     "name": "stdout",
     "output_type": "stream",
     "text": [
      "root\n",
      " |-- detid: string (nullable = true)\n",
      " |-- flow: integer (nullable = true)\n",
      " |-- occ: float (nullable = true)\n",
      " |-- error: integer (nullable = true)\n",
      " |-- city: string (nullable = true)\n",
      " |-- speed: float (nullable = true)\n",
      " |-- date: date (nullable = true)\n",
      " |-- hour: integer (nullable = true)\n",
      "\n"
     ]
    }
   ],
   "source": [
    "measurements_df.printSchema()"
   ]
  },
  {
   "cell_type": "code",
   "execution_count": 14,
   "metadata": {},
   "outputs": [],
   "source": [
    "agg_measurements_df = measurements_df \\\n",
    "                    .groupBy(['city', 'detid', 'date', 'hour'])\\\n",
    "                    .agg({\n",
    "                      \"flow\": \"avg\",\n",
    "                      \"occ\": \"avg\",\n",
    "                      \"speed\": \"avg\",\n",
    "                      \"error\": \"array_agg\"\n",
    "                    })"
   ]
  },
  {
   "cell_type": "code",
   "execution_count": 15,
   "metadata": {},
   "outputs": [
    {
     "name": "stderr",
     "output_type": "stream",
     "text": [
      "[Stage 4:=======================================>                   (2 + 1) / 3]\r"
     ]
    },
    {
     "name": "stdout",
     "output_type": "stream",
     "text": [
      "+--------+--------+----------+----+--------------------+---------+--------------------+----------+\n",
      "|    city|   detid|      date|hour| collect_list(error)|avg(flow)|            avg(occ)|avg(speed)|\n",
      "+--------+--------+----------+----+--------------------+---------+--------------------+----------+\n",
      "|augsburg|06.X-2li|2017-05-06|   0|[1, 1, 1, 1, 1, 1...|     14.0|0.002499999944120...|      NULL|\n",
      "|augsburg|06.X-2li|2017-05-06|   1|[1, 1, 1, 1, 1, 1...|      4.0|                 0.0|      NULL|\n",
      "|augsburg|06.X-2li|2017-05-06|   2|[1, 1, 1, 1, 1, 1...|      7.0|                 0.0|      NULL|\n",
      "|augsburg|06.X-2li|2017-05-06|   3|[1, 1, 1, 1, 1, 1...|      6.0|                 0.0|      NULL|\n",
      "|augsburg|06.X-2li|2017-05-06|   4|[1, 1, 1, 1, 1, 1...|      5.0|                 0.0|      NULL|\n",
      "|augsburg|06.X-2li|2017-05-06|   5|[1, 1, 1, 1, 1, 1...|     14.0| 0.02500000037252903|      NULL|\n",
      "|augsburg|06.X-2li|2017-05-06|   6|[1, 1, 1, 1, 1, 1...|     13.0|0.012500000186264515|      NULL|\n",
      "|augsburg|06.X-2li|2017-05-06|   7|[1, 1, 1, 1, 1, 1...|     28.0|  0.0724999993108213|      NULL|\n",
      "|augsburg|06.X-2li|2017-05-06|   8|[1, 1, 1, 1, 1, 1...|     44.0|  0.1550000011920929|      NULL|\n",
      "|augsburg|06.X-2li|2017-05-06|   9|[1, 1, 1, 1, 1, 1...|     84.0| 0.35999999567866325|      NULL|\n",
      "+--------+--------+----------+----+--------------------+---------+--------------------+----------+\n",
      "only showing top 10 rows\n",
      "\n"
     ]
    },
    {
     "name": "stderr",
     "output_type": "stream",
     "text": [
      "                                                                                \r"
     ]
    }
   ],
   "source": [
    "agg_measurements_df.show(10)"
   ]
  },
  {
   "cell_type": "code",
   "execution_count": 9,
   "metadata": {},
   "outputs": [
    {
     "name": "stderr",
     "output_type": "stream",
     "text": [
      "                                                                                \r"
     ]
    },
    {
     "name": "stdout",
     "output_type": "stream",
     "text": [
      "+--------+----+----+-----+--------+-----+----------+----+\n",
      "|   detid|flow| occ|error|    city|speed|      date|hour|\n",
      "+--------+----+----+-----+--------+-----+----------+----+\n",
      "|06.X-2li|  12| 0.0|    1|augsburg| NULL|2017-05-06|   0|\n",
      "|06.X-2li|  12| 0.0|    1|augsburg| NULL|2017-05-06|   0|\n",
      "|06.X-2li|  12| 0.0|    1|augsburg| NULL|2017-05-06|   0|\n",
      "|06.X-2li|  16| 0.0|    1|augsburg| NULL|2017-05-06|   0|\n",
      "|06.X-2li|  16| 0.0|    1|augsburg| NULL|2017-05-06|   0|\n",
      "|06.X-2li|  16| 0.0|    1|augsburg| NULL|2017-05-06|   0|\n",
      "|06.X-2li|  20| 0.0|    1|augsburg| NULL|2017-05-06|   0|\n",
      "|06.X-2li|  20| 0.0|    1|augsburg| NULL|2017-05-06|   0|\n",
      "|06.X-2li|  20| 0.0|    1|augsburg| NULL|2017-05-06|   0|\n",
      "|06.X-2li|   8|0.01|    1|augsburg| NULL|2017-05-06|   0|\n",
      "|06.X-2li|   8|0.01|    1|augsburg| NULL|2017-05-06|   0|\n",
      "|06.X-2li|   8|0.01|    1|augsburg| NULL|2017-05-06|   0|\n",
      "|06.X-2li|   4| 0.0|    1|augsburg| NULL|2017-05-06|   1|\n",
      "|06.X-2li|   4| 0.0|    1|augsburg| NULL|2017-05-06|   1|\n",
      "|06.X-2li|   4| 0.0|    1|augsburg| NULL|2017-05-06|   1|\n",
      "|06.X-2li|   0| 0.0|    1|augsburg| NULL|2017-05-06|   1|\n",
      "|06.X-2li|   0| 0.0|    1|augsburg| NULL|2017-05-06|   1|\n",
      "|06.X-2li|   0| 0.0|    1|augsburg| NULL|2017-05-06|   1|\n",
      "|06.X-2li|   4| 0.0|    1|augsburg| NULL|2017-05-06|   1|\n",
      "|06.X-2li|   4| 0.0|    1|augsburg| NULL|2017-05-06|   1|\n",
      "+--------+----+----+-----+--------+-----+----------+----+\n",
      "only showing top 20 rows\n",
      "\n"
     ]
    }
   ],
   "source": [
    "measurements_df.show(20)"
   ]
  },
  {
   "cell_type": "markdown",
   "metadata": {},
   "source": [
    "## Detectors"
   ]
  },
  {
   "cell_type": "code",
   "execution_count": 3,
   "metadata": {},
   "outputs": [],
   "source": [
    "detectors_schema = types.StructType([\n",
    "  types.StructField('detid', types.StringType(), False),\n",
    "  types.StructField('length', types.DoubleType(), False),\n",
    "  types.StructField('pos', types.DoubleType(), False),\n",
    "  types.StructField('fclass', types.StringType(), False),\n",
    "  types.StructField('road', types.StringType(), False),\n",
    "  types.StructField('limit', types.IntegerType(), False),\n",
    "  types.StructField('citycode', types.StringType(), False),\n",
    "  types.StructField('lanes', types.IntegerType(), False),\n",
    "  types.StructField('linkid', types.IntegerType(), False),\n",
    "  types.StructField('long', types.DoubleType(), False),\n",
    "  types.StructField('lat', types.DoubleType(), False)\n",
    "])"
   ]
  },
  {
   "cell_type": "code",
   "execution_count": 4,
   "metadata": {},
   "outputs": [],
   "source": [
    "detectors_df = spark.read\\\n",
    "                .option(\"header\", True)\\\n",
    "                .schema(detectors_schema)\\\n",
    "                .csv('./data/detectors_public.csv')"
   ]
  },
  {
   "cell_type": "code",
   "execution_count": 5,
   "metadata": {},
   "outputs": [
    {
     "name": "stdout",
     "output_type": "stream",
     "text": [
      "root\n",
      " |-- detid: string (nullable = true)\n",
      " |-- length: double (nullable = true)\n",
      " |-- pos: double (nullable = true)\n",
      " |-- fclass: string (nullable = true)\n",
      " |-- road: string (nullable = true)\n",
      " |-- limit: integer (nullable = true)\n",
      " |-- citycode: string (nullable = true)\n",
      " |-- lanes: integer (nullable = true)\n",
      " |-- linkid: integer (nullable = true)\n",
      " |-- long: double (nullable = true)\n",
      " |-- lat: double (nullable = true)\n",
      "\n"
     ]
    }
   ],
   "source": [
    "detectors_df.printSchema()"
   ]
  },
  {
   "cell_type": "markdown",
   "metadata": {},
   "source": [
    "## Links"
   ]
  },
  {
   "cell_type": "code",
   "execution_count": 7,
   "metadata": {},
   "outputs": [],
   "source": [
    "links_schema = types.StructType([\n",
    "  types.StructField('long', types.DoubleType(), False),\n",
    "  types.StructField('lat', types.DoubleType(), False),\n",
    "  types.StructField('order', types.IntegerType(), False),\n",
    "  types.StructField('piece', types.IntegerType(), False),\n",
    "  types.StructField('linkid', types.IntegerType(), False),\n",
    "  types.StructField('group', types.FloatType(), False),\n",
    "  types.StructField('citycode', types.StringType(), False)\n",
    "])"
   ]
  },
  {
   "cell_type": "code",
   "execution_count": 8,
   "metadata": {},
   "outputs": [],
   "source": [
    "links_df = spark.read\\\n",
    "            .option(\"header\", True)\\\n",
    "            .schema(links_schema)\\\n",
    "            .csv('./data/links.csv')"
   ]
  },
  {
   "cell_type": "code",
   "execution_count": 9,
   "metadata": {},
   "outputs": [
    {
     "name": "stdout",
     "output_type": "stream",
     "text": [
      "root\n",
      " |-- long: double (nullable = true)\n",
      " |-- lat: double (nullable = true)\n",
      " |-- order: integer (nullable = true)\n",
      " |-- piece: integer (nullable = true)\n",
      " |-- linkid: integer (nullable = true)\n",
      " |-- group: float (nullable = true)\n",
      " |-- citycode: string (nullable = true)\n",
      "\n"
     ]
    }
   ],
   "source": [
    "links_df.printSchema()"
   ]
  },
  {
   "cell_type": "code",
   "execution_count": 10,
   "metadata": {},
   "outputs": [
    {
     "name": "stdout",
     "output_type": "stream",
     "text": [
      "+----------+----------+-----+-----+------+-----+--------+\n",
      "|      long|       lat|order|piece|linkid|group|citycode|\n",
      "+----------+----------+-----+-----+------+-----+--------+\n",
      "|10.8910158|48.3610789|    1|    1|     0|  0.1|augsburg|\n",
      "|10.8908938|48.3609933|    2|    1|     0|  0.1|augsburg|\n",
      "|10.8906417|48.3608526|    3|    1|     0|  0.1|augsburg|\n",
      "|10.8904043|48.3607189|    4|    1|     0|  0.1|augsburg|\n",
      "|10.8899939| 48.360497|    5|    1|     0|  0.1|augsburg|\n",
      "|10.8909796|48.3611074|    1|    1|     1|  1.1|augsburg|\n",
      "|10.8908589|48.3610201|    2|    1|     1|  1.1|augsburg|\n",
      "| 10.890588|48.3608561|    3|    1|     1|  1.1|augsburg|\n",
      "|10.8903842|48.3607421|    4|    1|     1|  1.1|augsburg|\n",
      "|10.8901803|48.3606378|    5|    1|     1|  1.1|augsburg|\n",
      "|10.8899577|48.3605166|    6|    1|     1|  1.1|augsburg|\n",
      "|10.8935881|48.3648605|    1|    1|     2|  2.1|augsburg|\n",
      "|10.8935827| 48.364693|    2|    1|     2|  2.1|augsburg|\n",
      "|10.8934379|48.3644453|    3|    1|     2|  2.1|augsburg|\n",
      "|10.8928666|48.3636719|    4|    1|     2|  2.1|augsburg|\n",
      "|10.8921289|48.3625901|    5|    1|     2|  2.1|augsburg|\n",
      "|10.8914557|48.3616723|    6|    1|     2|  2.1|augsburg|\n",
      "|10.8911768|48.3612829|    7|    1|     2|  2.1|augsburg|\n",
      "|10.8910507|48.3611644|    8|    1|     2|  2.1|augsburg|\n",
      "|10.8909796|48.3611074|    9|    1|     2|  2.1|augsburg|\n",
      "|10.8915871|48.3618309|    1|    1|     3|  3.1|augsburg|\n",
      "|10.8914584| 48.361585|    2|    1|     3|  3.1|augsburg|\n",
      "|10.8913001|48.3613765|    3|    1|     3|  3.1|augsburg|\n",
      "|10.8912196|48.3612678|    4|    1|     3|  3.1|augsburg|\n",
      "|10.8911607|48.3611894|    5|    1|     3|  3.1|augsburg|\n",
      "|10.8910239|48.3610914|    6|    1|     3|  3.1|augsburg|\n",
      "|10.8908629|48.3608383|    1|    1|     4|  4.1|augsburg|\n",
      "|10.8910641|48.3609541|    2|    1|     4|  4.1|augsburg|\n",
      "|10.8912143|48.3610789|    3|    1|     4|  4.1|augsburg|\n",
      "|10.8913887|48.3613266|    4|    1|     4|  4.1|augsburg|\n",
      "+----------+----------+-----+-----+------+-----+--------+\n",
      "only showing top 30 rows\n",
      "\n"
     ]
    }
   ],
   "source": [
    "links_df.show(30)"
   ]
  },
  {
   "cell_type": "markdown",
   "metadata": {},
   "source": [
    "## Merge"
   ]
  },
  {
   "cell_type": "code",
   "execution_count": 22,
   "metadata": {},
   "outputs": [],
   "source": [
    "df = measurements_df.join(\n",
    "  F.broadcast(detectors_df),\n",
    "  on=['detid'],\n",
    "  how='left',\n",
    ")"
   ]
  },
  {
   "cell_type": "code",
   "execution_count": 23,
   "metadata": {},
   "outputs": [
    {
     "name": "stdout",
     "output_type": "stream",
     "text": [
      "+--------+----+----+-----+--------+-----+----------+----+-----------------+-----------------+--------+--------------------+-----+--------+-----+------+----------+----------+\n",
      "|   detid|flow| occ|error|    city|speed|      date|hour|           length|              pos|  fclass|                road|limit|citycode|lanes|linkid|      long|       lat|\n",
      "+--------+----+----+-----+--------+-----+----------+----+-----------------+-----------------+--------+--------------------+-----+--------+-----+------+----------+----------+\n",
      "|06.X-2li|  12| 0.0|    1|augsburg| NULL|2017-05-06|   0|0.112002945639535|0.003422816566385|tertiary|Reichenberger Straße|   30|augsburg|    1|   737|10.9294921|48.3636549|\n",
      "|06.X-2li|  12| 0.0|    1|augsburg| NULL|2017-05-06|   0|0.112002945639535|0.003422816566385|tertiary|Reichenberger Straße|   30|augsburg|    1|   737|10.9294921|48.3636549|\n",
      "|06.X-2li|  12| 0.0|    1|augsburg| NULL|2017-05-06|   0|0.112002945639535|0.003422816566385|tertiary|Reichenberger Straße|   30|augsburg|    1|   737|10.9294921|48.3636549|\n",
      "|06.X-2li|  16| 0.0|    1|augsburg| NULL|2017-05-06|   0|0.112002945639535|0.003422816566385|tertiary|Reichenberger Straße|   30|augsburg|    1|   737|10.9294921|48.3636549|\n",
      "|06.X-2li|  16| 0.0|    1|augsburg| NULL|2017-05-06|   0|0.112002945639535|0.003422816566385|tertiary|Reichenberger Straße|   30|augsburg|    1|   737|10.9294921|48.3636549|\n",
      "|06.X-2li|  16| 0.0|    1|augsburg| NULL|2017-05-06|   0|0.112002945639535|0.003422816566385|tertiary|Reichenberger Straße|   30|augsburg|    1|   737|10.9294921|48.3636549|\n",
      "|06.X-2li|  20| 0.0|    1|augsburg| NULL|2017-05-06|   0|0.112002945639535|0.003422816566385|tertiary|Reichenberger Straße|   30|augsburg|    1|   737|10.9294921|48.3636549|\n",
      "|06.X-2li|  20| 0.0|    1|augsburg| NULL|2017-05-06|   0|0.112002945639535|0.003422816566385|tertiary|Reichenberger Straße|   30|augsburg|    1|   737|10.9294921|48.3636549|\n",
      "|06.X-2li|  20| 0.0|    1|augsburg| NULL|2017-05-06|   0|0.112002945639535|0.003422816566385|tertiary|Reichenberger Straße|   30|augsburg|    1|   737|10.9294921|48.3636549|\n",
      "|06.X-2li|   8|0.01|    1|augsburg| NULL|2017-05-06|   0|0.112002945639535|0.003422816566385|tertiary|Reichenberger Straße|   30|augsburg|    1|   737|10.9294921|48.3636549|\n",
      "+--------+----+----+-----+--------+-----+----------+----+-----------------+-----------------+--------+--------------------+-----+--------+-----+------+----------+----------+\n",
      "only showing top 10 rows\n",
      "\n"
     ]
    }
   ],
   "source": [
    "df.show(10)"
   ]
  },
  {
   "cell_type": "code",
   "execution_count": null,
   "metadata": {},
   "outputs": [],
   "source": [
    "spark.stop()"
   ]
  }
 ],
 "metadata": {
  "kernelspec": {
   "display_name": ".venv",
   "language": "python",
   "name": "python3"
  },
  "language_info": {
   "codemirror_mode": {
    "name": "ipython",
    "version": 3
   },
   "file_extension": ".py",
   "mimetype": "text/x-python",
   "name": "python",
   "nbconvert_exporter": "python",
   "pygments_lexer": "ipython3",
   "version": "3.9.6"
  }
 },
 "nbformat": 4,
 "nbformat_minor": 2
}
