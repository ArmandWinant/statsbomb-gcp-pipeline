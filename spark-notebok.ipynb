{
 "cells": [
  {
   "cell_type": "code",
   "execution_count": 1,
   "metadata": {},
   "outputs": [],
   "source": [
    "from pyspark.sql import SparkSession, types, functions as F\n",
    "import datetime"
   ]
  },
  {
   "cell_type": "code",
   "execution_count": 2,
   "metadata": {},
   "outputs": [
    {
     "name": "stderr",
     "output_type": "stream",
     "text": [
      "25/03/28 13:08:39 WARN Utils: Your hostname, Bastiens-MacBook-Pro.local resolves to a loopback address: 127.0.0.1; using 10.243.216.250 instead (on interface en0)\n",
      "25/03/28 13:08:39 WARN Utils: Set SPARK_LOCAL_IP if you need to bind to another address\n",
      "Setting default log level to \"WARN\".\n",
      "To adjust logging level use sc.setLogLevel(newLevel). For SparkR, use setLogLevel(newLevel).\n",
      "25/03/28 13:08:40 WARN NativeCodeLoader: Unable to load native-hadoop library for your platform... using builtin-java classes where applicable\n"
     ]
    }
   ],
   "source": [
    "spark = SparkSession.builder\\\n",
    "          .master('local[*]')\\\n",
    "          .appName('test')\\\n",
    "          .getOrCreate()"
   ]
  },
  {
   "cell_type": "markdown",
   "metadata": {},
   "source": [
    "## Measurements"
   ]
  },
  {
   "cell_type": "code",
   "execution_count": null,
   "metadata": {},
   "outputs": [],
   "source": [
    "def get_datetime(day, s):\n",
    "  delta = datetime.timedelta(seconds=s)\n",
    "  return day + delta\n",
    "\n",
    "get_datetime_udf = F.udf(get_datetime, returnType=types.TimestampType())"
   ]
  },
  {
   "cell_type": "code",
   "execution_count": null,
   "metadata": {},
   "outputs": [],
   "source": [
    "def get_datetime_hour(d):\n",
    "  return d.hour\n",
    "\n",
    "get_datetime_hour_udf = F.udf(get_datetime_hour, returnType=types.IntegerType())"
   ]
  },
  {
   "cell_type": "code",
   "execution_count": 62,
   "metadata": {},
   "outputs": [],
   "source": [
    "measurements_schema = types.StructType([\n",
    "  types.StructField('day', types.TimestampType(), False),\n",
    "  types.StructField('interval', types.IntegerType(), False),\n",
    "  types.StructField('detid', types.StringType(), False),\n",
    "  types.StructField('flow', types.IntegerType(), True),\n",
    "  types.StructField('occ', types.FloatType(), True),\n",
    "  types.StructField('error', types.FloatType(), True),\n",
    "  types.StructField('city', types.StringType(), False),\n",
    "  types.StructField('speed', types.FloatType(), True)\n",
    "])"
   ]
  },
  {
   "cell_type": "code",
   "execution_count": null,
   "metadata": {},
   "outputs": [],
   "source": [
    "measurements_df = spark.read\\\n",
    "                        .option('header', True)\\\n",
    "                        .schema(measurements_schema)\\\n",
    "                        .csv('./data/measurements_test.csv')"
   ]
  },
  {
   "cell_type": "code",
   "execution_count": null,
   "metadata": {},
   "outputs": [],
   "source": [
    "measurements_df = measurements_df\\\n",
    "  .withColumn('error', F.col('error').cast('integer'))\\\n",
    "  .withColumn('datetime', get_datetime_udf('day', 'interval'))\\\n",
    "  .withColumn('hour', get_datetime_hour_udf('datetime'))\\\n",
    "  .drop('day', 'interval')"
   ]
  },
  {
   "cell_type": "code",
   "execution_count": null,
   "metadata": {},
   "outputs": [
    {
     "name": "stdout",
     "output_type": "stream",
     "text": [
      "root\n",
      " |-- detid: string (nullable = true)\n",
      " |-- flow: integer (nullable = true)\n",
      " |-- occ: float (nullable = true)\n",
      " |-- error: integer (nullable = true)\n",
      " |-- city: string (nullable = true)\n",
      " |-- speed: float (nullable = true)\n",
      " |-- datetime: timestamp (nullable = true)\n",
      "\n"
     ]
    }
   ],
   "source": [
    "measurements_df.printSchema()"
   ]
  },
  {
   "cell_type": "code",
   "execution_count": null,
   "metadata": {},
   "outputs": [
    {
     "name": "stderr",
     "output_type": "stream",
     "text": [
      "[Stage 0:>                                                          (0 + 1) / 1]\r"
     ]
    },
    {
     "name": "stdout",
     "output_type": "stream",
     "text": [
      "+--------+----+----+-----+--------+-----+-------------------+\n",
      "|   detid|flow| occ|error|    city|speed|           datetime|\n",
      "+--------+----+----+-----+--------+-----+-------------------+\n",
      "|06.X-2li|  12| 0.0|    1|augsburg| NULL|2017-05-06 00:00:00|\n",
      "|06.X-2li|  12| 0.0|    1|augsburg| NULL|2017-05-06 00:05:00|\n",
      "|06.X-2li|  12| 0.0|    1|augsburg| NULL|2017-05-06 00:10:00|\n",
      "|06.X-2li|  16| 0.0|    1|augsburg| NULL|2017-05-06 00:15:00|\n",
      "|06.X-2li|  16| 0.0|    1|augsburg| NULL|2017-05-06 00:20:00|\n",
      "|06.X-2li|  16| 0.0|    1|augsburg| NULL|2017-05-06 00:25:00|\n",
      "|06.X-2li|  20| 0.0|    1|augsburg| NULL|2017-05-06 00:30:00|\n",
      "|06.X-2li|  20| 0.0|    1|augsburg| NULL|2017-05-06 00:35:00|\n",
      "|06.X-2li|  20| 0.0|    1|augsburg| NULL|2017-05-06 00:40:00|\n",
      "|06.X-2li|   8|0.01|    1|augsburg| NULL|2017-05-06 00:45:00|\n",
      "|06.X-2li|   8|0.01|    1|augsburg| NULL|2017-05-06 00:50:00|\n",
      "|06.X-2li|   8|0.01|    1|augsburg| NULL|2017-05-06 00:55:00|\n",
      "|06.X-2li|   4| 0.0|    1|augsburg| NULL|2017-05-06 01:00:00|\n",
      "|06.X-2li|   4| 0.0|    1|augsburg| NULL|2017-05-06 01:05:00|\n",
      "|06.X-2li|   4| 0.0|    1|augsburg| NULL|2017-05-06 01:10:00|\n",
      "|06.X-2li|   0| 0.0|    1|augsburg| NULL|2017-05-06 01:15:00|\n",
      "|06.X-2li|   0| 0.0|    1|augsburg| NULL|2017-05-06 01:20:00|\n",
      "|06.X-2li|   0| 0.0|    1|augsburg| NULL|2017-05-06 01:25:00|\n",
      "|06.X-2li|   4| 0.0|    1|augsburg| NULL|2017-05-06 01:30:00|\n",
      "|06.X-2li|   4| 0.0|    1|augsburg| NULL|2017-05-06 01:35:00|\n",
      "+--------+----+----+-----+--------+-----+-------------------+\n",
      "only showing top 20 rows\n",
      "\n"
     ]
    },
    {
     "name": "stderr",
     "output_type": "stream",
     "text": [
      "                                                                                \r"
     ]
    }
   ],
   "source": [
    "measurements_df.writ"
   ]
  },
  {
   "cell_type": "markdown",
   "metadata": {},
   "source": [
    "## Detectors"
   ]
  },
  {
   "cell_type": "code",
   "execution_count": null,
   "metadata": {},
   "outputs": [],
   "source": [
    "detectors_schema = types.StructType([\n",
    "  types.StructField('detid', types.StringType(), False),\n",
    "  types.StructField('length', types.DoubleType(), False),\n",
    "  types.StructField('pos', types.DoubleType(), False),\n",
    "  types.StructField('fclass', types.StringType(), False),\n",
    "  types.StructField('road', types.StringType(), False),\n",
    "  types.StructField('limit', types.IntegerType(), False),\n",
    "  types.StructField('citycode', types.StringType(), False),\n",
    "  types.StructField('lanes', types.IntegerType(), False),\n",
    "  types.StructField('linkid', types.IntegerType(), False),\n",
    "  types.StructField('long', types.DoubleType(), False),\n",
    "  types.StructField('lat', types.DoubleType(), False)\n",
    "])"
   ]
  },
  {
   "cell_type": "code",
   "execution_count": 13,
   "metadata": {},
   "outputs": [],
   "source": [
    "detectors_df = spark.read\\\n",
    "                .option(\"header\", True)\\\n",
    "                .schema(detectors_schema)\\\n",
    "                .csv('./data/detectors_public.csv')"
   ]
  },
  {
   "cell_type": "code",
   "execution_count": 14,
   "metadata": {},
   "outputs": [
    {
     "name": "stdout",
     "output_type": "stream",
     "text": [
      "root\n",
      " |-- detid: string (nullable = true)\n",
      " |-- length: double (nullable = true)\n",
      " |-- pos: double (nullable = true)\n",
      " |-- fclass: string (nullable = true)\n",
      " |-- road: string (nullable = true)\n",
      " |-- limit: integer (nullable = true)\n",
      " |-- citycode: string (nullable = true)\n",
      " |-- lanes: integer (nullable = true)\n",
      " |-- linkid: integer (nullable = true)\n",
      " |-- long: double (nullable = true)\n",
      " |-- lat: double (nullable = true)\n",
      "\n"
     ]
    }
   ],
   "source": [
    "detectors_df.printSchema()"
   ]
  },
  {
   "cell_type": "code",
   "execution_count": 15,
   "metadata": {},
   "outputs": [
    {
     "name": "stdout",
     "output_type": "stream",
     "text": [
      "+------+-----------------+-----------------+-----------+----------------+-----+--------+-----+------+----------+----------+\n",
      "| detid|           length|              pos|     fclass|            road|limit|citycode|lanes|linkid|      long|       lat|\n",
      "+------+-----------------+-----------------+-----------+----------------+-----+--------+-----+------+----------+----------+\n",
      "|U1-52G|0.196036689548578|0.005511921838942|  secondary|Gögginger Straße|   50|augsburg|    1|    72|10.8895527| 48.359957|\n",
      "|U1-51G|0.130039071784385|0.004013209518671|  secondary|Gögginger Straße|   50|augsburg|    1|    73| 10.889601|48.3599454|\n",
      "|U1-52L|0.155863214591286|0.022227823915315|  secondary|Gögginger Straße|   50|augsburg|    1|    70|10.8893555|48.3598759|\n",
      "|U1-51L|0.197675412740605|0.021889369247481|  secondary|Gögginger Straße|   50|augsburg|    1|    71|10.8893958|48.3598617|\n",
      "| U1-62|0.065182655061287|0.024465133197684|  secondary|   Rosenaustraße|   50|augsburg|    1|    68|10.8893609|48.3605781|\n",
      "| U1-61|0.436383966069182|0.021136542430776|  secondary|   Rosenaustraße|   50|augsburg|    1|    67|10.8893435|48.3605558|\n",
      "| U1-42|0.099691259701495|0.039163079997061|   tertiary|Gögginger Straße|   50|augsburg|    1|     0|10.8904043|48.3607189|\n",
      "| U1-41|0.100387211424418|0.040348813783393|   tertiary|Gögginger Straße|   50|augsburg|    1|     1|10.8903842|48.3607421|\n",
      "|  U1-2|0.092166064066626| 0.03813064814834|   tertiary|Gögginger Straße|   50|augsburg|    1|    69| 10.890419|48.3606031|\n",
      "|  U1-3|0.473093419220592|0.015152071405354|   tertiary|   Stettenstraße|   50|augsburg|    1|   365|10.8912411|48.3607617|\n",
      "| U1-11|0.462150085312665| 0.02439612227856|   tertiary|    Hermanstraße|   50|augsburg|    1|     2|10.8911768|48.3612829|\n",
      "| U1-12|0.093054643572405| 0.02463298744913|   tertiary|    Hermanstraße|   50|augsburg|    1|     3|10.8912196|48.3612678|\n",
      "| U2-1R|0.189287632924729|0.031504014769015|  secondary|Gögginger Straße|   50|augsburg|    1|    75|10.8883739|48.3591176|\n",
      "| U2-11|0.188083376043536|0.031997526359001|  secondary|Gögginger Straße|   50|augsburg|    1|    76|10.8884208|48.3591051|\n",
      "| U2-12|0.063674293032176|0.032028715175314|  secondary|Gögginger Straße|   50|augsburg|    1|    74|10.8884771|48.3590918|\n",
      "| U2-21|0.097344528990126|0.027047552105686|  secondary|Gögginger Straße|   50|augsburg|    1|    79|10.8880788|48.3582657|\n",
      "| U2-22|0.095937360699466| 0.02466338707553|  secondary|Gögginger Straße|   50|augsburg|    1|    80|10.8881244|48.3582586|\n",
      "| U3-12|0.111829779559383|0.026902073316891|  secondary|Gögginger Straße|   50|augsburg|    1|    78|10.8877234|48.3581587|\n",
      "| U3-11|0.112663757015737|0.026863965836306|  secondary|Gögginger Straße|   50|augsburg|    1|    77|10.8876859|48.3581686|\n",
      "| U3-22|0.144961793514368|0.014403986250103|residential|    Elisenstraße|   30|augsburg|    1|    81|10.8871374|48.3579493|\n",
      "+------+-----------------+-----------------+-----------+----------------+-----+--------+-----+------+----------+----------+\n",
      "only showing top 20 rows\n",
      "\n"
     ]
    }
   ],
   "source": [
    "detectors_df.show(20)"
   ]
  },
  {
   "cell_type": "markdown",
   "metadata": {},
   "source": [
    "## Links"
   ]
  },
  {
   "cell_type": "code",
   "execution_count": 24,
   "metadata": {},
   "outputs": [],
   "source": [
    "links_schema = types.StructType([\n",
    "  types.StructField('long', types.DoubleType(), False),\n",
    "  types.StructField('lat', types.DoubleType(), False),\n",
    "  types.StructField('order', types.IntegerType(), False),\n",
    "  types.StructField('piece', types.IntegerType(), False),\n",
    "  types.StructField('linkid', types.IntegerType(), False),\n",
    "  types.StructField('group', types.FloatType(), False),\n",
    "  types.StructField('citycode', types.StringType(), False)\n",
    "])"
   ]
  },
  {
   "cell_type": "code",
   "execution_count": 26,
   "metadata": {},
   "outputs": [],
   "source": [
    "links_df = spark.read\\\n",
    "            .option(\"header\", True)\\\n",
    "            .schema(links_schema)\\\n",
    "            .csv('./data/links.csv')"
   ]
  },
  {
   "cell_type": "code",
   "execution_count": 27,
   "metadata": {},
   "outputs": [
    {
     "name": "stdout",
     "output_type": "stream",
     "text": [
      "root\n",
      " |-- long: double (nullable = true)\n",
      " |-- lat: double (nullable = true)\n",
      " |-- order: integer (nullable = true)\n",
      " |-- piece: integer (nullable = true)\n",
      " |-- linkid: integer (nullable = true)\n",
      " |-- group: float (nullable = true)\n",
      " |-- citycode: string (nullable = true)\n",
      "\n"
     ]
    }
   ],
   "source": [
    "links_df.printSchema()"
   ]
  },
  {
   "cell_type": "code",
   "execution_count": 28,
   "metadata": {},
   "outputs": [
    {
     "name": "stdout",
     "output_type": "stream",
     "text": [
      "+----------+----------+-----+-----+------+-----+--------+\n",
      "|      long|       lat|order|piece|linkid|group|citycode|\n",
      "+----------+----------+-----+-----+------+-----+--------+\n",
      "|10.8910158|48.3610789|    1|    1|     0|  0.1|augsburg|\n",
      "|10.8908938|48.3609933|    2|    1|     0|  0.1|augsburg|\n",
      "|10.8906417|48.3608526|    3|    1|     0|  0.1|augsburg|\n",
      "|10.8904043|48.3607189|    4|    1|     0|  0.1|augsburg|\n",
      "|10.8899939| 48.360497|    5|    1|     0|  0.1|augsburg|\n",
      "|10.8909796|48.3611074|    1|    1|     1|  1.1|augsburg|\n",
      "|10.8908589|48.3610201|    2|    1|     1|  1.1|augsburg|\n",
      "| 10.890588|48.3608561|    3|    1|     1|  1.1|augsburg|\n",
      "|10.8903842|48.3607421|    4|    1|     1|  1.1|augsburg|\n",
      "|10.8901803|48.3606378|    5|    1|     1|  1.1|augsburg|\n",
      "+----------+----------+-----+-----+------+-----+--------+\n",
      "only showing top 10 rows\n",
      "\n"
     ]
    }
   ],
   "source": [
    "links_df.show(10)"
   ]
  },
  {
   "cell_type": "code",
   "execution_count": 68,
   "metadata": {},
   "outputs": [],
   "source": [
    "spark.stop()"
   ]
  }
 ],
 "metadata": {
  "kernelspec": {
   "display_name": ".venv",
   "language": "python",
   "name": "python3"
  },
  "language_info": {
   "codemirror_mode": {
    "name": "ipython",
    "version": 3
   },
   "file_extension": ".py",
   "mimetype": "text/x-python",
   "name": "python",
   "nbconvert_exporter": "python",
   "pygments_lexer": "ipython3",
   "version": "3.9.6"
  }
 },
 "nbformat": 4,
 "nbformat_minor": 2
}
