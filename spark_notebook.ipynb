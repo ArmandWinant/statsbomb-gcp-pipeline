{
 "cells": [
  {
   "cell_type": "code",
   "execution_count": 2,
   "id": "b83071dd",
   "metadata": {},
   "outputs": [],
   "source": [
    "from pyspark.sql import SparkSession, types\n",
    "from pyspark.sql.functions import pandas_udf\n",
    "import pandas as pd"
   ]
  },
  {
   "cell_type": "code",
   "execution_count": 3,
   "id": "85b14c2f",
   "metadata": {},
   "outputs": [
    {
     "name": "stderr",
     "output_type": "stream",
     "text": [
      "Setting default log level to \"WARN\".\n",
      "To adjust logging level use sc.setLogLevel(newLevel). For SparkR, use setLogLevel(newLevel).\n",
      "25/04/08 23:03:07 WARN NativeCodeLoader: Unable to load native-hadoop library for your platform... using builtin-java classes where applicable\n"
     ]
    }
   ],
   "source": [
    "spark = SparkSession \\\n",
    "          .builder \\\n",
    "          .master('local[*]') \\\n",
    "          .appName('test') \\\n",
    "          .getOrCreate()"
   ]
  },
  {
   "cell_type": "markdown",
   "id": "228481e5",
   "metadata": {},
   "source": [
    "## Measurements"
   ]
  },
  {
   "cell_type": "code",
   "execution_count": 4,
   "id": "ebe884c0",
   "metadata": {},
   "outputs": [],
   "source": [
    "measurements_schema = types.StructType([\n",
    "  types.StructField('day', types.DateType(), nullable=False),\n",
    "  types.StructField('interval', types.IntegerType(), nullable=False),\n",
    "  types.StructField('detid', types.StringType(), nullable=False),\n",
    "  types.StructField('flow', types.IntegerType(), nullable=True),\n",
    "  types.StructField('occ', types.FloatType(), nullable=True),\n",
    "  types.StructField('error', types.IntegerType(), nullable=True),\n",
    "  types.StructField('city', types.StringType(), nullable=False),\n",
    "  types.StructField('speed', types.FloatType(), nullable=True)\n",
    "])"
   ]
  },
  {
   "cell_type": "code",
   "execution_count": 18,
   "id": "4d8c069e",
   "metadata": {},
   "outputs": [],
   "source": [
    "measurements_df = spark.read \\\n",
    "                    .option(\"header\", True) \\\n",
    "                    .schema(measurements_schema) \\\n",
    "                    .csv('./data/measurements_test.csv')"
   ]
  },
  {
   "cell_type": "code",
   "execution_count": null,
   "id": "85cdc2cd",
   "metadata": {},
   "outputs": [],
   "source": [
    "# @pandas_udf(types.TimestampType())\n",
    "# def get_timestamp(days: pd.Series, intervals: pd.Series) -> pd.Series:\n",
    "#   dts = pd.to_datetime(days)\n",
    "#   deltas = pd.to_timedelta(intervals, unit='s')\n",
    "#   return dts + deltas"
   ]
  },
  {
   "cell_type": "code",
   "execution_count": 19,
   "id": "852466cb",
   "metadata": {},
   "outputs": [],
   "source": [
    "@pandas_udf(types.IntegerType())\n",
    "def get_hour(intervals: pd.Series) -> pd.Series:\n",
    "  # deltas = pd.to_timedelta(intervals, unit='s')\n",
    "  # return deltas.dt.components.hours\n",
    "  return intervals.floordiv(3600)"
   ]
  },
  {
   "cell_type": "code",
   "execution_count": 20,
   "id": "2466f937",
   "metadata": {},
   "outputs": [],
   "source": [
    "measurements_df = measurements_df \\\n",
    "                    .withColumn('hour', get_hour('interval')) \\\n",
    "                    .drop('interval')"
   ]
  },
  {
   "cell_type": "code",
   "execution_count": 21,
   "id": "373242a1",
   "metadata": {},
   "outputs": [
    {
     "name": "stdout",
     "output_type": "stream",
     "text": [
      "root\n",
      " |-- day: date (nullable = true)\n",
      " |-- detid: string (nullable = true)\n",
      " |-- flow: integer (nullable = true)\n",
      " |-- occ: float (nullable = true)\n",
      " |-- error: integer (nullable = true)\n",
      " |-- city: string (nullable = true)\n",
      " |-- speed: float (nullable = true)\n",
      " |-- hour: integer (nullable = true)\n",
      "\n"
     ]
    }
   ],
   "source": [
    "measurements_df.printSchema()"
   ]
  },
  {
   "cell_type": "markdown",
   "id": "1f49c432",
   "metadata": {},
   "source": [
    "## Detectors"
   ]
  },
  {
   "cell_type": "code",
   "execution_count": 14,
   "id": "ecb47ef0",
   "metadata": {},
   "outputs": [],
   "source": [
    "detectors_schema = types.StructType([\n",
    "  types.StructField('detid', types.StringType()),\n",
    "  types.StructField('length', types.DoubleType()),\n",
    "  types.StructField('pos', types.DoubleType()),\n",
    "  types.StructField('fclass', types.StringType()),\n",
    "  types.StructField('road', types.StringType()),\n",
    "  types.StructField('limit', types.IntegerType()),\n",
    "  types.StructField('citycode', types.StringType()),\n",
    "  types.StructField('lanes', types.IntegerType()),\n",
    "  types.StructField('linkid', types.IntegerType()),\n",
    "  types.StructField('long', types.DoubleType()),\n",
    "  types.StructField('lat', types.DoubleType())\n",
    "])"
   ]
  },
  {
   "cell_type": "code",
   "execution_count": 15,
   "id": "97a118bb",
   "metadata": {},
   "outputs": [],
   "source": [
    "detectors_df = spark.read \\\n",
    "                .option(\"header\", True) \\\n",
    "                .schema(detectors_schema) \\\n",
    "                .csv('./data/detectors_public.csv')"
   ]
  },
  {
   "cell_type": "code",
   "execution_count": 24,
   "id": "2fd8ee16",
   "metadata": {},
   "outputs": [],
   "source": [
    "df = measurements_df.join(detectors_df, on='detid')"
   ]
  },
  {
   "cell_type": "code",
   "execution_count": 28,
   "id": "1705d29a",
   "metadata": {},
   "outputs": [
    {
     "data": {
      "text/plain": [
       "999999"
      ]
     },
     "execution_count": 28,
     "metadata": {},
     "output_type": "execute_result"
    }
   ],
   "source": [
    "df.count()"
   ]
  },
  {
   "cell_type": "markdown",
   "id": "c44bb22e",
   "metadata": {},
   "source": [
    "## Links"
   ]
  },
  {
   "cell_type": "code",
   "execution_count": 31,
   "id": "623a059b",
   "metadata": {},
   "outputs": [],
   "source": [
    "links_schema = types.StructType([\n",
    "  types.StructField('long', types.DoubleType()),\n",
    "  types.StructField('lat', types.DoubleType()),\n",
    "  types.StructField('order', types.IntegerType()),\n",
    "  types.StructField('piece', types.IntegerType()),\n",
    "  types.StructField('linkid', types.IntegerType()),\n",
    "  types.StructField('group', types.FloatType()),\n",
    "  types.StructField('citycode', types.StringType())\n",
    "])"
   ]
  },
  {
   "cell_type": "code",
   "execution_count": null,
   "id": "37a86671",
   "metadata": {},
   "outputs": [],
   "source": [
    "links_df = spark.read \\\n",
    "            .option(\"header\", True) \\\n",
    "            .schema(links_schema) \\\n",
    "            .csv('./data/links.csv')"
   ]
  },
  {
   "cell_type": "code",
   "execution_count": 30,
   "id": "c84479cf",
   "metadata": {},
   "outputs": [
    {
     "name": "stdout",
     "output_type": "stream",
     "text": [
      "+----------+----------+-----+-----+------+-----+--------+\n",
      "|      long|       lat|order|piece|linkid|group|citycode|\n",
      "+----------+----------+-----+-----+------+-----+--------+\n",
      "|10.8910158|48.3610789|    1|    1|     0|  0.1|augsburg|\n",
      "|10.8908938|48.3609933|    2|    1|     0|  0.1|augsburg|\n",
      "|10.8906417|48.3608526|    3|    1|     0|  0.1|augsburg|\n",
      "|10.8904043|48.3607189|    4|    1|     0|  0.1|augsburg|\n",
      "|10.8899939| 48.360497|    5|    1|     0|  0.1|augsburg|\n",
      "|10.8909796|48.3611074|    1|    1|     1|  1.1|augsburg|\n",
      "|10.8908589|48.3610201|    2|    1|     1|  1.1|augsburg|\n",
      "| 10.890588|48.3608561|    3|    1|     1|  1.1|augsburg|\n",
      "|10.8903842|48.3607421|    4|    1|     1|  1.1|augsburg|\n",
      "|10.8901803|48.3606378|    5|    1|     1|  1.1|augsburg|\n",
      "|10.8899577|48.3605166|    6|    1|     1|  1.1|augsburg|\n",
      "|10.8935881|48.3648605|    1|    1|     2|  2.1|augsburg|\n",
      "|10.8935827| 48.364693|    2|    1|     2|  2.1|augsburg|\n",
      "|10.8934379|48.3644453|    3|    1|     2|  2.1|augsburg|\n",
      "|10.8928666|48.3636719|    4|    1|     2|  2.1|augsburg|\n",
      "|10.8921289|48.3625901|    5|    1|     2|  2.1|augsburg|\n",
      "|10.8914557|48.3616723|    6|    1|     2|  2.1|augsburg|\n",
      "|10.8911768|48.3612829|    7|    1|     2|  2.1|augsburg|\n",
      "|10.8910507|48.3611644|    8|    1|     2|  2.1|augsburg|\n",
      "|10.8909796|48.3611074|    9|    1|     2|  2.1|augsburg|\n",
      "+----------+----------+-----+-----+------+-----+--------+\n",
      "only showing top 20 rows\n",
      "\n"
     ]
    }
   ],
   "source": [
    "links_df.show()"
   ]
  },
  {
   "cell_type": "code",
   "execution_count": 147,
   "id": "9ae18c5b",
   "metadata": {},
   "outputs": [],
   "source": [
    "spark.stop()"
   ]
  },
  {
   "cell_type": "code",
   "execution_count": null,
   "id": "a9a8da8d",
   "metadata": {},
   "outputs": [],
   "source": []
  }
 ],
 "metadata": {
  "kernelspec": {
   "display_name": ".venv",
   "language": "python",
   "name": "python3"
  },
  "language_info": {
   "codemirror_mode": {
    "name": "ipython",
    "version": 3
   },
   "file_extension": ".py",
   "mimetype": "text/x-python",
   "name": "python",
   "nbconvert_exporter": "python",
   "pygments_lexer": "ipython3",
   "version": "3.9.6"
  }
 },
 "nbformat": 4,
 "nbformat_minor": 5
}
