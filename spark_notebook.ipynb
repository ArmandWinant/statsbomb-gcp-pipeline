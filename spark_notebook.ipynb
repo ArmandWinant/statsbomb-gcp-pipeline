{
 "cells": [
  {
   "cell_type": "code",
   "execution_count": 52,
   "id": "b83071dd",
   "metadata": {},
   "outputs": [],
   "source": [
    "from pyspark.sql import SparkSession, types\n",
    "from pyspark.sql.functions import pandas_udf\n",
    "import pandas as pd"
   ]
  },
  {
   "cell_type": "code",
   "execution_count": 53,
   "id": "85b14c2f",
   "metadata": {},
   "outputs": [],
   "source": [
    "spark = SparkSession \\\n",
    "          .builder \\\n",
    "          .master('local[*]') \\\n",
    "          .appName('test') \\\n",
    "          .getOrCreate()"
   ]
  },
  {
   "cell_type": "markdown",
   "id": "228481e5",
   "metadata": {},
   "source": [
    "## Measurements"
   ]
  },
  {
   "cell_type": "code",
   "execution_count": 54,
   "id": "ebe884c0",
   "metadata": {},
   "outputs": [],
   "source": [
    "measurements_schema = types.StructType([\n",
    "  types.StructField('day', types.DateType(), nullable=False),\n",
    "  types.StructField('interval', types.IntegerType(), nullable=False),\n",
    "  types.StructField('detid', types.StringType(), nullable=False),\n",
    "  types.StructField('flow', types.IntegerType(), nullable=True),\n",
    "  types.StructField('occ', types.FloatType(), nullable=True),\n",
    "  types.StructField('error', types.IntegerType(), nullable=True),\n",
    "  types.StructField('city', types.StringType(), nullable=False),\n",
    "  types.StructField('speed', types.FloatType(), nullable=True)\n",
    "])"
   ]
  },
  {
   "cell_type": "code",
   "execution_count": 55,
   "id": "4d8c069e",
   "metadata": {},
   "outputs": [],
   "source": [
    "measurements_df = spark.read \\\n",
    "                    .option(\"header\", True) \\\n",
    "                    .schema(measurements_schema) \\\n",
    "                    .csv('./data/measurements_test.csv')"
   ]
  },
  {
   "cell_type": "code",
   "execution_count": 56,
   "id": "852466cb",
   "metadata": {},
   "outputs": [],
   "source": [
    "@pandas_udf(types.IntegerType())\n",
    "def get_hour(intervals: pd.Series) -> pd.Series:\n",
    "  # deltas = pd.to_timedelta(intervals, unit='s')\n",
    "  # return deltas.dt.components.hours\n",
    "  return intervals.floordiv(3600)"
   ]
  },
  {
   "cell_type": "code",
   "execution_count": 57,
   "id": "31806805",
   "metadata": {},
   "outputs": [
    {
     "data": {
      "text/plain": [
       "8"
      ]
     },
     "execution_count": 57,
     "metadata": {},
     "output_type": "execute_result"
    }
   ],
   "source": [
    "measurements_df.rdd.getNumPartitions()"
   ]
  },
  {
   "cell_type": "code",
   "execution_count": 58,
   "id": "2466f937",
   "metadata": {},
   "outputs": [],
   "source": [
    "measurements_df = measurements_df \\\n",
    "                    .repartition('day', 'city') \\\n",
    "                    .withColumn('hour', get_hour('interval')) \\\n",
    "                    .drop('interval')"
   ]
  },
  {
   "cell_type": "code",
   "execution_count": 59,
   "id": "b4ae9142",
   "metadata": {},
   "outputs": [
    {
     "name": "stderr",
     "output_type": "stream",
     "text": [
      "[Stage 0:=======>                                                   (1 + 7) / 8]\r"
     ]
    },
    {
     "data": {
      "text/plain": [
       "8"
      ]
     },
     "execution_count": 59,
     "metadata": {},
     "output_type": "execute_result"
    }
   ],
   "source": [
    "measurements_df.rdd.getNumPartitions()"
   ]
  },
  {
   "cell_type": "code",
   "execution_count": 60,
   "id": "373242a1",
   "metadata": {},
   "outputs": [
    {
     "name": "stdout",
     "output_type": "stream",
     "text": [
      "root\n",
      " |-- day: date (nullable = true)\n",
      " |-- detid: string (nullable = true)\n",
      " |-- flow: integer (nullable = true)\n",
      " |-- occ: float (nullable = true)\n",
      " |-- error: integer (nullable = true)\n",
      " |-- city: string (nullable = true)\n",
      " |-- speed: float (nullable = true)\n",
      " |-- hour: integer (nullable = true)\n",
      "\n"
     ]
    }
   ],
   "source": [
    "measurements_df.printSchema()"
   ]
  },
  {
   "cell_type": "markdown",
   "id": "1f49c432",
   "metadata": {},
   "source": [
    "## Detectors"
   ]
  },
  {
   "cell_type": "code",
   "execution_count": 61,
   "id": "ecb47ef0",
   "metadata": {},
   "outputs": [],
   "source": [
    "detectors_schema = types.StructType([\n",
    "  types.StructField('detid', types.StringType()),\n",
    "  types.StructField('length', types.DoubleType()),\n",
    "  types.StructField('pos', types.DoubleType()),\n",
    "  types.StructField('fclass', types.StringType()),\n",
    "  types.StructField('road', types.StringType()),\n",
    "  types.StructField('limit', types.IntegerType()),\n",
    "  types.StructField('citycode', types.StringType()),\n",
    "  types.StructField('lanes', types.IntegerType()),\n",
    "  types.StructField('linkid', types.IntegerType()),\n",
    "  types.StructField('long', types.DoubleType()),\n",
    "  types.StructField('lat', types.DoubleType())\n",
    "])"
   ]
  },
  {
   "cell_type": "code",
   "execution_count": 62,
   "id": "97a118bb",
   "metadata": {},
   "outputs": [],
   "source": [
    "detectors_df = spark.read \\\n",
    "                .option(\"header\", True) \\\n",
    "                .schema(detectors_schema) \\\n",
    "                .csv('./data/detectors_public.csv')"
   ]
  },
  {
   "cell_type": "code",
   "execution_count": 63,
   "id": "4b0afb0d",
   "metadata": {},
   "outputs": [],
   "source": [
    "detectors_df = detectors_df.withColumnRenamed('citycode', 'city')"
   ]
  },
  {
   "cell_type": "code",
   "execution_count": 64,
   "id": "dc9adbd6",
   "metadata": {},
   "outputs": [
    {
     "name": "stdout",
     "output_type": "stream",
     "text": [
      "+------+-----------------+-----------------+---------+----------------+-----+--------+-----+------+----------+----------+\n",
      "| detid|           length|              pos|   fclass|            road|limit|    city|lanes|linkid|      long|       lat|\n",
      "+------+-----------------+-----------------+---------+----------------+-----+--------+-----+------+----------+----------+\n",
      "|U1-52G|0.196036689548578|0.005511921838942|secondary|Gögginger Straße|   50|augsburg|    1|    72|10.8895527| 48.359957|\n",
      "|U1-51G|0.130039071784385|0.004013209518671|secondary|Gögginger Straße|   50|augsburg|    1|    73| 10.889601|48.3599454|\n",
      "|U1-52L|0.155863214591286|0.022227823915315|secondary|Gögginger Straße|   50|augsburg|    1|    70|10.8893555|48.3598759|\n",
      "|U1-51L|0.197675412740605|0.021889369247481|secondary|Gögginger Straße|   50|augsburg|    1|    71|10.8893958|48.3598617|\n",
      "| U1-62|0.065182655061287|0.024465133197684|secondary|   Rosenaustraße|   50|augsburg|    1|    68|10.8893609|48.3605781|\n",
      "+------+-----------------+-----------------+---------+----------------+-----+--------+-----+------+----------+----------+\n",
      "only showing top 5 rows\n",
      "\n"
     ]
    },
    {
     "name": "stderr",
     "output_type": "stream",
     "text": [
      "                                                                                \r"
     ]
    }
   ],
   "source": [
    "detectors_df.show(5)"
   ]
  },
  {
   "cell_type": "code",
   "execution_count": 65,
   "id": "2fd8ee16",
   "metadata": {},
   "outputs": [],
   "source": [
    "df = measurements_df.join(detectors_df, on=['detid', 'city'])"
   ]
  },
  {
   "cell_type": "markdown",
   "id": "c44bb22e",
   "metadata": {},
   "source": [
    "## Links"
   ]
  },
  {
   "cell_type": "code",
   "execution_count": 68,
   "id": "623a059b",
   "metadata": {},
   "outputs": [],
   "source": [
    "links_schema = types.StructType([\n",
    "  types.StructField('long', types.DoubleType()),\n",
    "  types.StructField('lat', types.DoubleType()),\n",
    "  types.StructField('order', types.IntegerType()),\n",
    "  types.StructField('piece', types.IntegerType()),\n",
    "  types.StructField('linkid', types.IntegerType()),\n",
    "  types.StructField('group', types.FloatType()),\n",
    "  types.StructField('citycode', types.StringType())\n",
    "])"
   ]
  },
  {
   "cell_type": "code",
   "execution_count": 69,
   "id": "37a86671",
   "metadata": {},
   "outputs": [],
   "source": [
    "links_df = spark.read \\\n",
    "            .option(\"header\", True) \\\n",
    "            .schema(links_schema) \\\n",
    "            .csv('./data/links.csv')"
   ]
  },
  {
   "cell_type": "code",
   "execution_count": 70,
   "id": "c84479cf",
   "metadata": {},
   "outputs": [
    {
     "name": "stdout",
     "output_type": "stream",
     "text": [
      "+----------+----------+-----+-----+------+-----+--------+\n",
      "|      long|       lat|order|piece|linkid|group|citycode|\n",
      "+----------+----------+-----+-----+------+-----+--------+\n",
      "|10.8910158|48.3610789|    1|    1|     0|  0.1|augsburg|\n",
      "|10.8908938|48.3609933|    2|    1|     0|  0.1|augsburg|\n",
      "|10.8906417|48.3608526|    3|    1|     0|  0.1|augsburg|\n",
      "|10.8904043|48.3607189|    4|    1|     0|  0.1|augsburg|\n",
      "|10.8899939| 48.360497|    5|    1|     0|  0.1|augsburg|\n",
      "|10.8909796|48.3611074|    1|    1|     1|  1.1|augsburg|\n",
      "|10.8908589|48.3610201|    2|    1|     1|  1.1|augsburg|\n",
      "| 10.890588|48.3608561|    3|    1|     1|  1.1|augsburg|\n",
      "|10.8903842|48.3607421|    4|    1|     1|  1.1|augsburg|\n",
      "|10.8901803|48.3606378|    5|    1|     1|  1.1|augsburg|\n",
      "|10.8899577|48.3605166|    6|    1|     1|  1.1|augsburg|\n",
      "|10.8935881|48.3648605|    1|    1|     2|  2.1|augsburg|\n",
      "|10.8935827| 48.364693|    2|    1|     2|  2.1|augsburg|\n",
      "|10.8934379|48.3644453|    3|    1|     2|  2.1|augsburg|\n",
      "|10.8928666|48.3636719|    4|    1|     2|  2.1|augsburg|\n",
      "|10.8921289|48.3625901|    5|    1|     2|  2.1|augsburg|\n",
      "|10.8914557|48.3616723|    6|    1|     2|  2.1|augsburg|\n",
      "|10.8911768|48.3612829|    7|    1|     2|  2.1|augsburg|\n",
      "|10.8910507|48.3611644|    8|    1|     2|  2.1|augsburg|\n",
      "|10.8909796|48.3611074|    9|    1|     2|  2.1|augsburg|\n",
      "+----------+----------+-----+-----+------+-----+--------+\n",
      "only showing top 20 rows\n",
      "\n"
     ]
    }
   ],
   "source": [
    "links_df.show()"
   ]
  },
  {
   "cell_type": "code",
   "execution_count": 71,
   "id": "9ae18c5b",
   "metadata": {},
   "outputs": [],
   "source": [
    "spark.stop()"
   ]
  },
  {
   "cell_type": "code",
   "execution_count": 72,
   "id": "4bc0f999",
   "metadata": {},
   "outputs": [],
   "source": [
    "df = pd.read_csv('./data/detectors_public.csv')"
   ]
  },
  {
   "cell_type": "code",
   "execution_count": 73,
   "id": "6168a020",
   "metadata": {},
   "outputs": [
    {
     "data": {
      "text/plain": [
       "(23626, 11)"
      ]
     },
     "execution_count": 73,
     "metadata": {},
     "output_type": "execute_result"
    }
   ],
   "source": [
    "df.shape"
   ]
  },
  {
   "cell_type": "code",
   "execution_count": 74,
   "id": "954c66c2",
   "metadata": {},
   "outputs": [
    {
     "data": {
      "text/html": [
       "<div>\n",
       "<style scoped>\n",
       "    .dataframe tbody tr th:only-of-type {\n",
       "        vertical-align: middle;\n",
       "    }\n",
       "\n",
       "    .dataframe tbody tr th {\n",
       "        vertical-align: top;\n",
       "    }\n",
       "\n",
       "    .dataframe thead th {\n",
       "        text-align: right;\n",
       "    }\n",
       "</style>\n",
       "<table border=\"1\" class=\"dataframe\">\n",
       "  <thead>\n",
       "    <tr style=\"text-align: right;\">\n",
       "      <th></th>\n",
       "      <th>detid</th>\n",
       "      <th>length</th>\n",
       "      <th>pos</th>\n",
       "      <th>fclass</th>\n",
       "      <th>road</th>\n",
       "      <th>limit</th>\n",
       "      <th>citycode</th>\n",
       "      <th>lanes</th>\n",
       "      <th>linkid</th>\n",
       "      <th>long</th>\n",
       "      <th>lat</th>\n",
       "    </tr>\n",
       "  </thead>\n",
       "  <tbody>\n",
       "    <tr>\n",
       "      <th>0</th>\n",
       "      <td>U1-52G</td>\n",
       "      <td>0.196037</td>\n",
       "      <td>0.005512</td>\n",
       "      <td>secondary</td>\n",
       "      <td>Gögginger Straße</td>\n",
       "      <td>50</td>\n",
       "      <td>augsburg</td>\n",
       "      <td>1.0</td>\n",
       "      <td>72.0</td>\n",
       "      <td>10.889553</td>\n",
       "      <td>48.359957</td>\n",
       "    </tr>\n",
       "    <tr>\n",
       "      <th>1</th>\n",
       "      <td>U1-51G</td>\n",
       "      <td>0.130039</td>\n",
       "      <td>0.004013</td>\n",
       "      <td>secondary</td>\n",
       "      <td>Gögginger Straße</td>\n",
       "      <td>50</td>\n",
       "      <td>augsburg</td>\n",
       "      <td>1.0</td>\n",
       "      <td>73.0</td>\n",
       "      <td>10.889601</td>\n",
       "      <td>48.359945</td>\n",
       "    </tr>\n",
       "    <tr>\n",
       "      <th>2</th>\n",
       "      <td>U1-52L</td>\n",
       "      <td>0.155863</td>\n",
       "      <td>0.022228</td>\n",
       "      <td>secondary</td>\n",
       "      <td>Gögginger Straße</td>\n",
       "      <td>50</td>\n",
       "      <td>augsburg</td>\n",
       "      <td>1.0</td>\n",
       "      <td>70.0</td>\n",
       "      <td>10.889356</td>\n",
       "      <td>48.359876</td>\n",
       "    </tr>\n",
       "    <tr>\n",
       "      <th>3</th>\n",
       "      <td>U1-51L</td>\n",
       "      <td>0.197675</td>\n",
       "      <td>0.021889</td>\n",
       "      <td>secondary</td>\n",
       "      <td>Gögginger Straße</td>\n",
       "      <td>50</td>\n",
       "      <td>augsburg</td>\n",
       "      <td>1.0</td>\n",
       "      <td>71.0</td>\n",
       "      <td>10.889396</td>\n",
       "      <td>48.359862</td>\n",
       "    </tr>\n",
       "    <tr>\n",
       "      <th>4</th>\n",
       "      <td>U1-62</td>\n",
       "      <td>0.065183</td>\n",
       "      <td>0.024465</td>\n",
       "      <td>secondary</td>\n",
       "      <td>Rosenaustraße</td>\n",
       "      <td>50</td>\n",
       "      <td>augsburg</td>\n",
       "      <td>1.0</td>\n",
       "      <td>68.0</td>\n",
       "      <td>10.889361</td>\n",
       "      <td>48.360578</td>\n",
       "    </tr>\n",
       "  </tbody>\n",
       "</table>\n",
       "</div>"
      ],
      "text/plain": [
       "    detid    length       pos     fclass              road limit  citycode  \\\n",
       "0  U1-52G  0.196037  0.005512  secondary  Gögginger Straße    50  augsburg   \n",
       "1  U1-51G  0.130039  0.004013  secondary  Gögginger Straße    50  augsburg   \n",
       "2  U1-52L  0.155863  0.022228  secondary  Gögginger Straße    50  augsburg   \n",
       "3  U1-51L  0.197675  0.021889  secondary  Gögginger Straße    50  augsburg   \n",
       "4   U1-62  0.065183  0.024465  secondary     Rosenaustraße    50  augsburg   \n",
       "\n",
       "   lanes  linkid       long        lat  \n",
       "0    1.0    72.0  10.889553  48.359957  \n",
       "1    1.0    73.0  10.889601  48.359945  \n",
       "2    1.0    70.0  10.889356  48.359876  \n",
       "3    1.0    71.0  10.889396  48.359862  \n",
       "4    1.0    68.0  10.889361  48.360578  "
      ]
     },
     "execution_count": 74,
     "metadata": {},
     "output_type": "execute_result"
    }
   ],
   "source": [
    "df.head()"
   ]
  },
  {
   "cell_type": "code",
   "execution_count": 75,
   "id": "2b440c5e",
   "metadata": {},
   "outputs": [
    {
     "data": {
      "text/plain": [
       "21996"
      ]
     },
     "execution_count": 75,
     "metadata": {},
     "output_type": "execute_result"
    }
   ],
   "source": [
    "len(df.detid.unique())"
   ]
  },
  {
   "cell_type": "code",
   "execution_count": 76,
   "id": "fc1ac0c9",
   "metadata": {},
   "outputs": [
    {
     "data": {
      "text/html": [
       "<div>\n",
       "<style scoped>\n",
       "    .dataframe tbody tr th:only-of-type {\n",
       "        vertical-align: middle;\n",
       "    }\n",
       "\n",
       "    .dataframe tbody tr th {\n",
       "        vertical-align: top;\n",
       "    }\n",
       "\n",
       "    .dataframe thead th {\n",
       "        text-align: right;\n",
       "    }\n",
       "</style>\n",
       "<table border=\"1\" class=\"dataframe\">\n",
       "  <thead>\n",
       "    <tr style=\"text-align: right;\">\n",
       "      <th></th>\n",
       "      <th>detid</th>\n",
       "      <th>length</th>\n",
       "      <th>pos</th>\n",
       "      <th>fclass</th>\n",
       "      <th>road</th>\n",
       "      <th>limit</th>\n",
       "      <th>citycode</th>\n",
       "      <th>lanes</th>\n",
       "      <th>linkid</th>\n",
       "      <th>long</th>\n",
       "      <th>lat</th>\n",
       "    </tr>\n",
       "  </thead>\n",
       "  <tbody>\n",
       "    <tr>\n",
       "      <th>6543</th>\n",
       "      <td>423</td>\n",
       "      <td>6</td>\n",
       "      <td>6</td>\n",
       "      <td>3</td>\n",
       "      <td>6</td>\n",
       "      <td>2</td>\n",
       "      <td>6</td>\n",
       "      <td>2</td>\n",
       "      <td>6</td>\n",
       "      <td>6</td>\n",
       "      <td>6</td>\n",
       "    </tr>\n",
       "    <tr>\n",
       "      <th>7541</th>\n",
       "      <td>687</td>\n",
       "      <td>5</td>\n",
       "      <td>5</td>\n",
       "      <td>3</td>\n",
       "      <td>5</td>\n",
       "      <td>3</td>\n",
       "      <td>5</td>\n",
       "      <td>2</td>\n",
       "      <td>5</td>\n",
       "      <td>5</td>\n",
       "      <td>5</td>\n",
       "    </tr>\n",
       "    <tr>\n",
       "      <th>4528</th>\n",
       "      <td>215</td>\n",
       "      <td>5</td>\n",
       "      <td>5</td>\n",
       "      <td>4</td>\n",
       "      <td>5</td>\n",
       "      <td>2</td>\n",
       "      <td>5</td>\n",
       "      <td>3</td>\n",
       "      <td>5</td>\n",
       "      <td>5</td>\n",
       "      <td>5</td>\n",
       "    </tr>\n",
       "    <tr>\n",
       "      <th>6065</th>\n",
       "      <td>349</td>\n",
       "      <td>5</td>\n",
       "      <td>5</td>\n",
       "      <td>3</td>\n",
       "      <td>4</td>\n",
       "      <td>2</td>\n",
       "      <td>5</td>\n",
       "      <td>2</td>\n",
       "      <td>5</td>\n",
       "      <td>5</td>\n",
       "      <td>5</td>\n",
       "    </tr>\n",
       "    <tr>\n",
       "      <th>4968</th>\n",
       "      <td>224</td>\n",
       "      <td>5</td>\n",
       "      <td>5</td>\n",
       "      <td>3</td>\n",
       "      <td>4</td>\n",
       "      <td>3</td>\n",
       "      <td>5</td>\n",
       "      <td>2</td>\n",
       "      <td>5</td>\n",
       "      <td>5</td>\n",
       "      <td>5</td>\n",
       "    </tr>\n",
       "    <tr>\n",
       "      <th>...</th>\n",
       "      <td>...</td>\n",
       "      <td>...</td>\n",
       "      <td>...</td>\n",
       "      <td>...</td>\n",
       "      <td>...</td>\n",
       "      <td>...</td>\n",
       "      <td>...</td>\n",
       "      <td>...</td>\n",
       "      <td>...</td>\n",
       "      <td>...</td>\n",
       "      <td>...</td>\n",
       "    </tr>\n",
       "    <tr>\n",
       "      <th>39</th>\n",
       "      <td>00055PMA0003</td>\n",
       "      <td>1</td>\n",
       "      <td>1</td>\n",
       "      <td>1</td>\n",
       "      <td>1</td>\n",
       "      <td>1</td>\n",
       "      <td>1</td>\n",
       "      <td>1</td>\n",
       "      <td>1</td>\n",
       "      <td>1</td>\n",
       "      <td>1</td>\n",
       "    </tr>\n",
       "    <tr>\n",
       "      <th>40</th>\n",
       "      <td>00055PMA0004</td>\n",
       "      <td>1</td>\n",
       "      <td>1</td>\n",
       "      <td>1</td>\n",
       "      <td>1</td>\n",
       "      <td>1</td>\n",
       "      <td>1</td>\n",
       "      <td>1</td>\n",
       "      <td>1</td>\n",
       "      <td>1</td>\n",
       "      <td>1</td>\n",
       "    </tr>\n",
       "    <tr>\n",
       "      <th>41</th>\n",
       "      <td>00056PMA0003</td>\n",
       "      <td>1</td>\n",
       "      <td>1</td>\n",
       "      <td>1</td>\n",
       "      <td>1</td>\n",
       "      <td>1</td>\n",
       "      <td>1</td>\n",
       "      <td>1</td>\n",
       "      <td>1</td>\n",
       "      <td>1</td>\n",
       "      <td>1</td>\n",
       "    </tr>\n",
       "    <tr>\n",
       "      <th>42</th>\n",
       "      <td>00056PMA0004</td>\n",
       "      <td>1</td>\n",
       "      <td>1</td>\n",
       "      <td>1</td>\n",
       "      <td>1</td>\n",
       "      <td>1</td>\n",
       "      <td>1</td>\n",
       "      <td>1</td>\n",
       "      <td>1</td>\n",
       "      <td>1</td>\n",
       "      <td>1</td>\n",
       "    </tr>\n",
       "    <tr>\n",
       "      <th>7</th>\n",
       "      <td>00007PMA0001</td>\n",
       "      <td>1</td>\n",
       "      <td>1</td>\n",
       "      <td>1</td>\n",
       "      <td>1</td>\n",
       "      <td>1</td>\n",
       "      <td>1</td>\n",
       "      <td>1</td>\n",
       "      <td>1</td>\n",
       "      <td>1</td>\n",
       "      <td>1</td>\n",
       "    </tr>\n",
       "  </tbody>\n",
       "</table>\n",
       "<p>21996 rows × 11 columns</p>\n",
       "</div>"
      ],
      "text/plain": [
       "             detid  length  pos  fclass  road  limit  citycode  lanes  linkid  \\\n",
       "6543           423       6    6       3     6      2         6      2       6   \n",
       "7541           687       5    5       3     5      3         5      2       5   \n",
       "4528           215       5    5       4     5      2         5      3       5   \n",
       "6065           349       5    5       3     4      2         5      2       5   \n",
       "4968           224       5    5       3     4      3         5      2       5   \n",
       "...            ...     ...  ...     ...   ...    ...       ...    ...     ...   \n",
       "39    00055PMA0003       1    1       1     1      1         1      1       1   \n",
       "40    00055PMA0004       1    1       1     1      1         1      1       1   \n",
       "41    00056PMA0003       1    1       1     1      1         1      1       1   \n",
       "42    00056PMA0004       1    1       1     1      1         1      1       1   \n",
       "7     00007PMA0001       1    1       1     1      1         1      1       1   \n",
       "\n",
       "      long  lat  \n",
       "6543     6    6  \n",
       "7541     5    5  \n",
       "4528     5    5  \n",
       "6065     5    5  \n",
       "4968     5    5  \n",
       "...    ...  ...  \n",
       "39       1    1  \n",
       "40       1    1  \n",
       "41       1    1  \n",
       "42       1    1  \n",
       "7        1    1  \n",
       "\n",
       "[21996 rows x 11 columns]"
      ]
     },
     "execution_count": 76,
     "metadata": {},
     "output_type": "execute_result"
    }
   ],
   "source": [
    "df.groupby('detid', as_index=False).nunique().sort_values('length', ascending=False)"
   ]
  },
  {
   "cell_type": "code",
   "execution_count": 77,
   "id": "5a4e88db",
   "metadata": {},
   "outputs": [
    {
     "data": {
      "text/html": [
       "<div>\n",
       "<style scoped>\n",
       "    .dataframe tbody tr th:only-of-type {\n",
       "        vertical-align: middle;\n",
       "    }\n",
       "\n",
       "    .dataframe tbody tr th {\n",
       "        vertical-align: top;\n",
       "    }\n",
       "\n",
       "    .dataframe thead th {\n",
       "        text-align: right;\n",
       "    }\n",
       "</style>\n",
       "<table border=\"1\" class=\"dataframe\">\n",
       "  <thead>\n",
       "    <tr style=\"text-align: right;\">\n",
       "      <th></th>\n",
       "      <th>detid</th>\n",
       "      <th>length</th>\n",
       "      <th>pos</th>\n",
       "      <th>fclass</th>\n",
       "      <th>road</th>\n",
       "      <th>limit</th>\n",
       "      <th>citycode</th>\n",
       "      <th>lanes</th>\n",
       "      <th>linkid</th>\n",
       "      <th>long</th>\n",
       "      <th>lat</th>\n",
       "    </tr>\n",
       "  </thead>\n",
       "  <tbody>\n",
       "    <tr>\n",
       "      <th>14764</th>\n",
       "      <td>349</td>\n",
       "      <td>0.698863</td>\n",
       "      <td>0.000000</td>\n",
       "      <td>tertiary</td>\n",
       "      <td>NaN</td>\n",
       "      <td>NaN</td>\n",
       "      <td>melbourne</td>\n",
       "      <td>1.0</td>\n",
       "      <td>349.0</td>\n",
       "      <td>144.963819</td>\n",
       "      <td>-37.818720</td>\n",
       "    </tr>\n",
       "    <tr>\n",
       "      <th>16198</th>\n",
       "      <td>349</td>\n",
       "      <td>0.183964</td>\n",
       "      <td>0.166846</td>\n",
       "      <td>tertiary</td>\n",
       "      <td>Rue de Sèvres</td>\n",
       "      <td>NaN</td>\n",
       "      <td>paris</td>\n",
       "      <td>1.0</td>\n",
       "      <td>156.0</td>\n",
       "      <td>2.327383</td>\n",
       "      <td>48.851629</td>\n",
       "    </tr>\n",
       "    <tr>\n",
       "      <th>17533</th>\n",
       "      <td>349</td>\n",
       "      <td>0.138773</td>\n",
       "      <td>0.039354</td>\n",
       "      <td>secondary</td>\n",
       "      <td>é???å??äº??</td>\n",
       "      <td>0</td>\n",
       "      <td>taipeh</td>\n",
       "      <td>2.0</td>\n",
       "      <td>203.0</td>\n",
       "      <td>121.527066</td>\n",
       "      <td>25.032555</td>\n",
       "    </tr>\n",
       "    <tr>\n",
       "      <th>20754</th>\n",
       "      <td>349</td>\n",
       "      <td>0.274305</td>\n",
       "      <td>0.265567</td>\n",
       "      <td>residential</td>\n",
       "      <td>Rue Pierrette Louin</td>\n",
       "      <td>0</td>\n",
       "      <td>toulouse</td>\n",
       "      <td>1.0</td>\n",
       "      <td>487.0</td>\n",
       "      <td>1.452000</td>\n",
       "      <td>43.627787</td>\n",
       "    </tr>\n",
       "    <tr>\n",
       "      <th>22352</th>\n",
       "      <td>349</td>\n",
       "      <td>0.199713</td>\n",
       "      <td>0.035497</td>\n",
       "      <td>secondary</td>\n",
       "      <td>Naugarduko g.</td>\n",
       "      <td>50</td>\n",
       "      <td>vilnius</td>\n",
       "      <td>1.0</td>\n",
       "      <td>419.0</td>\n",
       "      <td>25.271106</td>\n",
       "      <td>54.675191</td>\n",
       "    </tr>\n",
       "  </tbody>\n",
       "</table>\n",
       "</div>"
      ],
      "text/plain": [
       "      detid    length       pos       fclass                 road limit  \\\n",
       "14764   349  0.698863  0.000000     tertiary                  NaN   NaN   \n",
       "16198   349  0.183964  0.166846     tertiary        Rue de Sèvres   NaN   \n",
       "17533   349  0.138773  0.039354    secondary         é???å??äº??     0   \n",
       "20754   349  0.274305  0.265567  residential  Rue Pierrette Louin     0   \n",
       "22352   349  0.199713  0.035497    secondary        Naugarduko g.    50   \n",
       "\n",
       "        citycode  lanes  linkid        long        lat  \n",
       "14764  melbourne    1.0   349.0  144.963819 -37.818720  \n",
       "16198      paris    1.0   156.0    2.327383  48.851629  \n",
       "17533     taipeh    2.0   203.0  121.527066  25.032555  \n",
       "20754   toulouse    1.0   487.0    1.452000  43.627787  \n",
       "22352    vilnius    1.0   419.0   25.271106  54.675191  "
      ]
     },
     "execution_count": 77,
     "metadata": {},
     "output_type": "execute_result"
    }
   ],
   "source": [
    "df.loc[df.detid == '349', :]"
   ]
  },
  {
   "cell_type": "code",
   "execution_count": 78,
   "id": "717abf1c",
   "metadata": {},
   "outputs": [
    {
     "data": {
      "text/plain": [
       "array(['U1-52G', 'U1-51G', 'U1-52L', ..., 'K426D11', 'K437D17', 'K38D11'],\n",
       "      dtype=object)"
      ]
     },
     "execution_count": 78,
     "metadata": {},
     "output_type": "execute_result"
    }
   ],
   "source": [
    "df.detid.unique()"
   ]
  },
  {
   "cell_type": "code",
   "execution_count": null,
   "id": "b51d7110",
   "metadata": {},
   "outputs": [],
   "source": []
  }
 ],
 "metadata": {
  "kernelspec": {
   "display_name": ".venv",
   "language": "python",
   "name": "python3"
  },
  "language_info": {
   "codemirror_mode": {
    "name": "ipython",
    "version": 3
   },
   "file_extension": ".py",
   "mimetype": "text/x-python",
   "name": "python",
   "nbconvert_exporter": "python",
   "pygments_lexer": "ipython3",
   "version": "3.9.6"
  }
 },
 "nbformat": 4,
 "nbformat_minor": 5
}
