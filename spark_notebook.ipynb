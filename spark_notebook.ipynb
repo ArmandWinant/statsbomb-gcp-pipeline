{
 "cells": [
  {
   "cell_type": "code",
   "execution_count": null,
   "id": "b83071dd",
   "metadata": {},
   "outputs": [],
   "source": [
    "from pyspark.sql import SparkSession, types\n",
    "from pyspark.sql.functions import pandas_udf\n",
    "import pandas as pd"
   ]
  },
  {
   "cell_type": "code",
   "execution_count": 22,
   "id": "85b14c2f",
   "metadata": {},
   "outputs": [],
   "source": [
    "spark = SparkSession \\\n",
    "          .builder \\\n",
    "          .master('local[*]') \\\n",
    "          .appName('test') \\\n",
    "          .getOrCreate()"
   ]
  },
  {
   "cell_type": "markdown",
   "id": "228481e5",
   "metadata": {},
   "source": [
    "## Measurements"
   ]
  },
  {
   "cell_type": "code",
   "execution_count": 108,
   "id": "ebe884c0",
   "metadata": {},
   "outputs": [],
   "source": [
    "measurements_schema = types.StructType([\n",
    "  types.StructField('day', types.DateType(), nullable=False),\n",
    "  types.StructField('interval', types.IntegerType(), nullable=False),\n",
    "  types.StructField('detid', types.StringType(), nullable=False),\n",
    "  types.StructField('flow', types.IntegerType(), nullable=True),\n",
    "  types.StructField('occ', types.FloatType(), nullable=True),\n",
    "  types.StructField('error', types.IntegerType(), nullable=True),\n",
    "  types.StructField('city', types.StringType(), nullable=False),\n",
    "  types.StructField('speed', types.FloatType(), nullable=True)\n",
    "])"
   ]
  },
  {
   "cell_type": "code",
   "execution_count": 109,
   "id": "4d8c069e",
   "metadata": {},
   "outputs": [],
   "source": [
    "measurements_df = spark.read \\\n",
    "                    .option(\"header\", True) \\\n",
    "                    .schema(measurements_schema) \\\n",
    "                    .csv('./data/measurements_test.csv')"
   ]
  },
  {
   "cell_type": "code",
   "execution_count": 110,
   "id": "a6de2eba",
   "metadata": {},
   "outputs": [
    {
     "name": "stdout",
     "output_type": "stream",
     "text": [
      "+----------+--------+--------+----+----+-----+--------+-----+\n",
      "|       day|interval|   detid|flow| occ|error|    city|speed|\n",
      "+----------+--------+--------+----+----+-----+--------+-----+\n",
      "|2017-05-06|       0|06.X-2li|  12| 0.0|    1|augsburg| NULL|\n",
      "|2017-05-06|     300|06.X-2li|  12| 0.0|    1|augsburg| NULL|\n",
      "|2017-05-06|     600|06.X-2li|  12| 0.0|    1|augsburg| NULL|\n",
      "|2017-05-06|     900|06.X-2li|  16| 0.0|    1|augsburg| NULL|\n",
      "|2017-05-06|    1200|06.X-2li|  16| 0.0|    1|augsburg| NULL|\n",
      "|2017-05-06|    1500|06.X-2li|  16| 0.0|    1|augsburg| NULL|\n",
      "|2017-05-06|    1800|06.X-2li|  20| 0.0|    1|augsburg| NULL|\n",
      "|2017-05-06|    2100|06.X-2li|  20| 0.0|    1|augsburg| NULL|\n",
      "|2017-05-06|    2400|06.X-2li|  20| 0.0|    1|augsburg| NULL|\n",
      "|2017-05-06|    2700|06.X-2li|   8|0.01|    1|augsburg| NULL|\n",
      "+----------+--------+--------+----+----+-----+--------+-----+\n",
      "only showing top 10 rows\n",
      "\n"
     ]
    }
   ],
   "source": [
    "measurements_df.show(10)"
   ]
  },
  {
   "cell_type": "code",
   "execution_count": 111,
   "id": "85cdc2cd",
   "metadata": {},
   "outputs": [],
   "source": [
    "@pandas_udf(types.TimestampType())\n",
    "def get_timestamp(days: pd.Series, intervals: pd.Series) -> pd.Series:\n",
    "  dts = pd.to_datetime(days)\n",
    "  deltas = pd.to_timedelta(intervals, unit='s')\n",
    "  return dts + deltas"
   ]
  },
  {
   "cell_type": "code",
   "execution_count": null,
   "id": "838523ff",
   "metadata": {},
   "outputs": [],
   "source": [
    "# @udf(types.TimestampType())\n",
    "# def get_timestamp(day, interval):\n",
    "#   dt = pd.to_datetime(day)\n",
    "#   delta = pd.to_timedelta(interval, unit='S')\n",
    "#   return dt + delta"
   ]
  },
  {
   "cell_type": "code",
   "execution_count": 112,
   "id": "2466f937",
   "metadata": {},
   "outputs": [],
   "source": [
    "measurements_df = measurements_df.withColumn('ts', get_timestamp('day', 'interval'))"
   ]
  },
  {
   "cell_type": "code",
   "execution_count": 113,
   "id": "2060c29a",
   "metadata": {},
   "outputs": [
    {
     "name": "stderr",
     "output_type": "stream",
     "text": [
      "[Stage 34:>                                                         (0 + 1) / 1]\r"
     ]
    },
    {
     "name": "stdout",
     "output_type": "stream",
     "text": [
      "+----------+--------+--------+----+---+-----+--------+-----+-------------------+\n",
      "|       day|interval|   detid|flow|occ|error|    city|speed|                 ts|\n",
      "+----------+--------+--------+----+---+-----+--------+-----+-------------------+\n",
      "|2017-05-06|       0|06.X-2li|  12|0.0|    1|augsburg| NULL|2017-05-06 00:00:00|\n",
      "|2017-05-06|     300|06.X-2li|  12|0.0|    1|augsburg| NULL|2017-05-06 00:05:00|\n",
      "|2017-05-06|     600|06.X-2li|  12|0.0|    1|augsburg| NULL|2017-05-06 00:10:00|\n",
      "|2017-05-06|     900|06.X-2li|  16|0.0|    1|augsburg| NULL|2017-05-06 00:15:00|\n",
      "|2017-05-06|    1200|06.X-2li|  16|0.0|    1|augsburg| NULL|2017-05-06 00:20:00|\n",
      "+----------+--------+--------+----+---+-----+--------+-----+-------------------+\n",
      "only showing top 5 rows\n",
      "\n"
     ]
    },
    {
     "name": "stderr",
     "output_type": "stream",
     "text": [
      "                                                                                \r"
     ]
    }
   ],
   "source": [
    "measurements_df.show(5)"
   ]
  },
  {
   "cell_type": "markdown",
   "id": "1f49c432",
   "metadata": {},
   "source": [
    "## Detectors"
   ]
  },
  {
   "cell_type": "code",
   "execution_count": null,
   "id": "97a118bb",
   "metadata": {},
   "outputs": [],
   "source": []
  },
  {
   "cell_type": "markdown",
   "id": "c44bb22e",
   "metadata": {},
   "source": [
    "## Links"
   ]
  },
  {
   "cell_type": "code",
   "execution_count": null,
   "id": "37a86671",
   "metadata": {},
   "outputs": [],
   "source": []
  },
  {
   "cell_type": "code",
   "execution_count": 13,
   "id": "9ae18c5b",
   "metadata": {},
   "outputs": [],
   "source": [
    "spark.stop()"
   ]
  }
 ],
 "metadata": {
  "kernelspec": {
   "display_name": ".venv",
   "language": "python",
   "name": "python3"
  },
  "language_info": {
   "codemirror_mode": {
    "name": "ipython",
    "version": 3
   },
   "file_extension": ".py",
   "mimetype": "text/x-python",
   "name": "python",
   "nbconvert_exporter": "python",
   "pygments_lexer": "ipython3",
   "version": "3.9.6"
  }
 },
 "nbformat": 4,
 "nbformat_minor": 5
}
