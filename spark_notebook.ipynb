{
 "cells": [
  {
   "cell_type": "code",
   "execution_count": 129,
   "id": "b83071dd",
   "metadata": {},
   "outputs": [],
   "source": [
    "from pyspark.sql import SparkSession, types\n",
    "from pyspark.sql.functions import pandas_udf, broadcast\n",
    "import pandas as pd"
   ]
  },
  {
   "cell_type": "code",
   "execution_count": 130,
   "id": "85b14c2f",
   "metadata": {},
   "outputs": [],
   "source": [
    "spark = SparkSession \\\n",
    "          .builder \\\n",
    "          .master('local[*]') \\\n",
    "          .appName('test') \\\n",
    "          .getOrCreate()"
   ]
  },
  {
   "cell_type": "markdown",
   "id": "228481e5",
   "metadata": {},
   "source": [
    "## Measurements"
   ]
  },
  {
   "cell_type": "code",
   "execution_count": 131,
   "id": "ebe884c0",
   "metadata": {},
   "outputs": [],
   "source": [
    "measurements_schema = types.StructType([\n",
    "  types.StructField('day', types.DateType(), nullable=False),\n",
    "  types.StructField('interval', types.IntegerType(), nullable=False),\n",
    "  types.StructField('detid', types.StringType(), nullable=False),\n",
    "  types.StructField('flow', types.IntegerType(), nullable=True),\n",
    "  types.StructField('occ', types.FloatType(), nullable=True),\n",
    "  types.StructField('error', types.IntegerType(), nullable=True),\n",
    "  types.StructField('city', types.StringType(), nullable=False),\n",
    "  types.StructField('speed', types.FloatType(), nullable=True)\n",
    "])"
   ]
  },
  {
   "cell_type": "code",
   "execution_count": 132,
   "id": "4d8c069e",
   "metadata": {},
   "outputs": [],
   "source": [
    "measurements_df = spark.read \\\n",
    "                    .option(\"header\", True) \\\n",
    "                    .schema(measurements_schema) \\\n",
    "                    .csv('./data/measurements_test.csv')"
   ]
  },
  {
   "cell_type": "code",
   "execution_count": 133,
   "id": "852466cb",
   "metadata": {},
   "outputs": [],
   "source": [
    "@pandas_udf(types.IntegerType())\n",
    "def get_hour(intervals: pd.Series) -> pd.Series:\n",
    "  # deltas = pd.to_timedelta(intervals, unit='s')\n",
    "  # return deltas.dt.components.hours\n",
    "  return intervals.floordiv(3600)"
   ]
  },
  {
   "cell_type": "code",
   "execution_count": 134,
   "id": "31806805",
   "metadata": {},
   "outputs": [
    {
     "data": {
      "text/plain": [
       "8"
      ]
     },
     "execution_count": 134,
     "metadata": {},
     "output_type": "execute_result"
    }
   ],
   "source": [
    "measurements_df.rdd.getNumPartitions()"
   ]
  },
  {
   "cell_type": "code",
   "execution_count": null,
   "id": "2466f937",
   "metadata": {},
   "outputs": [],
   "source": [
    "measurements_df = measurements_df \\\n",
    "                    .repartition(20, 'day', 'city') \\\n",
    "                    .withColumn('hour', get_hour('interval')) \\\n",
    "                    .drop('interval')"
   ]
  },
  {
   "cell_type": "code",
   "execution_count": 136,
   "id": "b4ae9142",
   "metadata": {},
   "outputs": [
    {
     "name": "stderr",
     "output_type": "stream",
     "text": [
      "[Stage 0:=======>                                                   (1 + 7) / 8]\r"
     ]
    },
    {
     "data": {
      "text/plain": [
       "8"
      ]
     },
     "execution_count": 136,
     "metadata": {},
     "output_type": "execute_result"
    }
   ],
   "source": [
    "measurements_df.rdd.getNumPartitions()"
   ]
  },
  {
   "cell_type": "code",
   "execution_count": 137,
   "id": "373242a1",
   "metadata": {},
   "outputs": [
    {
     "name": "stdout",
     "output_type": "stream",
     "text": [
      "root\n",
      " |-- day: date (nullable = true)\n",
      " |-- detid: string (nullable = true)\n",
      " |-- flow: integer (nullable = true)\n",
      " |-- occ: float (nullable = true)\n",
      " |-- error: integer (nullable = true)\n",
      " |-- city: string (nullable = true)\n",
      " |-- speed: float (nullable = true)\n",
      " |-- hour: integer (nullable = true)\n",
      "\n"
     ]
    }
   ],
   "source": [
    "measurements_df.printSchema()"
   ]
  },
  {
   "cell_type": "markdown",
   "id": "1f49c432",
   "metadata": {},
   "source": [
    "## Detectors"
   ]
  },
  {
   "cell_type": "code",
   "execution_count": 138,
   "id": "ecb47ef0",
   "metadata": {},
   "outputs": [],
   "source": [
    "detectors_schema = types.StructType([\n",
    "  types.StructField('detid', types.StringType()),\n",
    "  types.StructField('length', types.DoubleType()),\n",
    "  types.StructField('pos', types.DoubleType()),\n",
    "  types.StructField('fclass', types.StringType()),\n",
    "  types.StructField('road', types.StringType()),\n",
    "  types.StructField('limit', types.IntegerType()),\n",
    "  types.StructField('citycode', types.StringType()),\n",
    "  types.StructField('lanes', types.IntegerType()),\n",
    "  types.StructField('linkid', types.IntegerType()),\n",
    "  types.StructField('long', types.DoubleType()),\n",
    "  types.StructField('lat', types.DoubleType())\n",
    "])"
   ]
  },
  {
   "cell_type": "code",
   "execution_count": 139,
   "id": "97a118bb",
   "metadata": {},
   "outputs": [],
   "source": [
    "detectors_df = spark.read \\\n",
    "                .option(\"header\", True) \\\n",
    "                .schema(detectors_schema) \\\n",
    "                .csv('./data/detectors_public.csv')"
   ]
  },
  {
   "cell_type": "code",
   "execution_count": 140,
   "id": "4b0afb0d",
   "metadata": {},
   "outputs": [],
   "source": [
    "detectors_df = detectors_df.withColumnRenamed('citycode', 'city')"
   ]
  },
  {
   "cell_type": "code",
   "execution_count": 141,
   "id": "dc9adbd6",
   "metadata": {},
   "outputs": [
    {
     "name": "stdout",
     "output_type": "stream",
     "text": [
      "+------+-----------------+-----------------+---------+----------------+-----+--------+-----+------+----------+----------+\n",
      "| detid|           length|              pos|   fclass|            road|limit|    city|lanes|linkid|      long|       lat|\n",
      "+------+-----------------+-----------------+---------+----------------+-----+--------+-----+------+----------+----------+\n",
      "|U1-52G|0.196036689548578|0.005511921838942|secondary|Gögginger Straße|   50|augsburg|    1|    72|10.8895527| 48.359957|\n",
      "|U1-51G|0.130039071784385|0.004013209518671|secondary|Gögginger Straße|   50|augsburg|    1|    73| 10.889601|48.3599454|\n",
      "|U1-52L|0.155863214591286|0.022227823915315|secondary|Gögginger Straße|   50|augsburg|    1|    70|10.8893555|48.3598759|\n",
      "|U1-51L|0.197675412740605|0.021889369247481|secondary|Gögginger Straße|   50|augsburg|    1|    71|10.8893958|48.3598617|\n",
      "| U1-62|0.065182655061287|0.024465133197684|secondary|   Rosenaustraße|   50|augsburg|    1|    68|10.8893609|48.3605781|\n",
      "+------+-----------------+-----------------+---------+----------------+-----+--------+-----+------+----------+----------+\n",
      "only showing top 5 rows\n",
      "\n"
     ]
    },
    {
     "name": "stderr",
     "output_type": "stream",
     "text": [
      "                                                                                \r"
     ]
    }
   ],
   "source": [
    "detectors_df.show(5)"
   ]
  },
  {
   "cell_type": "code",
   "execution_count": 142,
   "id": "2fd8ee16",
   "metadata": {},
   "outputs": [],
   "source": [
    "df = measurements_df.join(broadcast(detectors_df), on=['detid', 'city'])"
   ]
  },
  {
   "cell_type": "code",
   "execution_count": null,
   "id": "792f82b7",
   "metadata": {},
   "outputs": [
    {
     "name": "stderr",
     "output_type": "stream",
     "text": [
      "25/04/09 11:16:09 WARN MemoryManager: Total allocation exceeds 95.00% (1,020,054,720 bytes) of heap memory\n",
      "Scaling row group sizes to 95.00% for 8 writers\n",
      "                                                                                \r"
     ]
    }
   ],
   "source": [
    "df.write.parquet('./data/pq/measurements.csv', mode='overwrite')"
   ]
  },
  {
   "cell_type": "markdown",
   "id": "c44bb22e",
   "metadata": {},
   "source": [
    "## Links"
   ]
  },
  {
   "cell_type": "code",
   "execution_count": 144,
   "id": "623a059b",
   "metadata": {},
   "outputs": [],
   "source": [
    "links_schema = types.StructType([\n",
    "  types.StructField('long', types.DoubleType()),\n",
    "  types.StructField('lat', types.DoubleType()),\n",
    "  types.StructField('order', types.IntegerType()),\n",
    "  types.StructField('piece', types.IntegerType()),\n",
    "  types.StructField('linkid', types.IntegerType()),\n",
    "  types.StructField('group', types.FloatType()),\n",
    "  types.StructField('citycode', types.StringType())\n",
    "])"
   ]
  },
  {
   "cell_type": "code",
   "execution_count": 145,
   "id": "37a86671",
   "metadata": {},
   "outputs": [],
   "source": [
    "links_df = spark.read \\\n",
    "            .option(\"header\", True) \\\n",
    "            .schema(links_schema) \\\n",
    "            .csv('./data/links.csv')"
   ]
  },
  {
   "cell_type": "code",
   "execution_count": 146,
   "id": "c84479cf",
   "metadata": {},
   "outputs": [
    {
     "name": "stdout",
     "output_type": "stream",
     "text": [
      "+----------+----------+-----+-----+------+-----+--------+\n",
      "|      long|       lat|order|piece|linkid|group|citycode|\n",
      "+----------+----------+-----+-----+------+-----+--------+\n",
      "|10.8910158|48.3610789|    1|    1|     0|  0.1|augsburg|\n",
      "|10.8908938|48.3609933|    2|    1|     0|  0.1|augsburg|\n",
      "|10.8906417|48.3608526|    3|    1|     0|  0.1|augsburg|\n",
      "|10.8904043|48.3607189|    4|    1|     0|  0.1|augsburg|\n",
      "|10.8899939| 48.360497|    5|    1|     0|  0.1|augsburg|\n",
      "|10.8909796|48.3611074|    1|    1|     1|  1.1|augsburg|\n",
      "|10.8908589|48.3610201|    2|    1|     1|  1.1|augsburg|\n",
      "| 10.890588|48.3608561|    3|    1|     1|  1.1|augsburg|\n",
      "|10.8903842|48.3607421|    4|    1|     1|  1.1|augsburg|\n",
      "|10.8901803|48.3606378|    5|    1|     1|  1.1|augsburg|\n",
      "|10.8899577|48.3605166|    6|    1|     1|  1.1|augsburg|\n",
      "|10.8935881|48.3648605|    1|    1|     2|  2.1|augsburg|\n",
      "|10.8935827| 48.364693|    2|    1|     2|  2.1|augsburg|\n",
      "|10.8934379|48.3644453|    3|    1|     2|  2.1|augsburg|\n",
      "|10.8928666|48.3636719|    4|    1|     2|  2.1|augsburg|\n",
      "|10.8921289|48.3625901|    5|    1|     2|  2.1|augsburg|\n",
      "|10.8914557|48.3616723|    6|    1|     2|  2.1|augsburg|\n",
      "|10.8911768|48.3612829|    7|    1|     2|  2.1|augsburg|\n",
      "|10.8910507|48.3611644|    8|    1|     2|  2.1|augsburg|\n",
      "|10.8909796|48.3611074|    9|    1|     2|  2.1|augsburg|\n",
      "+----------+----------+-----+-----+------+-----+--------+\n",
      "only showing top 20 rows\n",
      "\n"
     ]
    }
   ],
   "source": [
    "links_df.show()"
   ]
  },
  {
   "cell_type": "code",
   "execution_count": 147,
   "id": "9ae18c5b",
   "metadata": {},
   "outputs": [],
   "source": [
    "spark.stop()"
   ]
  }
 ],
 "metadata": {
  "kernelspec": {
   "display_name": ".venv",
   "language": "python",
   "name": "python3"
  },
  "language_info": {
   "codemirror_mode": {
    "name": "ipython",
    "version": 3
   },
   "file_extension": ".py",
   "mimetype": "text/x-python",
   "name": "python",
   "nbconvert_exporter": "python",
   "pygments_lexer": "ipython3",
   "version": "3.9.6"
  }
 },
 "nbformat": 4,
 "nbformat_minor": 5
}
