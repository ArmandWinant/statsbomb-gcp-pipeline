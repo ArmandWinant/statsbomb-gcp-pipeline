{
 "cells": [
  {
   "cell_type": "code",
   "execution_count": 81,
   "id": "b83071dd",
   "metadata": {},
   "outputs": [],
   "source": [
    "from pyspark.sql import SparkSession, types\n",
    "from pyspark.sql.functions import pandas_udf, broadcast, round\n",
    "import pandas as pd"
   ]
  },
  {
   "cell_type": "code",
   "execution_count": 82,
   "id": "85b14c2f",
   "metadata": {},
   "outputs": [],
   "source": [
    "spark = SparkSession \\\n",
    "          .builder \\\n",
    "          .master('local[*]') \\\n",
    "          .appName('test') \\\n",
    "          .getOrCreate()"
   ]
  },
  {
   "cell_type": "markdown",
   "id": "228481e5",
   "metadata": {},
   "source": [
    "## Measurements"
   ]
  },
  {
   "cell_type": "code",
   "execution_count": 83,
   "id": "ebe884c0",
   "metadata": {},
   "outputs": [],
   "source": [
    "measurements_schema = types.StructType([\n",
    "  types.StructField('day', types.DateType(), nullable=False),\n",
    "  types.StructField('interval', types.IntegerType(), nullable=False),\n",
    "  types.StructField('detid', types.StringType(), nullable=False),\n",
    "  types.StructField('flow', types.IntegerType(), nullable=True),\n",
    "  types.StructField('occ', types.FloatType(), nullable=True),\n",
    "  types.StructField('error', types.IntegerType(), nullable=True),\n",
    "  types.StructField('city', types.StringType(), nullable=False),\n",
    "  types.StructField('speed', types.FloatType(), nullable=True)\n",
    "])"
   ]
  },
  {
   "cell_type": "code",
   "execution_count": 84,
   "id": "6efc2b3f",
   "metadata": {},
   "outputs": [],
   "source": [
    "@pandas_udf(types.IntegerType())\n",
    "def get_hour(intervals: pd.Series) -> pd.Series:\n",
    "  return intervals.floordiv(60 ** 2)"
   ]
  },
  {
   "cell_type": "code",
   "execution_count": 85,
   "id": "4d8c069e",
   "metadata": {},
   "outputs": [],
   "source": [
    "measurements_df = spark.read \\\n",
    "                    .option(\"header\", True) \\\n",
    "                    .schema(measurements_schema) \\\n",
    "                    .csv('./data/measurements_test.csv')"
   ]
  },
  {
   "cell_type": "code",
   "execution_count": 86,
   "id": "2466f937",
   "metadata": {},
   "outputs": [],
   "source": [
    "measurements_df = measurements_df \\\n",
    "                    .repartition(20, 'day', 'city') \\\n",
    "                    .withColumn('hour', get_hour('interval')) \\\n",
    "                    .withColumn('density', round(measurements_df.occ * 100)) \\\n",
    "                    .drop('interval', 'occ')"
   ]
  },
  {
   "cell_type": "code",
   "execution_count": 87,
   "id": "55c0b092",
   "metadata": {},
   "outputs": [],
   "source": [
    "hrly_measurements_df = measurements_df \\\n",
    "  .groupBy(['city', 'detid', 'day', 'hour']) \\\n",
    "  .agg({\n",
    "    'flow': 'mean',\n",
    "    'density': 'mean',\n",
    "    'speed': 'mean',\n",
    "    'error': 'array_agg'\n",
    "  })"
   ]
  },
  {
   "cell_type": "code",
   "execution_count": 88,
   "id": "86a75941",
   "metadata": {},
   "outputs": [],
   "source": [
    "hrly_measurements_df = hrly_measurements_df.withColumnsRenamed(\n",
    "  {\n",
    "    'collect_list(error)': 'errors',\n",
    "    'avg(flow)': 'flow',\n",
    "    'avg(density)': 'density',\n",
    "    'avg(speed)': 'speed'\n",
    "  }\n",
    ")"
   ]
  },
  {
   "cell_type": "code",
   "execution_count": 89,
   "id": "17d593d7",
   "metadata": {},
   "outputs": [
    {
     "name": "stderr",
     "output_type": "stream",
     "text": [
      "[Stage 2:======================================================>  (19 + 1) / 20]\r"
     ]
    },
    {
     "name": "stdout",
     "output_type": "stream",
     "text": [
      "+--------+--------+----------+----+-------+--------------------+-----+-----+\n",
      "|    city|   detid|       day|hour|density|              errors| flow|speed|\n",
      "+--------+--------+----------+----+-------+--------------------+-----+-----+\n",
      "|augsburg|06.X-2li|2017-05-06|   4|    0.0|[1, 1, 1, 1, 1, 1...|  5.0| NULL|\n",
      "|augsburg|06.X-2li|2017-05-06|   5|    2.5|[1, 1, 1, 1, 1, 1...| 14.0| NULL|\n",
      "|augsburg|06.X-2li|2017-05-06|   6|   1.25|[1, 1, 1, 1, 1, 1...| 13.0| NULL|\n",
      "|augsburg|06.X-2li|2017-05-06|  11|  35.75|[1, 1, 1, 1, 1, 1...|100.0| NULL|\n",
      "|augsburg|06.X-2li|2017-05-06|  17|   36.5|[1, 1, 1, 1, 1, 1...|113.0| NULL|\n",
      "|augsburg|06.X-2li|2017-05-06|  21|   0.25|[1, 1, 1, 1, 1, 1...| 35.0| NULL|\n",
      "|augsburg|06.X-2li|2017-05-06|  22|   0.25|[1, 1, 1, 1, 1, 1...| 20.0| NULL|\n",
      "|augsburg|06.X-2li|2017-05-07|   0|    0.0|[1, 1, 1, 1, 1, 1...|  9.0| NULL|\n",
      "|augsburg|06.X-2li|2017-05-07|   3|    0.0|[1, 1, 1, 1, 1, 1...|  5.0| NULL|\n",
      "|augsburg|06.X-2li|2017-05-07|   4|    0.0|[1, 1, 1, 1, 1, 1...|  3.0| NULL|\n",
      "|augsburg|06.X-2li|2017-05-07|   8|    0.5|[1, 1, 1, 1, 1, 1...| 25.0| NULL|\n",
      "|augsburg|06.X-2li|2017-05-07|   9|   8.75|[1, 1, 1, 1, 1, 1...| 29.0| NULL|\n",
      "|augsburg|06.X-2li|2017-05-07|  10|   25.0|[1, 1, 1, 1, 1, 1...| 54.0| NULL|\n",
      "|augsburg|06.X-2li|2017-05-07|  11|   27.5|[1, 1, 1, 1, 1, 1...| 64.0| NULL|\n",
      "|augsburg|06.X-2li|2017-05-07|  13|   23.5|[1, 1, 1, 1, 1, 1...| 56.0| NULL|\n",
      "|augsburg|06.X-2li|2017-05-07|  14|  20.75|[1, 1, 1, 1, 1, 1...| 45.0| NULL|\n",
      "|augsburg|06.X-2li|2017-05-07|  15|   15.5|[1, 1, 1, 1, 1, 1...| 42.0| NULL|\n",
      "|augsburg|06.X-2li|2017-05-07|  22|    0.0|[1, 1, 1, 1, 1, 1...|  9.0| NULL|\n",
      "|augsburg|06.X-2li|2017-05-08|   1|    0.0|[1, 1, 1, 1, 1, 1...|  3.0| NULL|\n",
      "|augsburg|06.X-2li|2017-05-08|   4|    0.0|[1, 1, 1, 1, 1, 1...|  8.0| NULL|\n",
      "+--------+--------+----------+----+-------+--------------------+-----+-----+\n",
      "only showing top 20 rows\n",
      "\n"
     ]
    },
    {
     "name": "stderr",
     "output_type": "stream",
     "text": [
      "                                                                                \r"
     ]
    }
   ],
   "source": [
    "hrly_measurements_df.show(20)"
   ]
  },
  {
   "cell_type": "markdown",
   "id": "1f49c432",
   "metadata": {},
   "source": [
    "## Detectors"
   ]
  },
  {
   "cell_type": "code",
   "execution_count": 90,
   "id": "ecb47ef0",
   "metadata": {},
   "outputs": [],
   "source": [
    "detectors_schema = types.StructType([\n",
    "  types.StructField('detid', types.StringType()),\n",
    "  types.StructField('length', types.DoubleType()),\n",
    "  types.StructField('pos', types.DoubleType()),\n",
    "  types.StructField('fclass', types.StringType()),\n",
    "  types.StructField('road', types.StringType()),\n",
    "  types.StructField('limit', types.IntegerType()),\n",
    "  types.StructField('citycode', types.StringType()),\n",
    "  types.StructField('lanes', types.IntegerType()),\n",
    "  types.StructField('linkid', types.IntegerType()),\n",
    "  types.StructField('long', types.DoubleType()),\n",
    "  types.StructField('lat', types.DoubleType())\n",
    "])"
   ]
  },
  {
   "cell_type": "code",
   "execution_count": 91,
   "id": "97a118bb",
   "metadata": {},
   "outputs": [],
   "source": [
    "detectors_df = spark.read \\\n",
    "                .option(\"header\", True) \\\n",
    "                .schema(detectors_schema) \\\n",
    "                .csv('./data/detectors_public.csv')"
   ]
  },
  {
   "cell_type": "code",
   "execution_count": 93,
   "id": "4b0afb0d",
   "metadata": {},
   "outputs": [],
   "source": [
    "detectors_df = detectors_df \\\n",
    "                .drop('linkid', 'pos', 'length') \\\n",
    "                .withColumnRenamed('citycode', 'city')"
   ]
  },
  {
   "cell_type": "code",
   "execution_count": 94,
   "id": "d4e69550",
   "metadata": {},
   "outputs": [
    {
     "name": "stdout",
     "output_type": "stream",
     "text": [
      "+------+---------+----------------+-----+--------+-----+----------+----------+\n",
      "| detid|   fclass|            road|limit|    city|lanes|      long|       lat|\n",
      "+------+---------+----------------+-----+--------+-----+----------+----------+\n",
      "|U1-52G|secondary|Gögginger Straße|   50|augsburg|    1|10.8895527| 48.359957|\n",
      "|U1-51G|secondary|Gögginger Straße|   50|augsburg|    1| 10.889601|48.3599454|\n",
      "|U1-52L|secondary|Gögginger Straße|   50|augsburg|    1|10.8893555|48.3598759|\n",
      "|U1-51L|secondary|Gögginger Straße|   50|augsburg|    1|10.8893958|48.3598617|\n",
      "| U1-62|secondary|   Rosenaustraße|   50|augsburg|    1|10.8893609|48.3605781|\n",
      "+------+---------+----------------+-----+--------+-----+----------+----------+\n",
      "only showing top 5 rows\n",
      "\n"
     ]
    }
   ],
   "source": [
    "detectors_df.show(5)"
   ]
  },
  {
   "cell_type": "markdown",
   "id": "7af76fd7",
   "metadata": {},
   "source": [
    "## Merge"
   ]
  },
  {
   "cell_type": "code",
   "execution_count": null,
   "id": "2fd8ee16",
   "metadata": {},
   "outputs": [],
   "source": [
    "hrly_df = hrly_measurements_df.join(broadcast(detectors_df), on=['detid', 'city'])"
   ]
  },
  {
   "cell_type": "code",
   "execution_count": null,
   "id": "792f82b7",
   "metadata": {},
   "outputs": [
    {
     "name": "stderr",
     "output_type": "stream",
     "text": [
      "25/04/09 11:17:41 WARN MemoryManager: Total allocation exceeds 95.00% (1,020,054,720 bytes) of heap memory\n",
      "Scaling row group sizes to 95.00% for 8 writers\n",
      "25/04/09 11:17:42 WARN MemoryManager: Total allocation exceeds 95.00% (1,020,054,720 bytes) of heap memory\n",
      "Scaling row group sizes to 95.00% for 8 writers\n",
      "25/04/09 11:17:42 WARN MemoryManager: Total allocation exceeds 95.00% (1,020,054,720 bytes) of heap memory\n",
      "Scaling row group sizes to 95.00% for 8 writers\n",
      "25/04/09 11:17:43 WARN MemoryManager: Total allocation exceeds 95.00% (1,020,054,720 bytes) of heap memory\n",
      "Scaling row group sizes to 95.00% for 8 writers\n",
      "                                                                                \r"
     ]
    }
   ],
   "source": [
    "# df.write.parquet('./data/pq/measurements.csv', mode='overwrite')"
   ]
  },
  {
   "cell_type": "code",
   "execution_count": 80,
   "id": "9ae18c5b",
   "metadata": {},
   "outputs": [],
   "source": [
    "spark.stop()"
   ]
  }
 ],
 "metadata": {
  "kernelspec": {
   "display_name": ".venv",
   "language": "python",
   "name": "python3"
  },
  "language_info": {
   "codemirror_mode": {
    "name": "ipython",
    "version": 3
   },
   "file_extension": ".py",
   "mimetype": "text/x-python",
   "name": "python",
   "nbconvert_exporter": "python",
   "pygments_lexer": "ipython3",
   "version": "3.9.6"
  }
 },
 "nbformat": 4,
 "nbformat_minor": 5
}
