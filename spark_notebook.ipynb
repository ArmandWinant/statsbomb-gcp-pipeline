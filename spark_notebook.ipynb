{
 "cells": [
  {
   "cell_type": "code",
   "execution_count": 2,
   "id": "b83071dd",
   "metadata": {},
   "outputs": [],
   "source": [
    "from pyspark.sql import SparkSession, types\n",
    "from pyspark.sql.functions import pandas_udf\n",
    "import pandas as pd"
   ]
  },
  {
   "cell_type": "code",
   "execution_count": 3,
   "id": "85b14c2f",
   "metadata": {},
   "outputs": [
    {
     "name": "stderr",
     "output_type": "stream",
     "text": [
      "Setting default log level to \"WARN\".\n",
      "To adjust logging level use sc.setLogLevel(newLevel). For SparkR, use setLogLevel(newLevel).\n",
      "25/04/08 23:03:07 WARN NativeCodeLoader: Unable to load native-hadoop library for your platform... using builtin-java classes where applicable\n"
     ]
    }
   ],
   "source": [
    "spark = SparkSession \\\n",
    "          .builder \\\n",
    "          .master('local[*]') \\\n",
    "          .appName('test') \\\n",
    "          .getOrCreate()"
   ]
  },
  {
   "cell_type": "markdown",
   "id": "228481e5",
   "metadata": {},
   "source": [
    "## Measurements"
   ]
  },
  {
   "cell_type": "code",
   "execution_count": 4,
   "id": "ebe884c0",
   "metadata": {},
   "outputs": [],
   "source": [
    "measurements_schema = types.StructType([\n",
    "  types.StructField('day', types.DateType(), nullable=False),\n",
    "  types.StructField('interval', types.IntegerType(), nullable=False),\n",
    "  types.StructField('detid', types.StringType(), nullable=False),\n",
    "  types.StructField('flow', types.IntegerType(), nullable=True),\n",
    "  types.StructField('occ', types.FloatType(), nullable=True),\n",
    "  types.StructField('error', types.IntegerType(), nullable=True),\n",
    "  types.StructField('city', types.StringType(), nullable=False),\n",
    "  types.StructField('speed', types.FloatType(), nullable=True)\n",
    "])"
   ]
  },
  {
   "cell_type": "code",
   "execution_count": 9,
   "id": "4d8c069e",
   "metadata": {},
   "outputs": [],
   "source": [
    "measurements_df = spark.read \\\n",
    "                    .option(\"header\", True) \\\n",
    "                    .schema(measurements_schema) \\\n",
    "                    .csv('./data/measurements_test.csv')"
   ]
  },
  {
   "cell_type": "code",
   "execution_count": null,
   "id": "85cdc2cd",
   "metadata": {},
   "outputs": [],
   "source": [
    "# @pandas_udf(types.TimestampType())\n",
    "# def get_timestamp(days: pd.Series, intervals: pd.Series) -> pd.Series:\n",
    "#   dts = pd.to_datetime(days)\n",
    "#   deltas = pd.to_timedelta(intervals, unit='s')\n",
    "#   return dts + deltas"
   ]
  },
  {
   "cell_type": "code",
   "execution_count": 10,
   "id": "852466cb",
   "metadata": {},
   "outputs": [],
   "source": [
    "@pandas_udf(types.IntegerType())\n",
    "def get_hour(intervals: pd.Series) -> pd.Series:\n",
    "  # deltas = pd.to_timedelta(intervals, unit='s')\n",
    "  # return deltas.dt.components.hours\n",
    "  return intervals.floordiv(3600)"
   ]
  },
  {
   "cell_type": "code",
   "execution_count": null,
   "id": "2466f937",
   "metadata": {},
   "outputs": [],
   "source": [
    "measurements_df = measurements_df \\\n",
    "                    .withColumn('hour', get_hour('interval')) \\\n",
    "                    .drop('interval')"
   ]
  },
  {
   "cell_type": "markdown",
   "id": "1f49c432",
   "metadata": {},
   "source": [
    "## Detectors"
   ]
  },
  {
   "cell_type": "code",
   "execution_count": 14,
   "id": "ecb47ef0",
   "metadata": {},
   "outputs": [],
   "source": [
    "detectors_schema = types.StructType([\n",
    "  types.StructField('detid', types.StringType()),\n",
    "  types.StructField('length', types.DoubleType()),\n",
    "  types.StructField('pos', types.DoubleType()),\n",
    "  types.StructField('fclass', types.StringType()),\n",
    "  types.StructField('road', types.StringType()),\n",
    "  types.StructField('limit', types.IntegerType()),\n",
    "  types.StructField('citycode', types.StringType()),\n",
    "  types.StructField('lanes', types.IntegerType()),\n",
    "  types.StructField('linkid', types.IntegerType()),\n",
    "  types.StructField('long', types.DoubleType()),\n",
    "  types.StructField('lat', types.DoubleType())\n",
    "])"
   ]
  },
  {
   "cell_type": "code",
   "execution_count": 15,
   "id": "97a118bb",
   "metadata": {},
   "outputs": [],
   "source": [
    "detectors_df = spark.read \\\n",
    "                .option(\"header\", True) \\\n",
    "                .schema(detectors_schema) \\\n",
    "                .csv('./data/detectors_public.csv')"
   ]
  },
  {
   "cell_type": "code",
   "execution_count": 16,
   "id": "2fd8ee16",
   "metadata": {},
   "outputs": [
    {
     "name": "stdout",
     "output_type": "stream",
     "text": [
      "+------+-----------------+-----------------+-----------+----------------+-----+--------+-----+------+----------+----------+\n",
      "| detid|           length|              pos|     fclass|            road|limit|citycode|lanes|linkid|      long|       lat|\n",
      "+------+-----------------+-----------------+-----------+----------------+-----+--------+-----+------+----------+----------+\n",
      "|U1-52G|0.196036689548578|0.005511921838942|  secondary|Gögginger Straße|   50|augsburg|    1|    72|10.8895527| 48.359957|\n",
      "|U1-51G|0.130039071784385|0.004013209518671|  secondary|Gögginger Straße|   50|augsburg|    1|    73| 10.889601|48.3599454|\n",
      "|U1-52L|0.155863214591286|0.022227823915315|  secondary|Gögginger Straße|   50|augsburg|    1|    70|10.8893555|48.3598759|\n",
      "|U1-51L|0.197675412740605|0.021889369247481|  secondary|Gögginger Straße|   50|augsburg|    1|    71|10.8893958|48.3598617|\n",
      "| U1-62|0.065182655061287|0.024465133197684|  secondary|   Rosenaustraße|   50|augsburg|    1|    68|10.8893609|48.3605781|\n",
      "| U1-61|0.436383966069182|0.021136542430776|  secondary|   Rosenaustraße|   50|augsburg|    1|    67|10.8893435|48.3605558|\n",
      "| U1-42|0.099691259701495|0.039163079997061|   tertiary|Gögginger Straße|   50|augsburg|    1|     0|10.8904043|48.3607189|\n",
      "| U1-41|0.100387211424418|0.040348813783393|   tertiary|Gögginger Straße|   50|augsburg|    1|     1|10.8903842|48.3607421|\n",
      "|  U1-2|0.092166064066626| 0.03813064814834|   tertiary|Gögginger Straße|   50|augsburg|    1|    69| 10.890419|48.3606031|\n",
      "|  U1-3|0.473093419220592|0.015152071405354|   tertiary|   Stettenstraße|   50|augsburg|    1|   365|10.8912411|48.3607617|\n",
      "| U1-11|0.462150085312665| 0.02439612227856|   tertiary|    Hermanstraße|   50|augsburg|    1|     2|10.8911768|48.3612829|\n",
      "| U1-12|0.093054643572405| 0.02463298744913|   tertiary|    Hermanstraße|   50|augsburg|    1|     3|10.8912196|48.3612678|\n",
      "| U2-1R|0.189287632924729|0.031504014769015|  secondary|Gögginger Straße|   50|augsburg|    1|    75|10.8883739|48.3591176|\n",
      "| U2-11|0.188083376043536|0.031997526359001|  secondary|Gögginger Straße|   50|augsburg|    1|    76|10.8884208|48.3591051|\n",
      "| U2-12|0.063674293032176|0.032028715175314|  secondary|Gögginger Straße|   50|augsburg|    1|    74|10.8884771|48.3590918|\n",
      "| U2-21|0.097344528990126|0.027047552105686|  secondary|Gögginger Straße|   50|augsburg|    1|    79|10.8880788|48.3582657|\n",
      "| U2-22|0.095937360699466| 0.02466338707553|  secondary|Gögginger Straße|   50|augsburg|    1|    80|10.8881244|48.3582586|\n",
      "| U3-12|0.111829779559383|0.026902073316891|  secondary|Gögginger Straße|   50|augsburg|    1|    78|10.8877234|48.3581587|\n",
      "| U3-11|0.112663757015737|0.026863965836306|  secondary|Gögginger Straße|   50|augsburg|    1|    77|10.8876859|48.3581686|\n",
      "| U3-22|0.144961793514368|0.014403986250103|residential|    Elisenstraße|   30|augsburg|    1|    81|10.8871374|48.3579493|\n",
      "+------+-----------------+-----------------+-----------+----------------+-----+--------+-----+------+----------+----------+\n",
      "only showing top 20 rows\n",
      "\n"
     ]
    }
   ],
   "source": [
    "detectors_df.show()"
   ]
  },
  {
   "cell_type": "markdown",
   "id": "c44bb22e",
   "metadata": {},
   "source": [
    "## Links"
   ]
  },
  {
   "cell_type": "code",
   "execution_count": null,
   "id": "37a86671",
   "metadata": {},
   "outputs": [],
   "source": []
  },
  {
   "cell_type": "code",
   "execution_count": 147,
   "id": "9ae18c5b",
   "metadata": {},
   "outputs": [],
   "source": [
    "spark.stop()"
   ]
  },
  {
   "cell_type": "code",
   "execution_count": null,
   "id": "a9a8da8d",
   "metadata": {},
   "outputs": [],
   "source": []
  }
 ],
 "metadata": {
  "kernelspec": {
   "display_name": ".venv",
   "language": "python",
   "name": "python3"
  },
  "language_info": {
   "codemirror_mode": {
    "name": "ipython",
    "version": 3
   },
   "file_extension": ".py",
   "mimetype": "text/x-python",
   "name": "python",
   "nbconvert_exporter": "python",
   "pygments_lexer": "ipython3",
   "version": "3.9.6"
  }
 },
 "nbformat": 4,
 "nbformat_minor": 5
}
