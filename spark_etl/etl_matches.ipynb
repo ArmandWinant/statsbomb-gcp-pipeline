{
 "cells": [
  {
   "cell_type": "code",
   "execution_count": 76,
   "id": "55c96fac",
   "metadata": {},
   "outputs": [],
   "source": [
    "from pyspark.sql import SparkSession, types, functions as F\n",
    "import pandas as pd"
   ]
  },
  {
   "cell_type": "code",
   "execution_count": 77,
   "id": "333765b6",
   "metadata": {},
   "outputs": [],
   "source": [
    "spark = SparkSession\\\n",
    "  .builder\\\n",
    "  .master(\"local[*]\")\\\n",
    "  .appName('matches_etl')\\\n",
    "  .config(\"spark.driver.bindAddress\", \"127.0.0.1\")\\\n",
    "  .getOrCreate()"
   ]
  },
  {
   "cell_type": "code",
   "execution_count": 78,
   "id": "293dce35",
   "metadata": {},
   "outputs": [
    {
     "name": "stderr",
     "output_type": "stream",
     "text": [
      "                                                                                \r"
     ]
    }
   ],
   "source": [
    "df_nested = spark.read\\\n",
    "  .option(\"multiline\", \"true\")\\\n",
    "  .json(\"./data/matches/*/*\")"
   ]
  },
  {
   "cell_type": "code",
   "execution_count": 79,
   "id": "a93abe90",
   "metadata": {},
   "outputs": [],
   "source": [
    "df_flat = df_nested.select(\n",
    "    F.col('match_id').cast(types.IntegerType()),\n",
    "    F.col('match_date'),\n",
    "    F.col('kick_off'),\n",
    "    F.col('match_week').cast(types.IntegerType()),\n",
    "    F.col('season.season_id').cast(types.IntegerType()).alias('season_id'),\n",
    "    F.col('season.season_name').cast(types.StringType()).alias('season_name'),\n",
    "    F.col('competition.competition_id').cast(types.IntegerType()).alias('competition_id'),\n",
    "    F.col('competition.competition_name').cast(types.StringType()).alias('competition_name'),\n",
    "    F.col('competition.country_name').cast(types.StringType()).alias('competition_country'),\n",
    "    F.col('competition_stage.id').cast(types.IntegerType()).alias('competition_stage_id'),\n",
    "    F.col('competition_stage.name').cast(types.StringType()).alias('competition_stage_name'),\n",
    "    F.col('home_team.home_team_id').cast(types.IntegerType()).alias('home_team_id'),\n",
    "    F.col('home_team.home_team_name').cast(types.StringType()).alias('home_team_name'),\n",
    "    F.col('home_team.home_team_gender').cast(types.StringType()).alias('home_team_gender'),\n",
    "    F.col('home_team.home_team_group').cast(types.StringType()).alias('home_team_group'),\n",
    "    F.col('home_team.country.id').cast(types.IntegerType()).alias('home_team_country_id'),\n",
    "    F.col('home_team.country.name').cast(types.StringType()).alias('home_team_country'),\n",
    "    F.col('away_team.away_team_id').cast(types.IntegerType()).alias('away_team_id'),\n",
    "    F.col('away_team.away_team_name').cast(types.StringType()).alias('away_team_name'),\n",
    "    F.col('away_team.away_team_gender').cast(types.StringType()).alias('away_team_gender'),\n",
    "    F.col('away_team.away_team_group').cast(types.StringType()).alias('away_team_group'),\n",
    "    F.col('away_team.country.id').cast(types.IntegerType()).alias('away_team_country_id'),\n",
    "    F.col('away_team.country.name').cast(types.StringType()).alias('away_team_country'),\n",
    "    F.col('home_score').cast(types.IntegerType()),\n",
    "    F.col('away_score').cast(types.IntegerType()),\n",
    "    F.col('referee.id').cast(types.IntegerType()).alias('referee_id'),\n",
    "    F.col('referee.name').cast(types.StringType()).alias('referee_name'),\n",
    "    F.col('stadium.id').cast(types.IntegerType()).alias('stadium_id'),\n",
    "    F.col('stadium.name').cast(types.StringType()).alias('stadium_name'),\n",
    "    F.col('stadium.country.id').cast(types.IntegerType()).alias('stadium_country_id'),\n",
    "    F.col('stadium.country.name').cast(types.StringType()).alias('stadium_country_name')\n",
    ")"
   ]
  },
  {
   "cell_type": "code",
   "execution_count": 80,
   "id": "b58b9c3b",
   "metadata": {},
   "outputs": [
    {
     "name": "stdout",
     "output_type": "stream",
     "text": [
      "+--------+----------+------------+----------+---------+-----------+--------------+----------------+-------------------+--------------------+----------------------+------------+--------------------+----------------+---------------+--------------------+-----------------+------------+--------------------+----------------+---------------+--------------------+-----------------+----------+----------+----------+--------------------+----------+--------------------+------------------+--------------------+\n",
      "|match_id|match_date|    kick_off|match_week|season_id|season_name|competition_id|competition_name|competition_country|competition_stage_id|competition_stage_name|home_team_id|      home_team_name|home_team_gender|home_team_group|home_team_country_id|home_team_country|away_team_id|      away_team_name|away_team_gender|away_team_group|away_team_country_id|away_team_country|home_score|away_score|referee_id|        referee_name|stadium_id|        stadium_name|stadium_country_id|stadium_country_name|\n",
      "+--------+----------+------------+----------+---------+-----------+--------------+----------------+-------------------+--------------------+----------------------+------------+--------------------+----------------+---------------+--------------------+-----------------+------------+--------------------+----------------+---------------+--------------------+-----------------+----------+----------+----------+--------------------+----------+--------------------+------------------+--------------------+\n",
      "| 3825848|2015-09-23|20:00:00.000|         5|       27|  2015/2016|            11|         La Liga|              Spain|                   1|        Regular Season|         221|          Levante UD|            male|           NULL|                 214|            Spain|         322|               Eibar|            male|           NULL|                 214|            Spain|         2|         2|      NULL|                NULL|       350|Estadio Ciudad de...|               214|               Spain|\n",
      "| 3825895|2015-09-23|22:00:00.000|         5|       27|  2015/2016|            11|         La Liga|              Spain|                   1|        Regular Season|         208|          Las Palmas|            male|           NULL|                 214|            Spain|         213|             Sevilla|            male|           NULL|                 214|            Spain|         2|         0|      2728|Carlos del Cerro ...|       357|Estadio de Gran C...|               214|               Spain|\n",
      "| 3825894|2016-05-01|18:15:00.000|        36|       27|  2015/2016|            11|         La Liga|              Spain|                   1|        Regular Season|         219|RC Deportivo La C...|            male|           NULL|                 214|            Spain|         216|              Getafe|            male|           NULL|                 214|            Spain|         0|         2|      1008|   Carlos Clos Gómez|      4658|Estadio Abanca-Ri...|               214|               Spain|\n",
      "| 3825855|2016-05-02|20:30:00.000|        36|       27|  2015/2016|            11|         La Liga|              Spain|                   1|        Regular Season|         223|              Málaga|            male|           NULL|                 214|            Spain|         221|          Levante UD|            male|           NULL|                 214|            Spain|         3|         1|      2480|Iñaki Bikandi Gar...|       346| Estadio La Rosaleda|               214|               Spain|\n",
      "| 3825908|2016-05-15|19:00:00.000|        38|       27|  2015/2016|            11|         La Liga|              Spain|                   1|        Regular Season|         214|            Espanyol|            male|           NULL|                 214|            Spain|         322|               Eibar|            male|           NULL|                 214|            Spain|         4|         2|      2692|  Mario Melero López|       351|        RCDE Stadium|               214|               Spain|\n",
      "| 3825883|2016-05-15|12:00:00.000|        38|       27|  2015/2016|            11|         La Liga|              Spain|                   1|        Regular Season|         223|              Málaga|            male|           NULL|                 214|            Spain|         208|          Las Palmas|            male|           NULL|                 214|            Spain|         4|         1|      2602|Ricardo De Burgos...|       346| Estadio La Rosaleda|               214|               Spain|\n",
      "| 3825900|2016-05-15|19:30:00.000|        38|       27|  2015/2016|            11|         La Liga|              Spain|                   1|        Regular Season|        1041|      Sporting Gijón|            male|           NULL|                 214|            Spain|         222|          Villarreal|            male|           NULL|                 214|            Spain|         2|         0|       221|Alberto Undiano M...|      4656|Estadio Municipal...|               214|               Spain|\n",
      "| 3825902|2016-05-15|19:30:00.000|        38|       27|  2015/2016|            11|         La Liga|              Spain|                   1|        Regular Season|         360|      Rayo Vallecano|            male|           NULL|                 214|            Spain|         221|          Levante UD|            male|           NULL|                 214|            Spain|         3|         1|      1008|   Carlos Clos Gómez|      4640| Estadio de Vallecas|               214|               Spain|\n",
      "| 3825876|2016-05-15|19:30:00.000|        38|       27|  2015/2016|            11|         La Liga|              Spain|                   1|        Regular Season|         218|          Real Betis|            male|           NULL|                 214|            Spain|         216|              Getafe|            male|           NULL|                 214|            Spain|         2|         1|       183|   Jesús Gil Manzano|       352|Estadio Benito Vi...|               214|               Spain|\n",
      "| 3825846|2016-05-14|17:00:00.000|        38|       27|  2015/2016|            11|         La Liga|              Spain|                   1|        Regular Season|         219|RC Deportivo La C...|            male|           NULL|                 214|            Spain|         220|         Real Madrid|            male|           NULL|                 214|            Spain|         0|         2|       180|Antonio Miguel Ma...|      4658|Estadio Abanca-Ri...|               214|               Spain|\n",
      "| 3825869|2016-05-14|19:30:00.000|        38|       27|  2015/2016|            11|         La Liga|              Spain|                   1|        Regular Season|         215|       Athletic Club|            male|           NULL|                 214|            Spain|         213|             Sevilla|            male|           NULL|                 214|            Spain|         3|         1|       212|Alfonso Álvarez I...|       345|    San Mamés Barria|               214|               Spain|\n",
      "| 3825882|2016-05-14|19:30:00.000|        38|       27|  2015/2016|            11|         La Liga|              Spain|                   1|        Regular Season|         212|     Atlético Madrid|            male|           NULL|                 214|            Spain|         209|          Celta Vigo|            male|           NULL|                 214|            Spain|         2|         0|       222|David Fernández B...|       625|Estadio Vicente C...|               214|               Spain|\n",
      "| 3825849|2016-05-13|20:30:00.000|        38|       27|  2015/2016|            11|         La Liga|              Spain|                   1|        Regular Season|         207|            Valencia|            male|           NULL|                 214|            Spain|         210|       Real Sociedad|            male|           NULL|                 214|            Spain|         0|         1|      2535|Carlos Velasco Ca...|       344| Estadio de Mestalla|               214|               Spain|\n",
      "| 3825860|2016-05-08|17:00:00.000|        37|       27|  2015/2016|            11|         La Liga|              Spain|                   1|        Regular Season|         221|          Levante UD|            male|           NULL|                 214|            Spain|         212|     Atlético Madrid|            male|           NULL|                 214|            Spain|         2|         1|       211|José Luis Gonzále...|       350|Estadio Ciudad de...|               214|               Spain|\n",
      "| 3825847|2016-04-23|22:05:00.000|        35|       27|  2015/2016|            11|         La Liga|              Spain|                   1|        Regular Season|         322|               Eibar|            male|           NULL|                 214|            Spain|         219|RC Deportivo La C...|            male|           NULL|                 214|            Spain|         1|         1|      2419|Eduardo Prieto Ig...|       347|Estadio Municipal...|               214|               Spain|\n",
      "| 3825817|2016-03-18|21:30:00.000|        30|       27|  2015/2016|            11|         La Liga|              Spain|                   1|        Regular Season|         216|              Getafe|            male|           NULL|                 214|            Spain|         322|               Eibar|            male|           NULL|                 214|            Spain|         1|         1|       218|Ignacio Iglesias ...|       354|Coliseum Alfonso ...|               214|               Spain|\n",
      "| 3825778|2016-02-20|21:30:00.000|        25|       27|  2015/2016|            11|         La Liga|              Spain|                   1|        Regular Season|         218|          Real Betis|            male|           NULL|                 214|            Spain|        1041|      Sporting Gijón|            male|           NULL|                 214|            Spain|         1|         1|       212|Alfonso Álvarez I...|       352|Estadio Benito Vi...|               214|               Spain|\n",
      "| 3825777|2016-02-19|21:30:00.000|        25|       27|  2015/2016|            11|         La Liga|              Spain|                   1|        Regular Season|         221|          Levante UD|            male|           NULL|                 214|            Spain|         216|              Getafe|            male|           NULL|                 214|            Spain|         3|         0|       211|José Luis Gonzále...|       350|Estadio Ciudad de...|               214|               Spain|\n",
      "| 3825740|2016-01-18|21:30:00.000|        20|       27|  2015/2016|            11|         La Liga|              Spain|                   1|        Regular Season|         322|               Eibar|            male|           NULL|                 214|            Spain|        1049|             Granada|            male|           NULL|                 214|            Spain|         5|         1|      2625|José María Sánche...|       347|Estadio Municipal...|               214|               Spain|\n",
      "| 3825875|2016-04-24|20:30:00.000|        35|       27|  2015/2016|            11|         La Liga|              Spain|                   1|        Regular Season|         222|          Villarreal|            male|           NULL|                 214|            Spain|         210|       Real Sociedad|            male|           NULL|                 214|            Spain|         0|         0|       222|David Fernández B...|       361|Estadio de la Cer...|               214|               Spain|\n",
      "+--------+----------+------------+----------+---------+-----------+--------------+----------------+-------------------+--------------------+----------------------+------------+--------------------+----------------+---------------+--------------------+-----------------+------------+--------------------+----------------+---------------+--------------------+-----------------+----------+----------+----------+--------------------+----------+--------------------+------------------+--------------------+\n",
      "only showing top 20 rows\n",
      "\n"
     ]
    }
   ],
   "source": [
    "df_flat.show()"
   ]
  },
  {
   "cell_type": "code",
   "execution_count": 81,
   "id": "7e509e43",
   "metadata": {},
   "outputs": [],
   "source": [
    "@F.pandas_udf(types.TimestampType())\n",
    "def get_datetime(date_str: pd.Series, time_str: pd.Series) -> pd.Series:\n",
    "  datetime_str = date_str.str.cat(time_str, sep=' ')\n",
    "\n",
    "  return pd.to_datetime(datetime_str)"
   ]
  },
  {
   "cell_type": "code",
   "execution_count": 82,
   "id": "d2a38abb",
   "metadata": {},
   "outputs": [],
   "source": [
    "df_flat = df_flat\\\n",
    "  .withColumn('match_datetime', get_datetime('match_date', 'kick_off'))\\\n",
    "  .drop('match_date', 'kick_off')"
   ]
  },
  {
   "cell_type": "code",
   "execution_count": 83,
   "id": "4bac6a57",
   "metadata": {},
   "outputs": [
    {
     "name": "stderr",
     "output_type": "stream",
     "text": [
      "25/04/16 17:21:10 WARN MemoryManager: Total allocation exceeds 95.00% (1,020,054,720 bytes) of heap memory\n",
      "Scaling row group sizes to 95.00% for 8 writers\n",
      "                                                                                \r"
     ]
    }
   ],
   "source": [
    "df_flat.write.parquet('./data/pq/matches')"
   ]
  },
  {
   "cell_type": "code",
   "execution_count": 84,
   "id": "6b2e2f1d",
   "metadata": {},
   "outputs": [],
   "source": [
    "spark.stop()"
   ]
  }
 ],
 "metadata": {
  "kernelspec": {
   "display_name": ".venv",
   "language": "python",
   "name": "python3"
  },
  "language_info": {
   "codemirror_mode": {
    "name": "ipython",
    "version": 3
   },
   "file_extension": ".py",
   "mimetype": "text/x-python",
   "name": "python",
   "nbconvert_exporter": "python",
   "pygments_lexer": "ipython3",
   "version": "3.9.6"
  }
 },
 "nbformat": 4,
 "nbformat_minor": 5
}
