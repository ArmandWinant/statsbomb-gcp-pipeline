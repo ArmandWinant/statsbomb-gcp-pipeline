{
 "cells": [
  {
   "cell_type": "code",
   "execution_count": 57,
   "id": "55c96fac",
   "metadata": {},
   "outputs": [],
   "source": [
    "from pyspark.sql import SparkSession, functions as F\n",
    "import pandas as pd\n",
    "import json"
   ]
  },
  {
   "cell_type": "code",
   "execution_count": 58,
   "id": "333765b6",
   "metadata": {},
   "outputs": [],
   "source": [
    "spark = SparkSession\\\n",
    "  .builder\\\n",
    "  .master(\"local[*]\")\\\n",
    "  .appName('test')\\\n",
    "  .config(\"spark.driver.bindAddress\", \"127.0.0.1\")\\\n",
    "  .getOrCreate()"
   ]
  },
  {
   "cell_type": "code",
   "execution_count": null,
   "id": "5bd14e1e",
   "metadata": {},
   "outputs": [
    {
     "name": "stderr",
     "output_type": "stream",
     "text": [
      "                                                                                \r"
     ]
    }
   ],
   "source": [
    "matches_df_nested = spark.read\\\n",
    "  .option(\"multiline\", \"true\")\\\n",
    "  .json(\"./data/matches/*/*\")"
   ]
  },
  {
   "cell_type": "code",
   "execution_count": null,
   "id": "cf0362b1",
   "metadata": {},
   "outputs": [
    {
     "name": "stdout",
     "output_type": "stream",
     "text": [
      "root\n",
      " |-- away_score: long (nullable = true)\n",
      " |-- away_team: struct (nullable = true)\n",
      " |    |-- away_team_gender: string (nullable = true)\n",
      " |    |-- away_team_group: string (nullable = true)\n",
      " |    |-- away_team_id: long (nullable = true)\n",
      " |    |-- away_team_name: string (nullable = true)\n",
      " |    |-- country: struct (nullable = true)\n",
      " |    |    |-- id: long (nullable = true)\n",
      " |    |    |-- name: string (nullable = true)\n",
      " |    |-- managers: array (nullable = true)\n",
      " |    |    |-- element: struct (containsNull = true)\n",
      " |    |    |    |-- country: struct (nullable = true)\n",
      " |    |    |    |    |-- id: long (nullable = true)\n",
      " |    |    |    |    |-- name: string (nullable = true)\n",
      " |    |    |    |-- dob: string (nullable = true)\n",
      " |    |    |    |-- id: long (nullable = true)\n",
      " |    |    |    |-- name: string (nullable = true)\n",
      " |    |    |    |-- nickname: string (nullable = true)\n",
      " |-- competition: struct (nullable = true)\n",
      " |    |-- competition_id: long (nullable = true)\n",
      " |    |-- competition_name: string (nullable = true)\n",
      " |    |-- country_name: string (nullable = true)\n",
      " |-- competition_stage: struct (nullable = true)\n",
      " |    |-- id: long (nullable = true)\n",
      " |    |-- name: string (nullable = true)\n",
      " |-- home_score: long (nullable = true)\n",
      " |-- home_team: struct (nullable = true)\n",
      " |    |-- country: struct (nullable = true)\n",
      " |    |    |-- id: long (nullable = true)\n",
      " |    |    |-- name: string (nullable = true)\n",
      " |    |-- home_team_gender: string (nullable = true)\n",
      " |    |-- home_team_group: string (nullable = true)\n",
      " |    |-- home_team_id: long (nullable = true)\n",
      " |    |-- home_team_name: string (nullable = true)\n",
      " |    |-- managers: array (nullable = true)\n",
      " |    |    |-- element: struct (containsNull = true)\n",
      " |    |    |    |-- country: struct (nullable = true)\n",
      " |    |    |    |    |-- id: long (nullable = true)\n",
      " |    |    |    |    |-- name: string (nullable = true)\n",
      " |    |    |    |-- dob: string (nullable = true)\n",
      " |    |    |    |-- id: long (nullable = true)\n",
      " |    |    |    |-- name: string (nullable = true)\n",
      " |    |    |    |-- nickname: string (nullable = true)\n",
      " |-- kick_off: string (nullable = true)\n",
      " |-- last_updated: string (nullable = true)\n",
      " |-- last_updated_360: string (nullable = true)\n",
      " |-- match_date: string (nullable = true)\n",
      " |-- match_id: long (nullable = true)\n",
      " |-- match_status: string (nullable = true)\n",
      " |-- match_status_360: string (nullable = true)\n",
      " |-- match_week: long (nullable = true)\n",
      " |-- metadata: struct (nullable = true)\n",
      " |    |-- data_version: string (nullable = true)\n",
      " |    |-- shot_fidelity_version: string (nullable = true)\n",
      " |    |-- xy_fidelity_version: string (nullable = true)\n",
      " |-- referee: struct (nullable = true)\n",
      " |    |-- country: struct (nullable = true)\n",
      " |    |    |-- id: long (nullable = true)\n",
      " |    |    |-- name: string (nullable = true)\n",
      " |    |-- id: long (nullable = true)\n",
      " |    |-- name: string (nullable = true)\n",
      " |-- season: struct (nullable = true)\n",
      " |    |-- season_id: long (nullable = true)\n",
      " |    |-- season_name: string (nullable = true)\n",
      " |-- stadium: struct (nullable = true)\n",
      " |    |-- country: struct (nullable = true)\n",
      " |    |    |-- id: long (nullable = true)\n",
      " |    |    |-- name: string (nullable = true)\n",
      " |    |-- id: long (nullable = true)\n",
      " |    |-- name: string (nullable = true)\n",
      "\n"
     ]
    }
   ],
   "source": [
    "matches_df_nested.printSchema()"
   ]
  },
  {
   "cell_type": "code",
   "execution_count": null,
   "id": "40e37c7c",
   "metadata": {},
   "outputs": [],
   "source": [
    "matches_df_flat = matches_df_nested \\\n",
    "  .select([\n",
    "    'match_id',\n",
    "    'match_date',\n",
    "    'competition.competition_name',\n",
    "    'competition_stage.name',\n",
    "    'season.season_name',\n",
    "    'match_week',\n",
    "    'kick_off',\n",
    "    'home_team.home_team_name',\n",
    "    'away_team.away_team_name',\n",
    "    'home_score',\n",
    "    'away_score',\n",
    "    'last_updated'\n",
    "  ])"
   ]
  },
  {
   "cell_type": "code",
   "execution_count": null,
   "id": "f1b911f1",
   "metadata": {},
   "outputs": [
    {
     "name": "stdout",
     "output_type": "stream",
     "text": [
      "+--------+----------+----------------+--------------+-----------+----------+------------+--------------------+--------------------+----------+----------+--------------------+\n",
      "|match_id|match_date|competition_name|          name|season_name|match_week|    kick_off|      home_team_name|      away_team_name|home_score|away_score|        last_updated|\n",
      "+--------+----------+----------------+--------------+-----------+----------+------------+--------------------+--------------------+----------+----------+--------------------+\n",
      "| 3825848|2015-09-23|         La Liga|Regular Season|  2015/2016|         5|20:00:00.000|          Levante UD|               Eibar|         2|         2|2023-02-21T15:19:...|\n",
      "| 3825895|2015-09-23|         La Liga|Regular Season|  2015/2016|         5|22:00:00.000|          Las Palmas|             Sevilla|         2|         0|2023-02-21T15:19:...|\n",
      "| 3825894|2016-05-01|         La Liga|Regular Season|  2015/2016|        36|18:15:00.000|RC Deportivo La C...|              Getafe|         0|         2|2022-08-30T12:53:...|\n",
      "| 3825855|2016-05-02|         La Liga|Regular Season|  2015/2016|        36|20:30:00.000|              Málaga|          Levante UD|         3|         1|2022-08-30T12:53:...|\n",
      "| 3825908|2016-05-15|         La Liga|Regular Season|  2015/2016|        38|19:00:00.000|            Espanyol|               Eibar|         4|         2|2022-04-06T22:39:...|\n",
      "| 3825883|2016-05-15|         La Liga|Regular Season|  2015/2016|        38|12:00:00.000|              Málaga|          Las Palmas|         4|         1|2022-08-30T13:15:...|\n",
      "| 3825900|2016-05-15|         La Liga|Regular Season|  2015/2016|        38|19:30:00.000|      Sporting Gijón|          Villarreal|         2|         0|2022-04-06T22:37:...|\n",
      "| 3825902|2016-05-15|         La Liga|Regular Season|  2015/2016|        38|19:30:00.000|      Rayo Vallecano|          Levante UD|         3|         1|2022-04-06T22:35:...|\n",
      "| 3825876|2016-05-15|         La Liga|Regular Season|  2015/2016|        38|19:30:00.000|          Real Betis|              Getafe|         2|         1|2022-04-06T22:34:...|\n",
      "| 3825846|2016-05-14|         La Liga|Regular Season|  2015/2016|        38|17:00:00.000|RC Deportivo La C...|         Real Madrid|         0|         2|2022-04-06T22:33:...|\n",
      "| 3825869|2016-05-14|         La Liga|Regular Season|  2015/2016|        38|19:30:00.000|       Athletic Club|             Sevilla|         3|         1|2022-08-30T13:07:...|\n",
      "| 3825882|2016-05-14|         La Liga|Regular Season|  2015/2016|        38|19:30:00.000|     Atlético Madrid|          Celta Vigo|         2|         0|2022-04-06T22:30:...|\n",
      "| 3825849|2016-05-13|         La Liga|Regular Season|  2015/2016|        38|20:30:00.000|            Valencia|       Real Sociedad|         0|         1|2022-04-06T22:29:...|\n",
      "| 3825860|2016-05-08|         La Liga|Regular Season|  2015/2016|        37|17:00:00.000|          Levante UD|     Atlético Madrid|         2|         1|2022-04-06T22:28:...|\n",
      "| 3825847|2016-04-23|         La Liga|Regular Season|  2015/2016|        35|22:05:00.000|               Eibar|RC Deportivo La C...|         1|         1|2022-03-26T14:52:...|\n",
      "| 3825817|2016-03-18|         La Liga|Regular Season|  2015/2016|        30|21:30:00.000|              Getafe|               Eibar|         1|         1|2022-05-08T21:31:...|\n",
      "| 3825778|2016-02-20|         La Liga|Regular Season|  2015/2016|        25|21:30:00.000|          Real Betis|      Sporting Gijón|         1|         1|2022-03-26T14:39:...|\n",
      "| 3825777|2016-02-19|         La Liga|Regular Season|  2015/2016|        25|21:30:00.000|          Levante UD|              Getafe|         3|         0|2022-05-08T21:01:...|\n",
      "| 3825740|2016-01-18|         La Liga|Regular Season|  2015/2016|        20|21:30:00.000|               Eibar|             Granada|         5|         1|2022-03-26T14:32:...|\n",
      "| 3825875|2016-04-24|         La Liga|Regular Season|  2015/2016|        35|20:30:00.000|          Villarreal|       Real Sociedad|         0|         0|2022-03-22T17:53:...|\n",
      "+--------+----------+----------------+--------------+-----------+----------+------------+--------------------+--------------------+----------+----------+--------------------+\n",
      "only showing top 20 rows\n",
      "\n"
     ]
    }
   ],
   "source": [
    "matches_df_flat.show()"
   ]
  },
  {
   "cell_type": "code",
   "execution_count": null,
   "id": "ca0f22b3",
   "metadata": {},
   "outputs": [
    {
     "data": {
      "text/plain": [
       "3433"
      ]
     },
     "execution_count": 63,
     "metadata": {},
     "output_type": "execute_result"
    }
   ],
   "source": [
    "matches_df_flat.count()"
   ]
  }
 ],
 "metadata": {
  "kernelspec": {
   "display_name": ".venv",
   "language": "python",
   "name": "python3"
  },
  "language_info": {
   "codemirror_mode": {
    "name": "ipython",
    "version": 3
   },
   "file_extension": ".py",
   "mimetype": "text/x-python",
   "name": "python",
   "nbconvert_exporter": "python",
   "pygments_lexer": "ipython3",
   "version": "3.9.6"
  }
 },
 "nbformat": 4,
 "nbformat_minor": 5
}
