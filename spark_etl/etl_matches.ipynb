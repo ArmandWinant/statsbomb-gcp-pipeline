{
 "cells": [
  {
   "cell_type": "code",
   "execution_count": 85,
   "id": "55c96fac",
   "metadata": {},
   "outputs": [],
   "source": [
    "from pyspark.sql import SparkSession, types, functions as F"
   ]
  },
  {
   "cell_type": "code",
   "execution_count": 106,
   "id": "333765b6",
   "metadata": {},
   "outputs": [],
   "source": [
    "spark = SparkSession\\\n",
    "  .builder\\\n",
    "  .master(\"local[*]\")\\\n",
    "  .appName('test')\\\n",
    "  .config(\"spark.driver.bindAddress\", \"127.0.0.1\")\\\n",
    "  .getOrCreate()"
   ]
  },
  {
   "cell_type": "code",
   "execution_count": 107,
   "id": "5bd14e1e",
   "metadata": {},
   "outputs": [
    {
     "name": "stderr",
     "output_type": "stream",
     "text": [
      "                                                                                \r"
     ]
    }
   ],
   "source": [
    "matches_df_nested = spark.read\\\n",
    "  .option(\"multiline\", \"true\")\\\n",
    "  .json(\"./data/matches/*/*\")"
   ]
  },
  {
   "cell_type": "code",
   "execution_count": 109,
   "id": "66045fdf",
   "metadata": {},
   "outputs": [
    {
     "name": "stdout",
     "output_type": "stream",
     "text": [
      "root\n",
      " |-- away_score: long (nullable = true)\n",
      " |-- away_team: struct (nullable = true)\n",
      " |    |-- away_team_gender: string (nullable = true)\n",
      " |    |-- away_team_group: string (nullable = true)\n",
      " |    |-- away_team_id: long (nullable = true)\n",
      " |    |-- away_team_name: string (nullable = true)\n",
      " |    |-- country: struct (nullable = true)\n",
      " |    |    |-- id: long (nullable = true)\n",
      " |    |    |-- name: string (nullable = true)\n",
      " |    |-- managers: array (nullable = true)\n",
      " |    |    |-- element: struct (containsNull = true)\n",
      " |    |    |    |-- country: struct (nullable = true)\n",
      " |    |    |    |    |-- id: long (nullable = true)\n",
      " |    |    |    |    |-- name: string (nullable = true)\n",
      " |    |    |    |-- dob: string (nullable = true)\n",
      " |    |    |    |-- id: long (nullable = true)\n",
      " |    |    |    |-- name: string (nullable = true)\n",
      " |    |    |    |-- nickname: string (nullable = true)\n",
      " |-- competition: struct (nullable = true)\n",
      " |    |-- competition_id: long (nullable = true)\n",
      " |    |-- competition_name: string (nullable = true)\n",
      " |    |-- country_name: string (nullable = true)\n",
      " |-- competition_stage: struct (nullable = true)\n",
      " |    |-- id: long (nullable = true)\n",
      " |    |-- name: string (nullable = true)\n",
      " |-- home_score: long (nullable = true)\n",
      " |-- home_team: struct (nullable = true)\n",
      " |    |-- country: struct (nullable = true)\n",
      " |    |    |-- id: long (nullable = true)\n",
      " |    |    |-- name: string (nullable = true)\n",
      " |    |-- home_team_gender: string (nullable = true)\n",
      " |    |-- home_team_group: string (nullable = true)\n",
      " |    |-- home_team_id: long (nullable = true)\n",
      " |    |-- home_team_name: string (nullable = true)\n",
      " |    |-- managers: array (nullable = true)\n",
      " |    |    |-- element: struct (containsNull = true)\n",
      " |    |    |    |-- country: struct (nullable = true)\n",
      " |    |    |    |    |-- id: long (nullable = true)\n",
      " |    |    |    |    |-- name: string (nullable = true)\n",
      " |    |    |    |-- dob: string (nullable = true)\n",
      " |    |    |    |-- id: long (nullable = true)\n",
      " |    |    |    |-- name: string (nullable = true)\n",
      " |    |    |    |-- nickname: string (nullable = true)\n",
      " |-- kick_off: string (nullable = true)\n",
      " |-- last_updated: string (nullable = true)\n",
      " |-- last_updated_360: string (nullable = true)\n",
      " |-- match_date: string (nullable = true)\n",
      " |-- match_id: long (nullable = true)\n",
      " |-- match_status: string (nullable = true)\n",
      " |-- match_status_360: string (nullable = true)\n",
      " |-- match_week: long (nullable = true)\n",
      " |-- metadata: struct (nullable = true)\n",
      " |    |-- data_version: string (nullable = true)\n",
      " |    |-- shot_fidelity_version: string (nullable = true)\n",
      " |    |-- xy_fidelity_version: string (nullable = true)\n",
      " |-- referee: struct (nullable = true)\n",
      " |    |-- country: struct (nullable = true)\n",
      " |    |    |-- id: long (nullable = true)\n",
      " |    |    |-- name: string (nullable = true)\n",
      " |    |-- id: long (nullable = true)\n",
      " |    |-- name: string (nullable = true)\n",
      " |-- season: struct (nullable = true)\n",
      " |    |-- season_id: long (nullable = true)\n",
      " |    |-- season_name: string (nullable = true)\n",
      " |-- stadium: struct (nullable = true)\n",
      " |    |-- country: struct (nullable = true)\n",
      " |    |    |-- id: long (nullable = true)\n",
      " |    |    |-- name: string (nullable = true)\n",
      " |    |-- id: long (nullable = true)\n",
      " |    |-- name: string (nullable = true)\n",
      "\n"
     ]
    }
   ],
   "source": [
    "matches_df_nested.printSchema()"
   ]
  },
  {
   "cell_type": "code",
   "execution_count": null,
   "id": "646f5a18",
   "metadata": {},
   "outputs": [],
   "source": [
    "matches_df_flat = matches_df_nested \\\n",
    "  .withColumn('match_id', F.col('match_id').cast(types.LongType())) \\\n",
    "  .withColumn('season_id', F.col('season.season_id').cast(types.IntegerType())) \\\n",
    "  .withColumn('season', F.col('season.season_name').cast(types.StringType())) \\\n",
    "  .withColumn('match_date', F.col('match_date').cast(types.DateType())) \\\n",
    "  .withColumn('kickoff_time', F.col('kick_off').cast(types.TimestampType())) \\\n",
    "  .withColumn('match_week', F.col('match_week').cast(types.IntegerType())) \\\n",
    "  .withColumn('competition_id', F.col('competition.competition_id').cast(types.IntegerType())) \\\n",
    "  .withColumn('competition_name', F.col('competition.competition_name').cast(types.StringType())) \\\n",
    "  .withColumn('competition_country', F.col('competition.country_name').cast(types.StringType())) \\\n",
    "  .withColumn('competition_stage_id', F.col('competition_stage.id').cast(types.IntegerType())) \\\n",
    "  .withColumn('competition_stage_name', F.col('competition_stage.name').cast(types.StringType())) \\\n",
    "  .withColumn('home_team_id', F.col('home_team.home_team_id').cast(types.IntegerType())) \\\n",
    "  .withColumn('home_team_name', F.col('home_team.home_team_name').cast(types.StringType())) \\\n",
    "  .withColumn('home_team_gender', F.col('home_team.home_team_gender').cast(types.StringType())) \\\n",
    "  .withColumn('home_team_country_id', F.col('home_team.home_team_gender').cast(types.IntegerType())) \\\n",
    "  .withColumn('home_team_country_name', F.col('home_team.home_team_gender').cast(types.StringType())) \\\n",
    "  .withColumn('home_team_group', F.col('home_team.home_team_group').cast(types.StringType())) \\\n",
    "  .withColumn('away_team_id', F.col('away_team.away_team_id').cast(types.IntegerType())) \\\n",
    "  .withColumn('away_team_name', F.col('away_team.away_team_name').cast(types.StringType())) \\\n",
    "  .withColumn('away_team_gender', F.col('away_team.away_team_gender').cast(types.StringType())) \\\n",
    "  .withColumn('away_team_country_id', F.col('away_team.away_team_gender').cast(types.IntegerType())) \\\n",
    "  .withColumn('away_team_country_name', F.col('away_team.away_team_gender').cast(types.StringType())) \\\n",
    "  .withColumn('away_team_group', F.col('away_team.away_team_group').cast(types.StringType())) \\\n",
    "  .withColumn('home_score', F.col('home_score').cast(types.IntegerType())) \\\n",
    "  .withColumn('away_score', F.col('away_score').cast(types.IntegerType())) \\\n",
    "  .withColumn('referee_id', F.col('referee.id').cast(types.IntegerType())) \\\n",
    "  .withColumn('referee_name', F.col('referee.name')) \\\n",
    "  .withColumn('stadium_id', F.col('stadium.id').cast(types.IntegerType())) \\\n",
    "  .withColumn('stadium_name', F.col('stadium.name').cast(types.StringType()))"
   ]
  },
  {
   "cell_type": "code",
   "execution_count": 103,
   "id": "456e856f",
   "metadata": {},
   "outputs": [
    {
     "name": "stdout",
     "output_type": "stream",
     "text": [
      "+----------+--------------------+--------------------+-------------------+----------+--------------------+------------+--------------------+----------------+----------+--------+------------+----------------+----------+-------------+--------------------+---------+--------------------+--------------+----------------+-------------------+--------------------+----------------------+----------------+------------+--------------------+--------------------+----------------------+---------------+----------------+------------+--------------------+--------------------+----------------------+---------------+-------------------+----------+--------------------+---------+----------+--------------------+\n",
      "|away_score|           away_team|         competition|  competition_stage|home_score|           home_team|    kick_off|        last_updated|last_updated_360|match_date|match_id|match_status|match_status_360|match_week|     metadata|             referee|   season|             stadium|competition_id|competition_name|competition_country|competition_stage_id|competition_stage_name|away_team_gender|away_team_id|      away_team_name|away_team_country_id|away_team_country_name|away_team_group|home_team_gender|home_team_id|      home_team_name|home_team_country_id|home_team_country_name|home_team_group|       kickoff_time|referee_id|        referee_name|season_id|stadium_id|        stadium_name|\n",
      "+----------+--------------------+--------------------+-------------------+----------+--------------------+------------+--------------------+----------------+----------+--------+------------+----------------+----------+-------------+--------------------+---------+--------------------+--------------+----------------+-------------------+--------------------+----------------------+----------------+------------+--------------------+--------------------+----------------------+---------------+----------------+------------+--------------------+--------------------+----------------------+---------------+-------------------+----------+--------------------+---------+----------+--------------------+\n",
      "|         2|{male, NULL, 322,...|{11, La Liga, Spain}|{1, Regular Season}|         2|{{214, Spain}, ma...|20:00:00.000|2023-02-21T15:19:...|            NULL|2015-09-23| 3825848|   available|     unscheduled|         5|{1.1.0, 2, 2}|                NULL|2015/2016|{{214, Spain}, 35...|            11|         La Liga|              Spain|                   1|        Regular Season|            male|         322|               Eibar|                NULL|                  male|           NULL|            male|         221|          Levante UD|                NULL|                  male|           NULL|2025-04-15 20:00:00|      NULL|                NULL|       27|       350|Estadio Ciudad de...|\n",
      "|         0|{male, NULL, 213,...|{11, La Liga, Spain}|{1, Regular Season}|         2|{{214, Spain}, ma...|22:00:00.000|2023-02-21T15:19:...|            NULL|2015-09-23| 3825895|   available|     unscheduled|         5|{1.1.0, 2, 2}|{{214, Spain}, 27...|2015/2016|{{214, Spain}, 35...|            11|         La Liga|              Spain|                   1|        Regular Season|            male|         213|             Sevilla|                NULL|                  male|           NULL|            male|         208|          Las Palmas|                NULL|                  male|           NULL|2025-04-15 22:00:00|      2728|Carlos del Cerro ...|       27|       357|Estadio de Gran C...|\n",
      "|         2|{male, NULL, 216,...|{11, La Liga, Spain}|{1, Regular Season}|         0|{{214, Spain}, ma...|18:15:00.000|2022-08-30T12:53:...|            NULL|2016-05-01| 3825894|   available|     unscheduled|        36|{1.1.0, 2, 2}|{{214, Spain}, 10...|2015/2016|{{214, Spain}, 46...|            11|         La Liga|              Spain|                   1|        Regular Season|            male|         216|              Getafe|                NULL|                  male|           NULL|            male|         219|RC Deportivo La C...|                NULL|                  male|           NULL|2025-04-15 18:15:00|      1008|   Carlos Clos Gómez|       27|      4658|Estadio Abanca-Ri...|\n",
      "|         1|{male, NULL, 221,...|{11, La Liga, Spain}|{1, Regular Season}|         3|{{214, Spain}, ma...|20:30:00.000|2022-08-30T12:53:...|            NULL|2016-05-02| 3825855|   available|     unscheduled|        36|{1.1.0, 2, 2}|{{214, Spain}, 24...|2015/2016|{{214, Spain}, 34...|            11|         La Liga|              Spain|                   1|        Regular Season|            male|         221|          Levante UD|                NULL|                  male|           NULL|            male|         223|              Málaga|                NULL|                  male|           NULL|2025-04-15 20:30:00|      2480|Iñaki Bikandi Gar...|       27|       346| Estadio La Rosaleda|\n",
      "|         2|{male, NULL, 322,...|{11, La Liga, Spain}|{1, Regular Season}|         4|{{214, Spain}, ma...|19:00:00.000|2022-04-06T22:39:...|            NULL|2016-05-15| 3825908|   available|     unscheduled|        38|{1.1.0, 2, 2}|{{214, Spain}, 26...|2015/2016|{{214, Spain}, 35...|            11|         La Liga|              Spain|                   1|        Regular Season|            male|         322|               Eibar|                NULL|                  male|           NULL|            male|         214|            Espanyol|                NULL|                  male|           NULL|2025-04-15 19:00:00|      2692|  Mario Melero López|       27|       351|        RCDE Stadium|\n",
      "|         1|{male, NULL, 208,...|{11, La Liga, Spain}|{1, Regular Season}|         4|{{214, Spain}, ma...|12:00:00.000|2022-08-30T13:15:...|            NULL|2016-05-15| 3825883|   available|     unscheduled|        38|{1.1.0, 2, 2}|{{214, Spain}, 26...|2015/2016|{{214, Spain}, 34...|            11|         La Liga|              Spain|                   1|        Regular Season|            male|         208|          Las Palmas|                NULL|                  male|           NULL|            male|         223|              Málaga|                NULL|                  male|           NULL|2025-04-15 12:00:00|      2602|Ricardo De Burgos...|       27|       346| Estadio La Rosaleda|\n",
      "|         0|{male, NULL, 222,...|{11, La Liga, Spain}|{1, Regular Season}|         2|{{214, Spain}, ma...|19:30:00.000|2022-04-06T22:37:...|            NULL|2016-05-15| 3825900|   available|     unscheduled|        38|{1.1.0, 2, 2}|{{214, Spain}, 22...|2015/2016|{{214, Spain}, 46...|            11|         La Liga|              Spain|                   1|        Regular Season|            male|         222|          Villarreal|                NULL|                  male|           NULL|            male|        1041|      Sporting Gijón|                NULL|                  male|           NULL|2025-04-15 19:30:00|       221|Alberto Undiano M...|       27|      4656|Estadio Municipal...|\n",
      "|         1|{male, NULL, 221,...|{11, La Liga, Spain}|{1, Regular Season}|         3|{{214, Spain}, ma...|19:30:00.000|2022-04-06T22:35:...|            NULL|2016-05-15| 3825902|   available|     unscheduled|        38|{1.1.0, 2, 2}|{{214, Spain}, 10...|2015/2016|{{214, Spain}, 46...|            11|         La Liga|              Spain|                   1|        Regular Season|            male|         221|          Levante UD|                NULL|                  male|           NULL|            male|         360|      Rayo Vallecano|                NULL|                  male|           NULL|2025-04-15 19:30:00|      1008|   Carlos Clos Gómez|       27|      4640| Estadio de Vallecas|\n",
      "|         1|{male, NULL, 216,...|{11, La Liga, Spain}|{1, Regular Season}|         2|{{214, Spain}, ma...|19:30:00.000|2022-04-06T22:34:...|            NULL|2016-05-15| 3825876|   available|     unscheduled|        38|{1.1.0, 2, 2}|{{214, Spain}, 18...|2015/2016|{{214, Spain}, 35...|            11|         La Liga|              Spain|                   1|        Regular Season|            male|         216|              Getafe|                NULL|                  male|           NULL|            male|         218|          Real Betis|                NULL|                  male|           NULL|2025-04-15 19:30:00|       183|   Jesús Gil Manzano|       27|       352|Estadio Benito Vi...|\n",
      "|         2|{male, NULL, 220,...|{11, La Liga, Spain}|{1, Regular Season}|         0|{{214, Spain}, ma...|17:00:00.000|2022-04-06T22:33:...|            NULL|2016-05-14| 3825846|   available|     unscheduled|        38|{1.1.0, 2, 2}|{{214, Spain}, 18...|2015/2016|{{214, Spain}, 46...|            11|         La Liga|              Spain|                   1|        Regular Season|            male|         220|         Real Madrid|                NULL|                  male|           NULL|            male|         219|RC Deportivo La C...|                NULL|                  male|           NULL|2025-04-15 17:00:00|       180|Antonio Miguel Ma...|       27|      4658|Estadio Abanca-Ri...|\n",
      "|         1|{male, NULL, 213,...|{11, La Liga, Spain}|{1, Regular Season}|         3|{{214, Spain}, ma...|19:30:00.000|2022-08-30T13:07:...|            NULL|2016-05-14| 3825869|   available|     unscheduled|        38|{1.1.0, 2, 2}|{{214, Spain}, 21...|2015/2016|{{214, Spain}, 34...|            11|         La Liga|              Spain|                   1|        Regular Season|            male|         213|             Sevilla|                NULL|                  male|           NULL|            male|         215|       Athletic Club|                NULL|                  male|           NULL|2025-04-15 19:30:00|       212|Alfonso Álvarez I...|       27|       345|    San Mamés Barria|\n",
      "|         0|{male, NULL, 209,...|{11, La Liga, Spain}|{1, Regular Season}|         2|{{214, Spain}, ma...|19:30:00.000|2022-04-06T22:30:...|            NULL|2016-05-14| 3825882|   available|     unscheduled|        38|{1.1.0, 2, 2}|{{214, Spain}, 22...|2015/2016|{{214, Spain}, 62...|            11|         La Liga|              Spain|                   1|        Regular Season|            male|         209|          Celta Vigo|                NULL|                  male|           NULL|            male|         212|     Atlético Madrid|                NULL|                  male|           NULL|2025-04-15 19:30:00|       222|David Fernández B...|       27|       625|Estadio Vicente C...|\n",
      "|         1|{male, NULL, 210,...|{11, La Liga, Spain}|{1, Regular Season}|         0|{{214, Spain}, ma...|20:30:00.000|2022-04-06T22:29:...|            NULL|2016-05-13| 3825849|   available|     unscheduled|        38|{1.1.0, 2, 2}|{{214, Spain}, 25...|2015/2016|{{214, Spain}, 34...|            11|         La Liga|              Spain|                   1|        Regular Season|            male|         210|       Real Sociedad|                NULL|                  male|           NULL|            male|         207|            Valencia|                NULL|                  male|           NULL|2025-04-15 20:30:00|      2535|Carlos Velasco Ca...|       27|       344| Estadio de Mestalla|\n",
      "|         1|{male, NULL, 212,...|{11, La Liga, Spain}|{1, Regular Season}|         2|{{214, Spain}, ma...|17:00:00.000|2022-04-06T22:28:...|            NULL|2016-05-08| 3825860|   available|     unscheduled|        37|{1.1.0, 2, 2}|{{214, Spain}, 21...|2015/2016|{{214, Spain}, 35...|            11|         La Liga|              Spain|                   1|        Regular Season|            male|         212|     Atlético Madrid|                NULL|                  male|           NULL|            male|         221|          Levante UD|                NULL|                  male|           NULL|2025-04-15 17:00:00|       211|José Luis Gonzále...|       27|       350|Estadio Ciudad de...|\n",
      "|         1|{male, NULL, 219,...|{11, La Liga, Spain}|{1, Regular Season}|         1|{{214, Spain}, ma...|22:05:00.000|2022-03-26T14:52:...|            NULL|2016-04-23| 3825847|   available|     unscheduled|        35|{1.1.0, 2, 2}|{{214, Spain}, 24...|2015/2016|{{214, Spain}, 34...|            11|         La Liga|              Spain|                   1|        Regular Season|            male|         219|RC Deportivo La C...|                NULL|                  male|           NULL|            male|         322|               Eibar|                NULL|                  male|           NULL|2025-04-15 22:05:00|      2419|Eduardo Prieto Ig...|       27|       347|Estadio Municipal...|\n",
      "|         1|{male, NULL, 322,...|{11, La Liga, Spain}|{1, Regular Season}|         1|{{214, Spain}, ma...|21:30:00.000|2022-05-08T21:31:...|            NULL|2016-03-18| 3825817|   available|     unscheduled|        30|{1.1.0, 2, 2}|{{214, Spain}, 21...|2015/2016|{{214, Spain}, 35...|            11|         La Liga|              Spain|                   1|        Regular Season|            male|         322|               Eibar|                NULL|                  male|           NULL|            male|         216|              Getafe|                NULL|                  male|           NULL|2025-04-15 21:30:00|       218|Ignacio Iglesias ...|       27|       354|Coliseum Alfonso ...|\n",
      "|         1|{male, NULL, 1041...|{11, La Liga, Spain}|{1, Regular Season}|         1|{{214, Spain}, ma...|21:30:00.000|2022-03-26T14:39:...|            NULL|2016-02-20| 3825778|   available|     unscheduled|        25|{1.1.0, 2, 2}|{{214, Spain}, 21...|2015/2016|{{214, Spain}, 35...|            11|         La Liga|              Spain|                   1|        Regular Season|            male|        1041|      Sporting Gijón|                NULL|                  male|           NULL|            male|         218|          Real Betis|                NULL|                  male|           NULL|2025-04-15 21:30:00|       212|Alfonso Álvarez I...|       27|       352|Estadio Benito Vi...|\n",
      "|         0|{male, NULL, 216,...|{11, La Liga, Spain}|{1, Regular Season}|         3|{{214, Spain}, ma...|21:30:00.000|2022-05-08T21:01:...|            NULL|2016-02-19| 3825777|   available|     unscheduled|        25|{1.1.0, 2, 2}|{{214, Spain}, 21...|2015/2016|{{214, Spain}, 35...|            11|         La Liga|              Spain|                   1|        Regular Season|            male|         216|              Getafe|                NULL|                  male|           NULL|            male|         221|          Levante UD|                NULL|                  male|           NULL|2025-04-15 21:30:00|       211|José Luis Gonzále...|       27|       350|Estadio Ciudad de...|\n",
      "|         1|{male, NULL, 1049...|{11, La Liga, Spain}|{1, Regular Season}|         5|{{214, Spain}, ma...|21:30:00.000|2022-03-26T14:32:...|            NULL|2016-01-18| 3825740|   available|     unscheduled|        20|{1.1.0, 2, 2}|{{214, Spain}, 26...|2015/2016|{{214, Spain}, 34...|            11|         La Liga|              Spain|                   1|        Regular Season|            male|        1049|             Granada|                NULL|                  male|           NULL|            male|         322|               Eibar|                NULL|                  male|           NULL|2025-04-15 21:30:00|      2625|José María Sánche...|       27|       347|Estadio Municipal...|\n",
      "|         0|{male, NULL, 210,...|{11, La Liga, Spain}|{1, Regular Season}|         0|{{214, Spain}, ma...|20:30:00.000|2022-03-22T17:53:...|            NULL|2016-04-24| 3825875|   available|     unscheduled|        35|{1.1.0, 2, 2}|{{214, Spain}, 22...|2015/2016|{{214, Spain}, 36...|            11|         La Liga|              Spain|                   1|        Regular Season|            male|         210|       Real Sociedad|                NULL|                  male|           NULL|            male|         222|          Villarreal|                NULL|                  male|           NULL|2025-04-15 20:30:00|       222|David Fernández B...|       27|       361|Estadio de la Cer...|\n",
      "+----------+--------------------+--------------------+-------------------+----------+--------------------+------------+--------------------+----------------+----------+--------+------------+----------------+----------+-------------+--------------------+---------+--------------------+--------------+----------------+-------------------+--------------------+----------------------+----------------+------------+--------------------+--------------------+----------------------+---------------+----------------+------------+--------------------+--------------------+----------------------+---------------+-------------------+----------+--------------------+---------+----------+--------------------+\n",
      "only showing top 20 rows\n",
      "\n"
     ]
    }
   ],
   "source": [
    "matches_df_flat.show()"
   ]
  },
  {
   "cell_type": "code",
   "execution_count": 77,
   "id": "cf0362b1",
   "metadata": {},
   "outputs": [
    {
     "name": "stdout",
     "output_type": "stream",
     "text": [
      "root\n",
      " |-- away_score: long (nullable = true)\n",
      " |-- away_team: struct (nullable = true)\n",
      " |    |-- away_team_gender: string (nullable = true)\n",
      " |    |-- away_team_group: string (nullable = true)\n",
      " |    |-- away_team_id: long (nullable = true)\n",
      " |    |-- away_team_name: string (nullable = true)\n",
      " |    |-- country: struct (nullable = true)\n",
      " |    |    |-- id: long (nullable = true)\n",
      " |    |    |-- name: string (nullable = true)\n",
      " |    |-- managers: array (nullable = true)\n",
      " |    |    |-- element: struct (containsNull = true)\n",
      " |    |    |    |-- country: struct (nullable = true)\n",
      " |    |    |    |    |-- id: long (nullable = true)\n",
      " |    |    |    |    |-- name: string (nullable = true)\n",
      " |    |    |    |-- dob: string (nullable = true)\n",
      " |    |    |    |-- id: long (nullable = true)\n",
      " |    |    |    |-- name: string (nullable = true)\n",
      " |    |    |    |-- nickname: string (nullable = true)\n",
      " |-- competition: struct (nullable = true)\n",
      " |    |-- competition_id: long (nullable = true)\n",
      " |    |-- competition_name: string (nullable = true)\n",
      " |    |-- country_name: string (nullable = true)\n",
      " |-- competition_stage: struct (nullable = true)\n",
      " |    |-- id: long (nullable = true)\n",
      " |    |-- name: string (nullable = true)\n",
      " |-- home_score: long (nullable = true)\n",
      " |-- home_team: struct (nullable = true)\n",
      " |    |-- country: struct (nullable = true)\n",
      " |    |    |-- id: long (nullable = true)\n",
      " |    |    |-- name: string (nullable = true)\n",
      " |    |-- home_team_gender: string (nullable = true)\n",
      " |    |-- home_team_group: string (nullable = true)\n",
      " |    |-- home_team_id: long (nullable = true)\n",
      " |    |-- home_team_name: string (nullable = true)\n",
      " |    |-- managers: array (nullable = true)\n",
      " |    |    |-- element: struct (containsNull = true)\n",
      " |    |    |    |-- country: struct (nullable = true)\n",
      " |    |    |    |    |-- id: long (nullable = true)\n",
      " |    |    |    |    |-- name: string (nullable = true)\n",
      " |    |    |    |-- dob: string (nullable = true)\n",
      " |    |    |    |-- id: long (nullable = true)\n",
      " |    |    |    |-- name: string (nullable = true)\n",
      " |    |    |    |-- nickname: string (nullable = true)\n",
      " |-- kick_off: string (nullable = true)\n",
      " |-- last_updated: string (nullable = true)\n",
      " |-- last_updated_360: string (nullable = true)\n",
      " |-- match_date: string (nullable = true)\n",
      " |-- match_id: long (nullable = true)\n",
      " |-- match_status: string (nullable = true)\n",
      " |-- match_status_360: string (nullable = true)\n",
      " |-- match_week: long (nullable = true)\n",
      " |-- metadata: struct (nullable = true)\n",
      " |    |-- data_version: string (nullable = true)\n",
      " |    |-- shot_fidelity_version: string (nullable = true)\n",
      " |    |-- xy_fidelity_version: string (nullable = true)\n",
      " |-- referee: struct (nullable = true)\n",
      " |    |-- country: struct (nullable = true)\n",
      " |    |    |-- id: long (nullable = true)\n",
      " |    |    |-- name: string (nullable = true)\n",
      " |    |-- id: long (nullable = true)\n",
      " |    |-- name: string (nullable = true)\n",
      " |-- season: struct (nullable = true)\n",
      " |    |-- season_id: long (nullable = true)\n",
      " |    |-- season_name: string (nullable = true)\n",
      " |-- stadium: struct (nullable = true)\n",
      " |    |-- country: struct (nullable = true)\n",
      " |    |    |-- id: long (nullable = true)\n",
      " |    |    |-- name: string (nullable = true)\n",
      " |    |-- id: long (nullable = true)\n",
      " |    |-- name: string (nullable = true)\n",
      "\n"
     ]
    }
   ],
   "source": [
    "matches_df_nested.printSchema()"
   ]
  },
  {
   "cell_type": "code",
   "execution_count": 78,
   "id": "40e37c7c",
   "metadata": {},
   "outputs": [],
   "source": [
    "matches_df_flat = matches_df_nested \\\n",
    "  .select([\n",
    "    'match_id',\n",
    "    'match_date',\n",
    "    'competition.competition_name',\n",
    "    'competition_stage.name',\n",
    "    'season.season_name',\n",
    "    'match_week',\n",
    "    'kick_off',\n",
    "    'home_team.home_team_name',\n",
    "    'away_team.away_team_name',\n",
    "    'home_score',\n",
    "    'away_score',\n",
    "    'last_updated'\n",
    "  ])"
   ]
  },
  {
   "cell_type": "code",
   "execution_count": 79,
   "id": "f1b911f1",
   "metadata": {},
   "outputs": [
    {
     "name": "stdout",
     "output_type": "stream",
     "text": [
      "+--------+----------+----------------+--------------+-----------+----------+------------+--------------------+--------------------+----------+----------+--------------------+\n",
      "|match_id|match_date|competition_name|          name|season_name|match_week|    kick_off|      home_team_name|      away_team_name|home_score|away_score|        last_updated|\n",
      "+--------+----------+----------------+--------------+-----------+----------+------------+--------------------+--------------------+----------+----------+--------------------+\n",
      "| 3825848|2015-09-23|         La Liga|Regular Season|  2015/2016|         5|20:00:00.000|          Levante UD|               Eibar|         2|         2|2023-02-21T15:19:...|\n",
      "| 3825895|2015-09-23|         La Liga|Regular Season|  2015/2016|         5|22:00:00.000|          Las Palmas|             Sevilla|         2|         0|2023-02-21T15:19:...|\n",
      "| 3825894|2016-05-01|         La Liga|Regular Season|  2015/2016|        36|18:15:00.000|RC Deportivo La C...|              Getafe|         0|         2|2022-08-30T12:53:...|\n",
      "| 3825855|2016-05-02|         La Liga|Regular Season|  2015/2016|        36|20:30:00.000|              Málaga|          Levante UD|         3|         1|2022-08-30T12:53:...|\n",
      "| 3825908|2016-05-15|         La Liga|Regular Season|  2015/2016|        38|19:00:00.000|            Espanyol|               Eibar|         4|         2|2022-04-06T22:39:...|\n",
      "| 3825883|2016-05-15|         La Liga|Regular Season|  2015/2016|        38|12:00:00.000|              Málaga|          Las Palmas|         4|         1|2022-08-30T13:15:...|\n",
      "| 3825900|2016-05-15|         La Liga|Regular Season|  2015/2016|        38|19:30:00.000|      Sporting Gijón|          Villarreal|         2|         0|2022-04-06T22:37:...|\n",
      "| 3825902|2016-05-15|         La Liga|Regular Season|  2015/2016|        38|19:30:00.000|      Rayo Vallecano|          Levante UD|         3|         1|2022-04-06T22:35:...|\n",
      "| 3825876|2016-05-15|         La Liga|Regular Season|  2015/2016|        38|19:30:00.000|          Real Betis|              Getafe|         2|         1|2022-04-06T22:34:...|\n",
      "| 3825846|2016-05-14|         La Liga|Regular Season|  2015/2016|        38|17:00:00.000|RC Deportivo La C...|         Real Madrid|         0|         2|2022-04-06T22:33:...|\n",
      "| 3825869|2016-05-14|         La Liga|Regular Season|  2015/2016|        38|19:30:00.000|       Athletic Club|             Sevilla|         3|         1|2022-08-30T13:07:...|\n",
      "| 3825882|2016-05-14|         La Liga|Regular Season|  2015/2016|        38|19:30:00.000|     Atlético Madrid|          Celta Vigo|         2|         0|2022-04-06T22:30:...|\n",
      "| 3825849|2016-05-13|         La Liga|Regular Season|  2015/2016|        38|20:30:00.000|            Valencia|       Real Sociedad|         0|         1|2022-04-06T22:29:...|\n",
      "| 3825860|2016-05-08|         La Liga|Regular Season|  2015/2016|        37|17:00:00.000|          Levante UD|     Atlético Madrid|         2|         1|2022-04-06T22:28:...|\n",
      "| 3825847|2016-04-23|         La Liga|Regular Season|  2015/2016|        35|22:05:00.000|               Eibar|RC Deportivo La C...|         1|         1|2022-03-26T14:52:...|\n",
      "| 3825817|2016-03-18|         La Liga|Regular Season|  2015/2016|        30|21:30:00.000|              Getafe|               Eibar|         1|         1|2022-05-08T21:31:...|\n",
      "| 3825778|2016-02-20|         La Liga|Regular Season|  2015/2016|        25|21:30:00.000|          Real Betis|      Sporting Gijón|         1|         1|2022-03-26T14:39:...|\n",
      "| 3825777|2016-02-19|         La Liga|Regular Season|  2015/2016|        25|21:30:00.000|          Levante UD|              Getafe|         3|         0|2022-05-08T21:01:...|\n",
      "| 3825740|2016-01-18|         La Liga|Regular Season|  2015/2016|        20|21:30:00.000|               Eibar|             Granada|         5|         1|2022-03-26T14:32:...|\n",
      "| 3825875|2016-04-24|         La Liga|Regular Season|  2015/2016|        35|20:30:00.000|          Villarreal|       Real Sociedad|         0|         0|2022-03-22T17:53:...|\n",
      "+--------+----------+----------------+--------------+-----------+----------+------------+--------------------+--------------------+----------+----------+--------------------+\n",
      "only showing top 20 rows\n",
      "\n"
     ]
    }
   ],
   "source": [
    "matches_df_flat.show()"
   ]
  },
  {
   "cell_type": "code",
   "execution_count": 80,
   "id": "ca0f22b3",
   "metadata": {},
   "outputs": [
    {
     "name": "stdout",
     "output_type": "stream",
     "text": [
      "root\n",
      " |-- match_id: long (nullable = true)\n",
      " |-- match_date: string (nullable = true)\n",
      " |-- competition_name: string (nullable = true)\n",
      " |-- name: string (nullable = true)\n",
      " |-- season_name: string (nullable = true)\n",
      " |-- match_week: long (nullable = true)\n",
      " |-- kick_off: string (nullable = true)\n",
      " |-- home_team_name: string (nullable = true)\n",
      " |-- away_team_name: string (nullable = true)\n",
      " |-- home_score: long (nullable = true)\n",
      " |-- away_score: long (nullable = true)\n",
      " |-- last_updated: string (nullable = true)\n",
      "\n"
     ]
    }
   ],
   "source": [
    "matches_df_flat.printSchema()"
   ]
  },
  {
   "cell_type": "code",
   "execution_count": 81,
   "id": "6b2e2f1d",
   "metadata": {},
   "outputs": [],
   "source": [
    "spark.stop()"
   ]
  }
 ],
 "metadata": {
  "kernelspec": {
   "display_name": ".venv",
   "language": "python",
   "name": "python3"
  },
  "language_info": {
   "codemirror_mode": {
    "name": "ipython",
    "version": 3
   },
   "file_extension": ".py",
   "mimetype": "text/x-python",
   "name": "python",
   "nbconvert_exporter": "python",
   "pygments_lexer": "ipython3",
   "version": "3.9.6"
  }
 },
 "nbformat": 4,
 "nbformat_minor": 5
}
