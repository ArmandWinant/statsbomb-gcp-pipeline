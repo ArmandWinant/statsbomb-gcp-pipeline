{
 "cells": [
  {
   "cell_type": "code",
   "execution_count": 85,
   "id": "55c96fac",
   "metadata": {},
   "outputs": [],
   "source": [
    "from pyspark.sql import SparkSession, types, functions as F"
   ]
  },
  {
   "cell_type": "code",
   "execution_count": 148,
   "id": "333765b6",
   "metadata": {},
   "outputs": [],
   "source": [
    "spark = SparkSession\\\n",
    "  .builder\\\n",
    "  .master(\"local[*]\")\\\n",
    "  .appName('test')\\\n",
    "  .config(\"spark.driver.bindAddress\", \"127.0.0.1\")\\\n",
    "  .getOrCreate()"
   ]
  },
  {
   "cell_type": "code",
   "execution_count": 149,
   "id": "293dce35",
   "metadata": {},
   "outputs": [
    {
     "name": "stderr",
     "output_type": "stream",
     "text": [
      "                                                                                \r"
     ]
    }
   ],
   "source": [
    "df_nested = spark.read\\\n",
    "  .option(\"multiline\", \"true\")\\\n",
    "  .json(\"./data/matches/*/*\")"
   ]
  },
  {
   "cell_type": "code",
   "execution_count": null,
   "id": "a93abe90",
   "metadata": {},
   "outputs": [],
   "source": [
    "df_flat = df_nested.select(\n",
    "    F.col('match_id').cast(types.IntegerType()),\n",
    "    F.col('match_date').cast(types.DateType()),\n",
    "    F.col('match_week').cast(types.IntegerType()),\n",
    "    F.col('kick_off').cast(types.TimestampType()),\n",
    "    F.col('season.season_id').cast(types.IntegerType()).alias('season_id'),\n",
    "    F.col('season.season_name').cast(types.StringType()).alias('season_name'),\n",
    "    F.col('competition.competition_id').cast(types.IntegerType()).alias('competition_id'),\n",
    "    F.col('competition.competition_name').cast(types.StringType()).alias('competition_name'),\n",
    "    F.col('competition.country_name').cast(types.StringType()).alias('competition_country'),\n",
    "    F.col('competition_stage.id').cast(types.IntegerType()).alias('competition_stage_id'),\n",
    "    F.col('competition_stage.name').cast(types.StringType()).alias('competition_stage_name'),\n",
    "    F.col('home_team.home_team_id').cast(types.IntegerType()).alias('home_team_id'),\n",
    "    F.col('home_team.home_team_name').cast(types.StringType()).alias('home_team_name'),\n",
    "    F.col('home_team.home_team_gender').cast(types.StringType()).alias('home_team_gender'),\n",
    "    F.col('home_team.home_team_group').cast(types.StringType()).alias('home_team_group'),\n",
    "    F.col('home_team.country.id').cast(types.IntegerType()).alias('home_team_country_id'),\n",
    "    F.col('home_team.country.name').cast(types.StringType()).alias('home_team_country'),\n",
    "    F.col('away_team.away_team_id').cast(types.IntegerType()).alias('away_team_id'),\n",
    "    F.col('away_team.away_team_name').cast(types.StringType()).alias('away_team_name'),\n",
    "    F.col('away_team.away_team_gender').cast(types.StringType()).alias('away_team_gender'),\n",
    "    F.col('away_team.away_team_group').cast(types.StringType()).alias('away_team_group'),\n",
    "    F.col('away_team.country.id').cast(types.IntegerType()).alias('away_team_country_id'),\n",
    "    F.col('away_team.country.name').cast(types.StringType()).alias('away_team_country'),\n",
    "    F.col('home_score').cast(types.IntegerType()),\n",
    "    F.col('away_score').cast(types.IntegerType()),\n",
    "    F.col('referee.id').cast(types.IntegerType()).alias('referee_id'),\n",
    "    F.col('referee.name').cast(types.StringType()).alias('referee_name'),\n",
    "    F.col('stadium.id').cast(types.IntegerType()).alias('stadium_id'),\n",
    "    F.col('stadium.name').cast(types.StringType()).alias('stadium_name'),\n",
    "    F.col('stadium.country.id').cast(types.IntegerType()).alias('stadium_country_id'),\n",
    "    F.col('stadium.country.name').cast(types.StringType()).alias('stadium_country_name')\n",
    ")"
   ]
  },
  {
   "cell_type": "code",
   "execution_count": 155,
   "id": "4bac6a57",
   "metadata": {},
   "outputs": [
    {
     "name": "stdout",
     "output_type": "stream",
     "text": [
      "root\n",
      " |-- match_id: integer (nullable = true)\n",
      " |-- match_date: date (nullable = true)\n",
      " |-- match_week: integer (nullable = true)\n",
      " |-- kick_off: timestamp (nullable = true)\n",
      " |-- season_id: integer (nullable = true)\n",
      " |-- season_name: string (nullable = true)\n",
      " |-- competition_id: integer (nullable = true)\n",
      " |-- competition_name: string (nullable = true)\n",
      " |-- competition_country: string (nullable = true)\n",
      " |-- competition_stage_id: integer (nullable = true)\n",
      " |-- competition_stage_name: string (nullable = true)\n",
      " |-- home_team_id: integer (nullable = true)\n",
      " |-- home_team_name: string (nullable = true)\n",
      " |-- home_team_gender: string (nullable = true)\n",
      " |-- home_team_group: string (nullable = true)\n",
      " |-- home_team_country_id: integer (nullable = true)\n",
      " |-- home_team_country: string (nullable = true)\n",
      " |-- away_team_id: integer (nullable = true)\n",
      " |-- away_team_name: string (nullable = true)\n",
      " |-- away_team_gender: string (nullable = true)\n",
      " |-- away_team_group: string (nullable = true)\n",
      " |-- away_team_country_id: integer (nullable = true)\n",
      " |-- away_team_country: string (nullable = true)\n",
      " |-- home_score: integer (nullable = true)\n",
      " |-- away_score: integer (nullable = true)\n",
      " |-- referee_id: integer (nullable = true)\n",
      " |-- CAST(referee.name AS STRING): string (nullable = true)\n",
      " |-- stadium_id: integer (nullable = true)\n",
      " |-- stadium_name: string (nullable = true)\n",
      " |-- stadium_country_id: integer (nullable = true)\n",
      " |-- stadium_country_name: string (nullable = true)\n",
      "\n"
     ]
    }
   ],
   "source": [
    "df_flat.printSchema()"
   ]
  },
  {
   "cell_type": "code",
   "execution_count": 147,
   "id": "6b2e2f1d",
   "metadata": {},
   "outputs": [],
   "source": [
    "spark.stop()"
   ]
  }
 ],
 "metadata": {
  "kernelspec": {
   "display_name": ".venv",
   "language": "python",
   "name": "python3"
  },
  "language_info": {
   "codemirror_mode": {
    "name": "ipython",
    "version": 3
   },
   "file_extension": ".py",
   "mimetype": "text/x-python",
   "name": "python",
   "nbconvert_exporter": "python",
   "pygments_lexer": "ipython3",
   "version": "3.9.6"
  }
 },
 "nbformat": 4,
 "nbformat_minor": 5
}
