{
 "cells": [
  {
   "cell_type": "code",
   "execution_count": 158,
   "id": "55c96fac",
   "metadata": {},
   "outputs": [],
   "source": [
    "from pyspark.sql import SparkSession, types, functions as F"
   ]
  },
  {
   "cell_type": "code",
   "execution_count": null,
   "id": "333765b6",
   "metadata": {},
   "outputs": [],
   "source": [
    "spark = SparkSession\\\n",
    "  .builder\\\n",
    "  .master(\"local[*]\")\\\n",
    "  .appName('matches_etl')\\\n",
    "  .config(\"spark.driver.bindAddress\", \"127.0.0.1\")\\\n",
    "  .getOrCreate()"
   ]
  },
  {
   "cell_type": "code",
   "execution_count": 160,
   "id": "293dce35",
   "metadata": {},
   "outputs": [
    {
     "name": "stderr",
     "output_type": "stream",
     "text": [
      "                                                                                \r"
     ]
    }
   ],
   "source": [
    "df_nested = spark.read\\\n",
    "  .option(\"multiline\", \"true\")\\\n",
    "  .json(\"./data/matches/*/*\")"
   ]
  },
  {
   "cell_type": "code",
   "execution_count": 161,
   "id": "a93abe90",
   "metadata": {},
   "outputs": [],
   "source": [
    "df_flat = df_nested.select(\n",
    "    F.col('match_id').cast(types.IntegerType()),\n",
    "    F.col('match_date').cast(types.DateType()),\n",
    "    F.col('match_week').cast(types.IntegerType()),\n",
    "    F.col('kick_off').cast(types.TimestampType()),\n",
    "    F.col('season.season_id').cast(types.IntegerType()).alias('season_id'),\n",
    "    F.col('season.season_name').cast(types.StringType()).alias('season_name'),\n",
    "    F.col('competition.competition_id').cast(types.IntegerType()).alias('competition_id'),\n",
    "    F.col('competition.competition_name').cast(types.StringType()).alias('competition_name'),\n",
    "    F.col('competition.country_name').cast(types.StringType()).alias('competition_country'),\n",
    "    F.col('competition_stage.id').cast(types.IntegerType()).alias('competition_stage_id'),\n",
    "    F.col('competition_stage.name').cast(types.StringType()).alias('competition_stage_name'),\n",
    "    F.col('home_team.home_team_id').cast(types.IntegerType()).alias('home_team_id'),\n",
    "    F.col('home_team.home_team_name').cast(types.StringType()).alias('home_team_name'),\n",
    "    F.col('home_team.home_team_gender').cast(types.StringType()).alias('home_team_gender'),\n",
    "    F.col('home_team.home_team_group').cast(types.StringType()).alias('home_team_group'),\n",
    "    F.col('home_team.country.id').cast(types.IntegerType()).alias('home_team_country_id'),\n",
    "    F.col('home_team.country.name').cast(types.StringType()).alias('home_team_country'),\n",
    "    F.col('away_team.away_team_id').cast(types.IntegerType()).alias('away_team_id'),\n",
    "    F.col('away_team.away_team_name').cast(types.StringType()).alias('away_team_name'),\n",
    "    F.col('away_team.away_team_gender').cast(types.StringType()).alias('away_team_gender'),\n",
    "    F.col('away_team.away_team_group').cast(types.StringType()).alias('away_team_group'),\n",
    "    F.col('away_team.country.id').cast(types.IntegerType()).alias('away_team_country_id'),\n",
    "    F.col('away_team.country.name').cast(types.StringType()).alias('away_team_country'),\n",
    "    F.col('home_score').cast(types.IntegerType()),\n",
    "    F.col('away_score').cast(types.IntegerType()),\n",
    "    F.col('referee.id').cast(types.IntegerType()).alias('referee_id'),\n",
    "    F.col('referee.name').cast(types.StringType()).alias('referee_name'),\n",
    "    F.col('stadium.id').cast(types.IntegerType()).alias('stadium_id'),\n",
    "    F.col('stadium.name').cast(types.StringType()).alias('stadium_name'),\n",
    "    F.col('stadium.country.id').cast(types.IntegerType()).alias('stadium_country_id'),\n",
    "    F.col('stadium.country.name').cast(types.StringType()).alias('stadium_country_name')\n",
    ")"
   ]
  },
  {
   "cell_type": "code",
   "execution_count": 162,
   "id": "4bac6a57",
   "metadata": {},
   "outputs": [],
   "source": [
    "df_flat.write.parquet('./data/pq/matches')"
   ]
  },
  {
   "cell_type": "code",
   "execution_count": 163,
   "id": "6b2e2f1d",
   "metadata": {},
   "outputs": [],
   "source": [
    "spark.stop()"
   ]
  }
 ],
 "metadata": {
  "kernelspec": {
   "display_name": ".venv",
   "language": "python",
   "name": "python3"
  },
  "language_info": {
   "codemirror_mode": {
    "name": "ipython",
    "version": 3
   },
   "file_extension": ".py",
   "mimetype": "text/x-python",
   "name": "python",
   "nbconvert_exporter": "python",
   "pygments_lexer": "ipython3",
   "version": "3.9.6"
  }
 },
 "nbformat": 4,
 "nbformat_minor": 5
}
