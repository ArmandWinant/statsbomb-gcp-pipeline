{
 "cells": [
  {
   "cell_type": "code",
   "execution_count": 1,
   "id": "520d9b7c",
   "metadata": {},
   "outputs": [],
   "source": [
    "from pyspark.sql import SparkSession, types, functions as F"
   ]
  },
  {
   "cell_type": "code",
   "execution_count": 2,
   "id": "ad51099e",
   "metadata": {},
   "outputs": [
    {
     "name": "stderr",
     "output_type": "stream",
     "text": [
      "Setting default log level to \"WARN\".\n",
      "To adjust logging level use sc.setLogLevel(newLevel). For SparkR, use setLogLevel(newLevel).\n",
      "25/04/16 17:21:46 WARN NativeCodeLoader: Unable to load native-hadoop library for your platform... using builtin-java classes where applicable\n"
     ]
    }
   ],
   "source": [
    "spark = SparkSession\\\n",
    "  .builder\\\n",
    "  .master(\"local[*]\")\\\n",
    "  .appName('events_etl')\\\n",
    "  .config(\"spark.driver.bindAddress\", \"127.0.0.1\")\\\n",
    "  .getOrCreate()"
   ]
  },
  {
   "cell_type": "code",
   "execution_count": 3,
   "id": "4aa91410",
   "metadata": {},
   "outputs": [
    {
     "name": "stderr",
     "output_type": "stream",
     "text": [
      "                                                                                \r"
     ]
    }
   ],
   "source": [
    "df_nested = spark.read\\\n",
    "  .option('multiline', 'true')\\\n",
    "  .json('./data/events')"
   ]
  },
  {
   "cell_type": "code",
   "execution_count": 4,
   "id": "23167f8a",
   "metadata": {},
   "outputs": [],
   "source": [
    "df_flat = df_nested.select(\n",
    "  F.col('id').cast(types.StringType()),\n",
    "  F.col('index').cast(types.IntegerType()),\n",
    "  F.col('period').cast(types.IntegerType()),\n",
    "  F.col('possession').cast(types.IntegerType()),\n",
    "  F.col('timestamp'),\n",
    "  F.col('minute').cast(types.IntegerType()),\n",
    "  F.col('second').cast(types.IntegerType()),\n",
    "  F.col('duration').cast(types.FloatType()),\n",
    "  F.col('location'),\n",
    "  # PLAY PATTERN\n",
    "  F.col('play_pattern.id').cast(types.IntegerType()).alias('play_pattern_id'),\n",
    "  F.col('play_pattern.name').cast(types.StringType()).alias('play_pattern'),\n",
    "  F.col('type.id').cast(types.IntegerType()).alias('event_type_id'),\n",
    "  F.col('type.name').cast(types.StringType()).alias('event_type_name'),\n",
    "  # TEAM\n",
    "  F.col('possession_team.id').cast(types.IntegerType()).alias('possession_team_id'),\n",
    "  F.col('possession_team.name').cast(types.StringType()).alias('possession_team_name'),\n",
    "  F.col('team.id').cast(types.IntegerType()).alias('event_team_id'),\n",
    "  F.col('team.name').cast(types.StringType()).alias('event_team_name'),\n",
    "  # PLAYER\n",
    "  F.col('player.id').cast(types.IntegerType()).alias('player_id'),\n",
    "  F.col('player.name').cast(types.StringType()).alias('player'),\n",
    "  F.col('position.id').cast(types.IntegerType()).alias('player_position_id'),\n",
    "  F.col('position.name').cast(types.StringType()).alias('player_position'),\n",
    "  # PLAY TYPES\n",
    "  F.col('50_50.outcome.id').cast(types.IntegerType()).alias('50_50_id'),\n",
    "  F.col('50_50.outcome.name').cast(types.StringType()).alias('50_50_outcome'),\n",
    "  F.col('bad_behaviour.card.id').cast(types.IntegerType()).alias('card_id'),\n",
    "  F.col('bad_behaviour.card.name').cast(types.StringType()).alias('card'),\n",
    "  F.col('ball_receipt.outcome.id').cast(types.IntegerType()).alias('ball_receipt_outcome_id'),\n",
    "  F.col('ball_receipt.outcome.name').cast(types.StringType()).alias('ball_receipt_outcome'),\n",
    "  F.col('ball_recovery.offensive').cast(types.BooleanType()).alias('ball_recovery_offensive'),\n",
    "  F.col('ball_recovery.recovery_failure').cast(types.BooleanType()).alias('ball_recovery_failure'),\n",
    "  F.col('block.deflection').cast(types.BooleanType()).alias('block_deflection'),\n",
    "  F.col('block.offensive').cast(types.BooleanType()).alias('block_offensive'),\n",
    "  F.col('block.save_block').cast(types.BooleanType()).alias('block_save'),\n",
    "  F.col('carry.end_location').alias('carry_end_location'),\n",
    "  F.col('clearance.aerial_won').cast(types.BooleanType()).alias('clearance_aerial_won'),\n",
    "  F.col('clearance.body_part.id').cast(types.IntegerType()).alias('clearance_body_part_id'),\n",
    "  F.col('clearance.body_part.name').cast(types.StringType()).alias('clearance_body_part'),\n",
    "  F.col('clearance.head').cast(types.BooleanType()).alias('clearance_head'),\n",
    "  F.col('clearance.left_foot').cast(types.BooleanType()).alias('clearance_left_foot'),\n",
    "  F.col('clearance.right_foot').cast(types.BooleanType()).alias('clearance_right_foot'),\n",
    "  F.col('clearance.other').cast(types.BooleanType()).alias('clearance_other'),\n",
    "  F.col('counterpress').cast(types.BooleanType()),\n",
    "  F.col('dribble.no_touch').cast(types.BooleanType()).alias('dribble_no_touch'),\n",
    "  F.col('dribble.nutmeg').cast(types.BooleanType()).alias('dribble_nutmeg'),\n",
    "  F.col('dribble.overrun').cast(types.BooleanType()).alias('dribble_overrun'),\n",
    "  F.col('dribble.outcome.id').cast(types.IntegerType()).alias('dribble_id'),\n",
    "  F.col('dribble.outcome.name').cast(types.StringType()).alias('dribble_name'),\n",
    "  F.col('duel.outcome.id').cast(types.IntegerType()).alias('duel_outcome_id'),\n",
    "  F.col('duel.outcome.name').cast(types.StringType()).alias('duel_outcome'),\n",
    "  F.col('duel.type.id').cast(types.IntegerType()).alias('duel_type_id'),\n",
    "  F.col('duel.type.name').cast(types.StringType()).alias('duel_type_name'),\n",
    "  F.col('foul_committed.advantage').cast(types.BooleanType()).alias('foul_committed_advantage'),\n",
    "  F.col('foul_committed.card.id').cast(types.IntegerType()).alias('foul_committed_card_id'),\n",
    "  F.col('foul_committed.card.name').cast(types.StringType()).alias('foul_committed_card'),\n",
    "  F.col('foul_committed.offensive').cast(types.BooleanType()).alias('foul_committed_offensive'),\n",
    "  F.col('foul_committed.penalty').cast(types.BooleanType()).alias('foul_committed_penalty'),\n",
    "  F.col('foul_committed.type.id').cast(types.IntegerType()).alias('foul_committed_type_id'),\n",
    "  F.col('foul_committed.type.name').cast(types.StringType()).alias('foul_committed_type'),\n",
    "  F.col('foul_won.advantage').cast(types.BooleanType()).alias('foul_won_advantage'),\n",
    "  F.col('foul_won.defensive').cast(types.BooleanType()).alias('foul_won_defensive'),\n",
    "  F.col('foul_won.penalty').cast(types.BooleanType()).alias('foul_won_penalty'),\n",
    "  F.col('half_start.late_video_start').cast(types.BooleanType()).alias('half_late_start'),\n",
    "  F.col('half_end.early_video_end').cast(types.BooleanType()).alias('half_early_end'),\n",
    "  F.col('injury_stoppage.in_chain').cast(types.BooleanType()).alias('injury_stoppage_in_chain'),\n",
    "  F.col('interception.outcome.id').cast(types.IntegerType()).alias('interception_outcome_id'),\n",
    "  F.col('interception.outcome.name').cast(types.StringType()).alias('interception_outcome'),\n",
    "  F.col('miscontrol.aerial_won').cast(types.BooleanType()).alias('miscontrol_aerial_won'),\n",
    "  F.col('pass.aerial_won').cast(types.BooleanType()).alias('pass_aerial_won'),\n",
    "  F.col('pass.angle').cast(types.FloatType()).alias('pass_angle'),\n",
    "  F.col('pass.assisted_shot_id').cast(types.StringType()).alias('pass_assisted_shot_id'),\n",
    "  F.col('pass.backheel').cast(types.BooleanType()).alias('backheel_pass'),\n",
    "  F.col('pass.body_part.id').cast(types.IntegerType()).alias('pass_body_part_id'),\n",
    "  F.col('pass.body_part.name').cast(types.StringType()).alias('pass_body_part'),\n",
    "  F.col('pass.cross').cast(types.BooleanType()).alias('pass_cross'),\n",
    "  F.col('pass.cut_back').cast(types.BooleanType()).alias('pass_cutback'),\n",
    "  F.col('pass.deflected').cast(types.BooleanType()).alias('pass_deflected'),\n",
    "  F.col('pass.end_location').alias('pass_endlocation'),\n",
    "  F.col('pass.goal_assist').cast(types.BooleanType()).alias('pass_goal_assist'),\n",
    "  F.col('pass.shot_assist').cast(types.BooleanType()).alias('pass_shot_assist'),\n",
    "  F.col('pass.height.id').cast(types.IntegerType()).alias('pass_height_id'),\n",
    "  F.col('pass.height.name').cast(types.StringType()).alias('pass_height'),\n",
    "  F.col('pass.inswinging').cast(types.BooleanType()).alias('pass_inswinging'),\n",
    "  F.col('pass.outswinging').cast(types.BooleanType()).alias('pass_outswinging'),\n",
    "  F.col('pass.length').cast(types.FloatType()).alias('pass_length'),\n",
    "  F.col('pass.miscommunication').cast(types.BooleanType()).alias('pass_miscommunication'),\n",
    "  F.col('pass.no_touch').cast(types.BooleanType()).alias('pass_no_touch'),\n",
    "  F.col('pass.outcome.id').cast(types.IntegerType()).alias('pass_outcome_id'),\n",
    "  F.col('pass.outcome.name').cast(types.StringType()).alias('pass_outcome'),\n",
    "  F.col('pass.recipient.id').cast(types.IntegerType()).alias('pass_recipient_id'),\n",
    "  F.col('pass.recipient.name').cast(types.StringType()).alias('pass_recipient_name'),\n",
    "  F.col('pass.straight').cast(types.BooleanType()).alias('pass_straight'),\n",
    "  F.col('pass.switch').cast(types.BooleanType()).alias('pass_switch'),\n",
    "  F.col('pass.through_ball').cast(types.BooleanType()).alias('pass_through_ball'),\n",
    "  F.col('pass.technique.id').cast(types.IntegerType()).alias('pass_technique_id'),\n",
    "  F.col('pass.technique.name').cast(types.StringType()).alias('pass_technique'),\n",
    "  F.col('pass.type.id').cast(types.IntegerType()).alias('pass_type_id'),\n",
    "  F.col('pass.type.name').cast(types.StringType()).alias('pass_type'),\n",
    "  F.col('player_off.permanent').cast(types.BooleanType()).alias('player_off_permanent'),\n",
    "  F.col('shot.aerial_won').cast(types.BooleanType()).alias('shot_aerial_won'),\n",
    "  F.col('shot.body_part.id').cast(types.IntegerType()).alias('shot_body_part_id'),\n",
    "  F.col('shot.body_part.name').cast(types.StringType()).alias('shot_body_part'),\n",
    "  F.col('shot.deflected').cast(types.BooleanType()).alias('shot_deflected'),\n",
    "  F.col('shot.end_location').alias('shot_endlocation'),\n",
    "  F.col('shot.first_time').cast(types.BooleanType()).alias('shot_first_time'),\n",
    "  F.col('shot.follows_dribble').cast(types.BooleanType()).alias('shot_follows_dribble'),\n",
    "  F.col('shot.key_pass_id').cast(types.IntegerType()).alias('shot_key_pass_id'),\n",
    "  F.col('shot.kick_off').cast(types.BooleanType()).alias('shot_kickoff'),\n",
    "  F.col('shot.one_on_one').cast(types.BooleanType()).alias('shot_one_on_one'),\n",
    "  F.col('shot.open_goal').cast(types.BooleanType()).alias('shot_open_goal'),\n",
    "  F.col('shot.outcome.id').cast(types.IntegerType()).alias('shot_outcome_id'),\n",
    "  F.col('shot.outcome.name').cast(types.StringType()).alias('shot_outcome'),\n",
    "  F.col('shot.redirect').cast(types.BooleanType()).alias('shot_redirect'),\n",
    "  F.col('shot.saved_off_target').cast(types.BooleanType()).alias('shot_saved_off_target'),\n",
    "  F.col('shot.saved_to_post').cast(types.BooleanType()).alias('shot_saved_to_post'),\n",
    "  F.col('shot.statsbomb_xg').cast(types.FloatType()).alias('shot_exg'),\n",
    "  F.col('shot.technique.id').cast(types.IntegerType()).alias('shot_technique_id'),\n",
    "  F.col('shot.technique.name').cast(types.StringType()).alias('shot_technique'),\n",
    "  F.col('shot.type.id').cast(types.IntegerType()).alias('shot_type_id'),\n",
    "  F.col('shot.type.name').cast(types.StringType()).alias('shot_type'),\n",
    "  F.col('substitution.outcome.id').cast(types.IntegerType()).alias('sub_outcome_id'),\n",
    "  F.col('substitution.outcome.name').cast(types.StringType()).alias('sub_outcome'),\n",
    "  F.col('substitution.replacement.id').cast(types.IntegerType()).alias('sub_replacement_id'),\n",
    "  F.col('substitution.replacement.name').cast(types.StringType()).alias('sub_replacement_name'),\n",
    "  F.col('goalkeeper.body_part.id').cast(types.IntegerType()).alias('goalkeeper_body_part_id'),\n",
    "  F.col('goalkeeper.body_part.name').cast(types.StringType()).alias('goalkeeper_body_part'),\n",
    "  F.col('goalkeeper.end_location').alias('goalkeeper_end_location'),\n",
    "  F.col('goalkeeper.lost_in_play').cast(types.BooleanType()).alias('goalkeeper_lost_in_play'),\n",
    "  F.col('goalkeeper.lost_out').cast(types.BooleanType()).alias('goalkeeper_lost_out'),\n",
    "  F.col('goalkeeper.outcome.id').cast(types.IntegerType()).alias('goalkeeper_outcome_id'),\n",
    "  F.col('goalkeeper.outcome.name').cast(types.StringType()).alias('goalkeeper_outcome'),\n",
    "  F.col('goalkeeper.penalty_saved_to_post').cast(types.BooleanType()).alias('goalkeeper_penalty_saved_to_post'),\n",
    "  F.col('goalkeeper.position.id').cast(types.IntegerType()).alias('goalkeeper_position_id'),\n",
    "  F.col('goalkeeper.position.name').cast(types.StringType()).alias('goalkeeper_position'),\n",
    "  F.col('goalkeeper.punched_out').cast(types.BooleanType()).alias('goalkeeper_punched_out'),\n",
    "  F.col('goalkeeper.saved_to_post').cast(types.BooleanType()).alias('goalkeeper_saved_to_post'),\n",
    "  F.col('goalkeeper.shot_saved_off_target').cast(types.BooleanType()).alias('goalkeeper_shot_saved_off_target'),\n",
    "  F.col('goalkeeper.shot_saved_to_post').cast(types.BooleanType()).alias('goalkeeper_shot_saved_to_post'),\n",
    "  F.col('goalkeeper.success_in_play').cast(types.BooleanType()).alias('goalkeeper_success_in_play'),\n",
    "  F.col('goalkeeper.success_out').cast(types.BooleanType()).alias('goalkeeper_success_out'),\n",
    "  F.col('goalkeeper.technique.id').cast(types.IntegerType()).alias('goalkeeper_technique_id'),\n",
    "  F.col('goalkeeper.technique.name').cast(types.StringType()).alias('goalkeeper_technique'),\n",
    "  F.col('goalkeeper.type.id').cast(types.IntegerType()).alias('goalkeeper_type_id'),\n",
    "  F.col('goalkeeper.type.name').cast(types.StringType()).alias('goalkeeper_type'),\n",
    "  F.col('off_camera').cast(types.BooleanType()),\n",
    "  F.col('out').cast(types.BooleanType()),\n",
    "  F.col('under_pressure').cast(types.BooleanType())\n",
    ")"
   ]
  },
  {
   "cell_type": "code",
   "execution_count": 5,
   "id": "983acbc4",
   "metadata": {},
   "outputs": [
    {
     "name": "stderr",
     "output_type": "stream",
     "text": [
      "25/04/16 17:22:07 WARN SparkStringUtils: Truncated the string representation of a plan since it was too large. This behavior can be adjusted by setting 'spark.sql.debug.maxToStringFields'.\n",
      "25/04/16 17:22:10 WARN MemoryManager: Total allocation exceeds 95.00% (1,020,054,720 bytes) of heap memory\n",
      "Scaling row group sizes to 95.00% for 8 writers\n",
      "25/04/16 17:22:19 WARN MemoryManager: Total allocation exceeds 95.00% (1,020,054,720 bytes) of heap memory\n",
      "Scaling row group sizes to 95.00% for 8 writers\n",
      "25/04/16 17:22:25 WARN MemoryManager: Total allocation exceeds 95.00% (1,020,054,720 bytes) of heap memory\n",
      "Scaling row group sizes to 95.00% for 8 writers\n",
      "25/04/16 17:22:30 WARN MemoryManager: Total allocation exceeds 95.00% (1,020,054,720 bytes) of heap memory\n",
      "Scaling row group sizes to 95.00% for 8 writers\n",
      "25/04/16 17:22:34 WARN MemoryManager: Total allocation exceeds 95.00% (1,020,054,720 bytes) of heap memory\n",
      "Scaling row group sizes to 95.00% for 8 writers\n",
      "                                                                                \r"
     ]
    }
   ],
   "source": [
    "df_flat.write.parquet('./data/pq/events')"
   ]
  },
  {
   "cell_type": "code",
   "execution_count": 6,
   "id": "9992afa0",
   "metadata": {},
   "outputs": [],
   "source": [
    "spark.stop()"
   ]
  }
 ],
 "metadata": {
  "kernelspec": {
   "display_name": ".venv",
   "language": "python",
   "name": "python3"
  },
  "language_info": {
   "codemirror_mode": {
    "name": "ipython",
    "version": 3
   },
   "file_extension": ".py",
   "mimetype": "text/x-python",
   "name": "python",
   "nbconvert_exporter": "python",
   "pygments_lexer": "ipython3",
   "version": "3.9.6"
  }
 },
 "nbformat": 4,
 "nbformat_minor": 5
}
